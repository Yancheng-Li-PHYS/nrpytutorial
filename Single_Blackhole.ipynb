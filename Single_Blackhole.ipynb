{
 "cells": [
  {
   "cell_type": "code",
   "execution_count": 1,
   "metadata": {},
   "outputs": [
    {
     "name": "stdout",
     "output_type": "stream",
     "text": [
      "Compiling executable...\n",
      "Executing `gcc -Ofast -fopenmp -march=native -funroll-loops BSSN/BrillLindquist_Playground.c -o BrillLindquist_Playground.exe -lm`...\n",
      "Finished executing in 40.4639458656311 seconds.\n",
      "Finished compilation.\n",
      "Executing `cmd /c BrillLindquist_Playground 72 12 2 1.0`...\n",
      "\u001b[2KIt: 2750 t=37.50 dt=1.36e-002 | 100.0%; ETA 0 s | t/h 1406.15 | gp/s 1.98e+005014\n",
      "Finished executing in 97.00781989097595 seconds.\n",
      "Executing `cmd /c BrillLindquist_Playground 96 16 2 1.0`...\n",
      "\u001b[2KIt: 4880 t=37.43 dt=7.67e-003 | 99.8%; ETA 1 s | t/h 495.39 | gp/s 2.20e+00555\n",
      "Finished executing in 273.30551767349243 seconds.\n",
      "Finished this code cell.\n"
     ]
    }
   ],
   "source": [
    "import cmdline_helper as cmd\n",
    "\n",
    "CFL_FACTOR=1.0\n",
    "cmd.C_compile(\"BSSN/BrillLindquist_Playground.c\", \"BrillLindquist_Playground\",compile_mode=\"optimized\")\n",
    "# cmd.C_compile(\"BSSN/BrillLindquist_Playground.c\", \"BrillLindquist_Playground\",compile_mode=\"safe\")\n",
    "# !icc -align -qopenmp -xHost -O2 -qopt-report=5 -qoverride-limits -qopt-report-phase ipo -qopt-report-phase vec -vec-threshold1 -qopt-prefetch=4 BSSN_Two_BHs_Collide_Ccodes/BrillLindquist_Playground.c -o BrillLindquist_Playground\n",
    "\n",
    "cmd.delete_existing_files(\"out*.txt\")\n",
    "cmd.delete_existing_files(\"out*.png\")\n",
    "cmd.Execute(\"BrillLindquist_Playground\", \"72 12 2 \"+str(CFL_FACTOR))\n",
    "cmd.Execute(\"BrillLindquist_Playground\", \"96 16 2 \"+str(CFL_FACTOR))\n",
    "    \n",
    "print(\"Finished this code cell.\")"
   ]
  },
  {
   "cell_type": "code",
   "execution_count": 2,
   "metadata": {},
   "outputs": [
    {
     "name": "stdout",
     "output_type": "stream",
     "text": [
      "\u001b[2KProcessing file out96-00004800.txt\r"
     ]
    }
   ],
   "source": [
    "## VISUALIZATION ANIMATION, PART 1: Generate PNGs, one per frame of movie ##\n",
    "\n",
    "import numpy as np\n",
    "from scipy.interpolate import griddata\n",
    "import matplotlib.pyplot as plt\n",
    "from matplotlib.pyplot import savefig\n",
    "from IPython.display import HTML\n",
    "import matplotlib.image as mgimg\n",
    "\n",
    "import glob\n",
    "import sys\n",
    "from matplotlib import animation\n",
    "\n",
    "globby = glob.glob('out96-00*.txt')\n",
    "file_list = []\n",
    "for x in sorted(globby):\n",
    "    file_list.append(x)\n",
    "\n",
    "bound=1.4\n",
    "pl_xmin = -bound\n",
    "pl_xmax = +bound\n",
    "pl_ymin = -bound\n",
    "pl_ymax = +bound\n",
    "\n",
    "for filename in file_list:\n",
    "    fig = plt.figure()\n",
    "    x,y,cf,Ham = np.loadtxt(filename).T #Transposed for easier unpacking\n",
    "\n",
    "    plotquantity = cf\n",
    "    plotdescription = \"Numerical Soln.\"\n",
    "    plt.title(\"Black Hole Head-on Collision (conf factor)\")\n",
    "    plt.xlabel(\"y/M\")\n",
    "    plt.ylabel(\"z/M\")\n",
    "\n",
    "    grid_x, grid_y = np.mgrid[pl_xmin:pl_xmax:300j, pl_ymin:pl_ymax:300j]\n",
    "    points = np.zeros((len(x), 2))\n",
    "    for i in range(len(x)):\n",
    "        # Zach says: No idea why x and y get flipped...\n",
    "        points[i][0] = y[i]\n",
    "        points[i][1] = x[i]\n",
    "\n",
    "    grid = griddata(points, plotquantity, (grid_x, grid_y), method='nearest')\n",
    "    gridcub = griddata(points, plotquantity, (grid_x, grid_y), method='cubic')\n",
    "    im = plt.imshow(gridcub, extent=(pl_xmin,pl_xmax, pl_ymin,pl_ymax))\n",
    "    ax = plt.colorbar()\n",
    "    ax.set_label(plotdescription)\n",
    "    savefig(filename+\".png\",dpi=150)\n",
    "    plt.close(fig)\n",
    "    sys.stdout.write(\"%c[2K\" % 27)\n",
    "    sys.stdout.write(\"Processing file \"+filename+\"\\r\")\n",
    "    sys.stdout.flush()"
   ]
  },
  {
   "cell_type": "code",
   "execution_count": 3,
   "metadata": {},
   "outputs": [],
   "source": [
    "## VISUALIZATION ANIMATION, PART 2: Combine PNGs to generate movie ##\n",
    "\n",
    "# https://stackoverflow.com/questions/14908576/how-to-remove-frame-from-matplotlib-pyplot-figure-vs-matplotlib-figure-frame\n",
    "# https://stackoverflow.com/questions/23176161/animating-pngs-in-matplotlib-using-artistanimation\n",
    "\n",
    "fig = plt.figure(frameon=False)\n",
    "ax = fig.add_axes([0, 0, 1, 1])\n",
    "ax.axis('off')\n",
    "\n",
    "myimages = []\n",
    "\n",
    "for i in range(len(file_list)):\n",
    "    img = mgimg.imread(file_list[i]+\".png\")\n",
    "    imgplot = plt.imshow(img)\n",
    "    myimages.append([imgplot])\n",
    "\n",
    "ani = animation.ArtistAnimation(fig, myimages, interval=100,  repeat_delay=1000)\n",
    "plt.close()\n",
    "ani.save('BH_Head-on_Collision.mp4', fps=5,dpi=150)"
   ]
  },
  {
   "cell_type": "markdown",
   "metadata": {},
   "source": [
    "## Set one of the blackholes very far away (position = +10000)\n",
    "## Same Mass (m1 = m2 = 0.5)"
   ]
  },
  {
   "cell_type": "code",
   "execution_count": 4,
   "metadata": {},
   "outputs": [
    {
     "data": {
      "text/html": [
       "<video width=\"480\" height=\"360\" controls>\n",
       "  <source src=\"BH_Head-on_Collision.mp4\" type=\"video/mp4\">\n",
       "</video>\n"
      ],
      "text/plain": [
       "<IPython.core.display.HTML object>"
      ]
     },
     "metadata": {},
     "output_type": "display_data"
    }
   ],
   "source": [
    "%%HTML\n",
    "<video width=\"480\" height=\"360\" controls>\n",
    "  <source src=\"BH_Head-on_Collision.mp4\" type=\"video/mp4\">\n",
    "</video>"
   ]
  },
  {
   "cell_type": "code",
   "execution_count": 1,
   "metadata": {},
   "outputs": [
    {
     "name": "stdout",
     "output_type": "stream",
     "text": [
      "Compiling executable...\n",
      "Executing `gcc -Ofast -fopenmp -march=native -funroll-loops BSSN/BrillLindquist_Playground.c -o BrillLindquist_Playground.exe -lm`...\n",
      "Finished executing in 15.051876783370972 seconds.\n",
      "Finished compilation.\n",
      "Executing `cmd /c BrillLindquist_Playground 72 12 2 1.0`...\n",
      "\u001b[2KIt: 2750 t=37.50 dt=1.36e-002 | 100.0%; ETA 0 s | t/h 2287.97 | gp/s 3.22e+005+014\n",
      "Finished executing in 59.98777365684509 seconds.\n",
      "Executing `cmd /c BrillLindquist_Playground 96 16 2 1.0`...\n",
      "\u001b[2KIt: 4880 t=37.43 dt=7.67e-003 | 99.8%; ETA 0 s | t/h 831.76 | gp/s 3.70e+00555014\n",
      "Finished executing in 162.73843359947205 seconds.\n",
      "Finished this code cell.\n"
     ]
    }
   ],
   "source": [
    "import cmdline_helper as cmd\n",
    "\n",
    "CFL_FACTOR=1.0\n",
    "cmd.C_compile(\"BSSN/BrillLindquist_Playground.c\", \"BrillLindquist_Playground\",compile_mode=\"optimized\")\n",
    "# cmd.C_compile(\"BSSN/BrillLindquist_Playground.c\", \"BrillLindquist_Playground\",compile_mode=\"safe\")\n",
    "# !icc -align -qopenmp -xHost -O2 -qopt-report=5 -qoverride-limits -qopt-report-phase ipo -qopt-report-phase vec -vec-threshold1 -qopt-prefetch=4 BSSN_Two_BHs_Collide_Ccodes/BrillLindquist_Playground.c -o BrillLindquist_Playground\n",
    "\n",
    "cmd.delete_existing_files(\"out*.txt\")\n",
    "cmd.delete_existing_files(\"out*.png\")\n",
    "cmd.Execute(\"BrillLindquist_Playground\", \"72 12 2 \"+str(CFL_FACTOR))\n",
    "cmd.Execute(\"BrillLindquist_Playground\", \"96 16 2 \"+str(CFL_FACTOR))\n",
    "    \n",
    "print(\"Finished this code cell.\")"
   ]
  },
  {
   "cell_type": "code",
   "execution_count": 7,
   "metadata": {},
   "outputs": [
    {
     "name": "stdout",
     "output_type": "stream",
     "text": [
      "\u001b[2KProcessing file out96-00004800.txt\r"
     ]
    }
   ],
   "source": [
    "## VISUALIZATION ANIMATION, PART 1: Generate PNGs, one per frame of movie ##\n",
    "\n",
    "import numpy as np\n",
    "from scipy.interpolate import griddata\n",
    "import matplotlib.pyplot as plt\n",
    "from matplotlib.pyplot import savefig\n",
    "from IPython.display import HTML\n",
    "import matplotlib.image as mgimg\n",
    "\n",
    "import glob\n",
    "import sys\n",
    "from matplotlib import animation\n",
    "\n",
    "globby = glob.glob('out96-00*.txt')\n",
    "file_list = []\n",
    "for x in sorted(globby):\n",
    "    file_list.append(x)\n",
    "\n",
    "bound=1.4\n",
    "pl_xmin = -bound\n",
    "pl_xmax = +bound\n",
    "pl_ymin = -bound\n",
    "pl_ymax = +bound\n",
    "\n",
    "for filename in file_list:\n",
    "    fig = plt.figure()\n",
    "    x,y,cf,Ham = np.loadtxt(filename).T #Transposed for easier unpacking\n",
    "\n",
    "    plotquantity = cf\n",
    "    plotdescription = \"Numerical Soln.\"\n",
    "    plt.title(\"Single Black hole (set one mass to be zero) (conf factor)\")\n",
    "    plt.xlabel(\"y/M\")\n",
    "    plt.ylabel(\"z/M\")\n",
    "\n",
    "    grid_x, grid_y = np.mgrid[pl_xmin:pl_xmax:300j, pl_ymin:pl_ymax:300j]\n",
    "    points = np.zeros((len(x), 2))\n",
    "    for i in range(len(x)):\n",
    "        # Zach says: No idea why x and y get flipped...\n",
    "        points[i][0] = y[i]\n",
    "        points[i][1] = x[i]\n",
    "\n",
    "    grid = griddata(points, plotquantity, (grid_x, grid_y), method='nearest')\n",
    "    gridcub = griddata(points, plotquantity, (grid_x, grid_y), method='cubic')\n",
    "    im = plt.imshow(gridcub, extent=(pl_xmin,pl_xmax, pl_ymin,pl_ymax))\n",
    "    ax = plt.colorbar()\n",
    "    ax.set_label(plotdescription)\n",
    "    savefig(filename+\".png\",dpi=150)\n",
    "    plt.close(fig)\n",
    "    sys.stdout.write(\"%c[2K\" % 27)\n",
    "    sys.stdout.write(\"Processing file \"+filename+\"\\r\")\n",
    "    sys.stdout.flush()"
   ]
  },
  {
   "cell_type": "code",
   "execution_count": 8,
   "metadata": {},
   "outputs": [],
   "source": [
    "## VISUALIZATION ANIMATION, PART 2: Combine PNGs to generate movie ##\n",
    "\n",
    "# https://stackoverflow.com/questions/14908576/how-to-remove-frame-from-matplotlib-pyplot-figure-vs-matplotlib-figure-frame\n",
    "# https://stackoverflow.com/questions/23176161/animating-pngs-in-matplotlib-using-artistanimation\n",
    "\n",
    "fig = plt.figure(frameon=False)\n",
    "ax = fig.add_axes([0, 0, 1, 1])\n",
    "ax.axis('off')\n",
    "\n",
    "myimages = []\n",
    "\n",
    "for i in range(len(file_list)):\n",
    "    img = mgimg.imread(file_list[i]+\".png\")\n",
    "    imgplot = plt.imshow(img)\n",
    "    myimages.append([imgplot])\n",
    "\n",
    "ani = animation.ArtistAnimation(fig, myimages, interval=100,  repeat_delay=1000)\n",
    "plt.close()\n",
    "ani.save('SingleBlack_Zeromass.mp4', fps=5,dpi=150)"
   ]
  },
  {
   "cell_type": "markdown",
   "metadata": {},
   "source": [
    "## Set the mass of one blackhole to be zero\n",
    "## Positions move up (1.0, 0.0)"
   ]
  },
  {
   "cell_type": "code",
   "execution_count": 9,
   "metadata": {},
   "outputs": [
    {
     "data": {
      "text/html": [
       "<video width=\"480\" height=\"360\" controls>\n",
       "  <source src=\"SingleBlack_Zeromass.mp4\" type=\"video/mp4\">\n",
       "</video>\n"
      ],
      "text/plain": [
       "<IPython.core.display.HTML object>"
      ]
     },
     "metadata": {},
     "output_type": "display_data"
    }
   ],
   "source": [
    "%%HTML\n",
    "<video width=\"480\" height=\"360\" controls>\n",
    "  <source src=\"SingleBlack_Zeromass.mp4\" type=\"video/mp4\">\n",
    "</video>"
   ]
  },
  {
   "cell_type": "code",
   "execution_count": 1,
   "metadata": {},
   "outputs": [
    {
     "name": "stdout",
     "output_type": "stream",
     "text": [
      "Compiling executable...\n",
      "Executing `gcc -Ofast -fopenmp -march=native -funroll-loops BSSN/BrillLindquist_Playground.c -o BrillLindquist_Playground.exe -lm`...\n",
      "Finished executing in 14.602142810821533 seconds.\n",
      "Finished compilation.\n",
      "Executing `cmd /c BrillLindquist_Playground 72 12 2 1.0`...\n",
      "\u001b[2KIt: 8250 t=112.49 dt=1.36e-002 | 100.0%; ETA 0 s | t/h 2340.87 | gp/s 3.30e+005014\n",
      "Finished executing in 173.58371257781982 seconds.\n",
      "Executing `cmd /c BrillLindquist_Playground 96 16 2 1.0`...\n",
      "\u001b[2KIt: 14660 t=112.44 dt=7.67e-003 | 99.9%; ETA 0 s | t/h 905.56 | gp/s 4.03e+0055\n",
      "Finished executing in 447.44769835472107 seconds.\n",
      "Finished this code cell.\n"
     ]
    }
   ],
   "source": [
    "import cmdline_helper as cmd\n",
    "\n",
    "CFL_FACTOR=1.0\n",
    "cmd.C_compile(\"BSSN/BrillLindquist_Playground.c\", \"BrillLindquist_Playground\",compile_mode=\"optimized\")\n",
    "# cmd.C_compile(\"BSSN/BrillLindquist_Playground.c\", \"BrillLindquist_Playground\",compile_mode=\"safe\")\n",
    "# !icc -align -qopenmp -xHost -O2 -qopt-report=5 -qoverride-limits -qopt-report-phase ipo -qopt-report-phase vec -vec-threshold1 -qopt-prefetch=4 BSSN_Two_BHs_Collide_Ccodes/BrillLindquist_Playground.c -o BrillLindquist_Playground\n",
    "\n",
    "cmd.delete_existing_files(\"out*.txt\")\n",
    "cmd.delete_existing_files(\"out*.png\")\n",
    "cmd.Execute(\"BrillLindquist_Playground\", \"72 12 2 \"+str(CFL_FACTOR))\n",
    "cmd.Execute(\"BrillLindquist_Playground\", \"96 16 2 \"+str(CFL_FACTOR))\n",
    "    \n",
    "print(\"Finished this code cell.\")"
   ]
  },
  {
   "cell_type": "code",
   "execution_count": 2,
   "metadata": {},
   "outputs": [
    {
     "name": "stdout",
     "output_type": "stream",
     "text": [
      "\u001b[2KProcessing file out96-00014600.txt\r"
     ]
    }
   ],
   "source": [
    "## VISUALIZATION ANIMATION, PART 1: Generate PNGs, one per frame of movie ##\n",
    "\n",
    "import numpy as np\n",
    "from scipy.interpolate import griddata\n",
    "import matplotlib.pyplot as plt\n",
    "from matplotlib.pyplot import savefig\n",
    "from IPython.display import HTML\n",
    "import matplotlib.image as mgimg\n",
    "\n",
    "import glob\n",
    "import sys\n",
    "from matplotlib import animation\n",
    "\n",
    "globby = glob.glob('out96-00*.txt')\n",
    "file_list = []\n",
    "for x in sorted(globby):\n",
    "    file_list.append(x)\n",
    "\n",
    "bound=1.4\n",
    "pl_xmin = -bound\n",
    "pl_xmax = +bound\n",
    "pl_ymin = -bound\n",
    "pl_ymax = +bound\n",
    "\n",
    "for filename in file_list:\n",
    "    fig = plt.figure()\n",
    "    x,y,cf,Ham = np.loadtxt(filename).T #Transposed for easier unpacking\n",
    "\n",
    "    plotquantity = cf\n",
    "    plotdescription = \"Numerical Soln.\"\n",
    "    plt.title(\"Single Black hole (Change both pos and mass) (conf factor)\")\n",
    "    plt.xlabel(\"y/M\")\n",
    "    plt.ylabel(\"z/M\")\n",
    "\n",
    "    grid_x, grid_y = np.mgrid[pl_xmin:pl_xmax:300j, pl_ymin:pl_ymax:300j]\n",
    "    points = np.zeros((len(x), 2))\n",
    "    for i in range(len(x)):\n",
    "        # Zach says: No idea why x and y get flipped...\n",
    "        points[i][0] = y[i]\n",
    "        points[i][1] = x[i]\n",
    "\n",
    "    grid = griddata(points, plotquantity, (grid_x, grid_y), method='nearest')\n",
    "    gridcub = griddata(points, plotquantity, (grid_x, grid_y), method='cubic')\n",
    "    im = plt.imshow(gridcub, extent=(pl_xmin,pl_xmax, pl_ymin,pl_ymax))\n",
    "    ax = plt.colorbar()\n",
    "    ax.set_label(plotdescription)\n",
    "    savefig(filename+\".png\",dpi=150)\n",
    "    plt.close(fig)\n",
    "    sys.stdout.write(\"%c[2K\" % 27)\n",
    "    sys.stdout.write(\"Processing file \"+filename+\"\\r\")\n",
    "    sys.stdout.flush()"
   ]
  },
  {
   "cell_type": "code",
   "execution_count": 3,
   "metadata": {},
   "outputs": [],
   "source": [
    "## VISUALIZATION ANIMATION, PART 2: Combine PNGs to generate movie ##\n",
    "\n",
    "# https://stackoverflow.com/questions/14908576/how-to-remove-frame-from-matplotlib-pyplot-figure-vs-matplotlib-figure-frame\n",
    "# https://stackoverflow.com/questions/23176161/animating-pngs-in-matplotlib-using-artistanimation\n",
    "\n",
    "fig = plt.figure(frameon=False)\n",
    "ax = fig.add_axes([0, 0, 1, 1])\n",
    "ax.axis('off')\n",
    "\n",
    "myimages = []\n",
    "\n",
    "for i in range(len(file_list)):\n",
    "    img = mgimg.imread(file_list[i]+\".png\")\n",
    "    imgplot = plt.imshow(img)\n",
    "    myimages.append([imgplot])\n",
    "\n",
    "ani = animation.ArtistAnimation(fig, myimages, interval=100,  repeat_delay=1000)\n",
    "plt.close()\n",
    "ani.save('SingleBlack_pos&mass.mp4', fps=5,dpi=150)"
   ]
  },
  {
   "cell_type": "markdown",
   "metadata": {},
   "source": [
    "## Set one blackhole position = 10000 and mass = 0\n",
    "# t_final = 15 * Rmax"
   ]
  },
  {
   "cell_type": "code",
   "execution_count": 4,
   "metadata": {},
   "outputs": [
    {
     "data": {
      "text/html": [
       "<video width=\"480\" height=\"360\" controls>\n",
       "  <source src=\"SingleBlack_pos&mass.mp4\" type=\"video/mp4\">\n",
       "</video>\n"
      ],
      "text/plain": [
       "<IPython.core.display.HTML object>"
      ]
     },
     "metadata": {},
     "output_type": "display_data"
    }
   ],
   "source": [
    "%%HTML\n",
    "<video width=\"480\" height=\"360\" controls>\n",
    "  <source src=\"SingleBlack_pos&mass.mp4\" type=\"video/mp4\">\n",
    "</video>"
   ]
  },
  {
   "cell_type": "code",
   "execution_count": null,
   "metadata": {},
   "outputs": [],
   "source": []
  }
 ],
 "metadata": {
  "kernelspec": {
   "display_name": "Python 3",
   "language": "python",
   "name": "python3"
  },
  "language_info": {
   "codemirror_mode": {
    "name": "ipython",
    "version": 3
   },
   "file_extension": ".py",
   "mimetype": "text/x-python",
   "name": "python",
   "nbconvert_exporter": "python",
   "pygments_lexer": "ipython3",
   "version": "3.7.3"
  }
 },
 "nbformat": 4,
 "nbformat_minor": 4
}
