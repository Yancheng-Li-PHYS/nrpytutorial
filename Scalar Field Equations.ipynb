{
 "cells": [
  {
   "cell_type": "markdown",
   "metadata": {},
   "source": [
    "\\begin{align}\n",
    "\\alpha & = \\frac{1}{\\sqrt{1+2M/r}} & \\beta^i & = \\frac{2Mx^i}{r+2M} & \\gamma_{ij} & = \\delta_{ij} + \\frac{2Mx_{i}x_{j}}{r^3} & H & = M/r\n",
    "\\end{align}"
   ]
  },
  {
   "cell_type": "markdown",
   "metadata": {},
   "source": [
    "\\begin{align}\n",
    "K & = 2\\alpha^3(1+H)x_{i}\\partial_{i}H + 2\\alpha H \\partial_{i}(x^{i}/r) & \\Gamma^k_{ij} & = 0.5 * ( \\gamma^{kl}(\\partial_{i}\\gamma_{lj})+\\partial_{j}\\gamma_{li}-\\partial_{l}\\gamma_{ij} )\n",
    "\\end{align}"
   ]
  },
  {
   "cell_type": "markdown",
   "metadata": {},
   "source": [
    "\\begin{align}\n",
    "\\partial_{t}\\varphi & = \\alpha\\Pi + \\beta^i\\partial_{i}\\varphi \\\\\n",
    "\\partial_{t}\\Pi & = \\alpha\\partial_{i}\\partial^{i}\\varphi + \\alpha (K\\Pi - \\gamma^{ij}\\Gamma^k_{ij}\\partial_{k}\\varphi+\\frac{dV}{d\\varphi}) + \\partial_{i}\\varphi \\partial^{i}\\alpha +\\beta^i\\partial_{i}\\Pi\n",
    "\\end{align}"
   ]
  },
  {
   "cell_type": "markdown",
   "metadata": {},
   "source": [
    "## That is "
   ]
  },
  {
   "cell_type": "markdown",
   "metadata": {},
   "source": [
    "\\begin{align}\n",
    "\\partial_{t}\\varphi & = \\alpha\\Pi + \\beta^x\\partial_{x}\\varphi + \\beta^y\\partial_{y}\\varphi + \\beta^z\\partial_{z}\\varphi\\\\\n",
    "& = \\alpha\\Pi + \\frac{2Mx}{r+2M}\\partial_{x}\\varphi + \\frac{2My}{r+2M}\\partial_{y}\\varphi + \\frac{2Mz}{r+2M}\\partial_{z}\\varphi\n",
    "\\end{align}"
   ]
  },
  {
   "cell_type": "markdown",
   "metadata": {},
   "source": [
    "x component of $\\partial_{t}\\Pi$ :\n",
    "\\begin{align}\n",
    "\\partial_{t}\\Pi & = \\alpha\\partial_{i}\\partial^{i}\\varphi \n",
    "+ \\alpha (K\\Pi - \\gamma^{ij}\\Gamma^k_{ij}\\partial_{k}\\varphi+\\frac{dV}{d\\varphi}) \n",
    "+ \\partial_{i}\\varphi \\partial^{i}\\alpha +\\beta^i\\partial_{i}\\Pi \\\\\n",
    "& = {\\alpha\\partial_{x}\\partial^{x}\\varphi \n",
    "+ \\alpha [(2\\alpha^3(1+H)x\\partial_{x}H + 2\\alpha H \\partial_{x}(x/r))\\Pi - \\gamma^{xj}\\Gamma^k_{xj}\\partial_{k}\\varphi+\\frac{dV}{d\\varphi}] \n",
    "+ \\partial_{x}\\varphi \\partial^{x}\\alpha +\\beta^x\\partial_{x}\\Pi} \n",
    "\\end{align}"
   ]
  },
  {
   "cell_type": "markdown",
   "metadata": {},
   "source": [
    "where $\\gamma^{xj}\\Gamma^k_{xj}$ is :\n",
    "\\begin{align}\n",
    "\\gamma^{xj}\\Gamma^k_{xj} & = \\gamma^{xx} \\Gamma^k_{xx} + \\gamma^{xy} \\Gamma^k_{xy} + \\gamma^{xz} \\Gamma^k_{xz}\\\\\n",
    "& = \\gamma^{xx} \\Gamma^x_{xx} + \\gamma^{xx} \\Gamma^y_{xx} + \\gamma^{xx} \\Gamma^z_{xx} + \\gamma^{xy} \\Gamma^x_{xy} + \\gamma^{xy} \\Gamma^y_{xy} + \\gamma^{xy} \\Gamma^z_{xy} + \\gamma^{xz} \\Gamma^x_{xz} + \\gamma^{xz} \\Gamma^y_{xz} + \\gamma^{xz} \\Gamma^z_{xz}\n",
    "\\end{align}"
   ]
  },
  {
   "cell_type": "markdown",
   "metadata": {},
   "source": [
    "Since $$\\Gamma^k_{ij}  = 0.5 * ( \\gamma^{kl}(\\partial_{i}\\gamma_{lj})+\\partial_{j}\\gamma_{li}-\\partial_{l}\\gamma_{ij} )$$\n",
    "Then that is:\n",
    "\\begin{align}\n",
    "\\Gamma^x_{xx} = 0.5 * ( \\gamma^{xl}(\\partial_{x}\\gamma_{lx})+\\partial_{x}\\gamma_{lx}-\\partial_{l}\\gamma_{xx} )\n",
    "\\end{align}"
   ]
  },
  {
   "cell_type": "markdown",
   "metadata": {},
   "source": [
    "## Scalar Wave"
   ]
  },
  {
   "cell_type": "markdown",
   "metadata": {},
   "source": [
    "The Scalar Wave Equations are:\n",
    "\\begin{align}\n",
    "\\partial_t u &= v \\\\\n",
    "\\partial_t v &= c^2 \\nabla^2 u.\n",
    "\\end{align}\n",
    "\n",
    "The second order derivative term is:\n",
    "\\begin{equation}\n",
    "\\left[\\partial_x^2 u(t,x)\\right]_j = \\frac{1}{(\\Delta x)^2}\n",
    "\\left(\n",
    "-\\frac{1}{12} \\left(u_{j+2} + u_{j-2}\\right) \n",
    "+ \\frac{4}{3}  \\left(u_{j+1} + u_{j-1}\\right)\n",
    "- \\frac{5}{2} u_j \\right)\n",
    "+ \\mathcal{O}\\left((\\Delta x)^4\\right).\n",
    "\\end{equation}\n"
   ]
  },
  {
   "cell_type": "markdown",
   "metadata": {},
   "source": [
    "## In our case"
   ]
  },
  {
   "cell_type": "markdown",
   "metadata": {},
   "source": [
    "$$(\\partial_x u)_0 \\approx \\frac{1}{(\\Delta x)} \\times \\left(\\frac{1}{12}( u_{-2} - u_{2}) + \\frac{2}{3}( -u_{-1} + u_{1})\\right)$$\n",
    "\\begin{equation}\n",
    "\\left[\\partial_x\\partial_y u(t,x,y)\\right]_j = \\frac{1}{(\\Delta x)(\\Delta y)}\n",
    "\\left(\n",
    "-\\frac{1}{12} \\left(u_{j+2} + u_{j-2}\\right) \n",
    "+ \\frac{4}{3}  \\left(u_{j+1} + u_{j-1}\\right)\n",
    "- \\frac{5}{2} u_j \\right)\n",
    "+ \\mathcal{O}\\left((\\Delta x\\Delta y)^2\\right).\n",
    "\\end{equation} (wrong!!)"
   ]
  },
  {
   "cell_type": "markdown",
   "metadata": {},
   "source": [
    "The inverse of $\\gamma$\n",
    "\\begin{align}\n",
    "\\gamma_{ij} & = \\delta_{ij} + \\frac{2Mx_{i}x_{j}}{r^3}\n",
    "\\end{align}\n",
    "\n",
    "$$ \\gamma = \\begin{pmatrix}\n",
    "1 + \\frac{2Mxx}{r^3} &  \\frac{2Mxy}{r^3} &  \\frac{2Mxz}{r^3} \\\\\n",
    "\\frac{2Myx}{r^3} & 1 + \\frac{2Myy}{r^3} & \\frac{2Myz}{r^3} \\\\\n",
    "\\frac{2Mzx}{r^3} & \\frac{2Mzy}{r^3} & 1 + \\frac{2Mzz}{r^3}\n",
    "\\end{pmatrix} $$"
   ]
  },
  {
   "cell_type": "markdown",
   "metadata": {},
   "source": [
    "So the inverse is:\n",
    "$$ \\gamma^{-1} = \\frac{r}{r + 2M} \\begin{pmatrix}\n",
    "1 + \\frac{2Myy}{r^3} + \\frac{2Mzz}{r^3} &  -\\frac{2Myx}{r^3} &  -\\frac{2Mzx}{r^3} \\\\\n",
    "-\\frac{2Mxy}{r^3} & 1 + \\frac{2Mxx}{r^3} + \\frac{2Mzz}{r^3} & \\frac{2Mzy}{r^3} \\\\\n",
    "-\\frac{2Mxz}{r^3} & -\\frac{2Myz}{r^3} & 1 + \\frac{2Mxx}{r^3} + \\frac{2Myy}{r^3}\n",
    "\\end{pmatrix} $$"
   ]
  },
  {
   "cell_type": "markdown",
   "metadata": {},
   "source": [
    "$$ \\gamma^{-1}\\gamma = \\frac{r}{r + 2M} \\begin{pmatrix}\n",
    "1 + \\frac{2M}{r} & 0 & 0\\\\\n",
    "0 & 1 + \\frac{2M}{r} & 0\\\\\n",
    "0 & 0 & 1 + \\frac{2M}{r}\n",
    "\\end{pmatrix} = 1$$ "
   ]
  },
  {
   "cell_type": "markdown",
   "metadata": {},
   "source": [
    "$$K  = 2\\alpha^3(1+H)x_{i}\\partial_{i}H + 2\\alpha H \\partial_{i}(x^{i}/r) $$"
   ]
  },
  {
   "cell_type": "markdown",
   "metadata": {},
   "source": [
    "\\begin{align}\n",
    "\\partial_{x} H & = -\\frac{Mx}{(x^2+y^2+z^2)^{3/2}} = -\\frac{Mx}{r^3} & \\partial_{y} H & = -\\frac{My}{(x^2+y^2+z^2)^{3/2}} = -\\frac{My}{r^3} & \\partial_{z} H & = -\\frac{Mz}{(x^2+y^2+z^2)^{3/2}} = -\\frac{Mz}{r^3}\n",
    "\\end{align}"
   ]
  },
  {
   "cell_type": "markdown",
   "metadata": {},
   "source": [
    "\\begin{align}\n",
    "\\partial_{x}(\\frac{x}{r}) & = \\dfrac{z^2+y^2}{\\left(x^2+z^2+y^2\\right)^\\frac{3}{2}} = \\frac{z^2+y^2}{r^3} & \\partial_{y}(\\frac{y}{r}) & = \\dfrac{z^2+x^2}{\\left(x^2+z^2+y^2\\right)^\\frac{3}{2}} = \\frac{z^2+x^2}{r^3} & \\partial_{z}(\\frac{z}{r}) & = \\dfrac{x^2+y^2}{\\left(x^2+z^2+y^2\\right)^\\frac{3}{2}} = \\frac{x^2+y^2}{r^3}\n",
    "\\end{align}"
   ]
  },
  {
   "cell_type": "markdown",
   "metadata": {},
   "source": [
    "$$ K = -2\\alpha^3(1+H)H + \\frac{4\\alpha H}{r}$$"
   ]
  },
  {
   "cell_type": "markdown",
   "metadata": {},
   "source": [
    "## First component\n",
    "$$\\alpha\\partial_{i}\\partial^{i}\\varphi = \\alpha\\gamma^{-1}\\partial_{i}\\partial_{j}\\varphi $$"
   ]
  },
  {
   "cell_type": "markdown",
   "metadata": {},
   "source": [
    "## Second component\n",
    "$$\\alpha (K\\Pi - \\gamma^{ij}\\Gamma^k_{ij}\\partial_{k}\\varphi)$$"
   ]
  },
  {
   "cell_type": "markdown",
   "metadata": {},
   "source": [
    "Where\n",
    "$$ \\partial_{x}\\gamma = \\begin{pmatrix}\n",
    "\\dfrac{4mx}{r^3}-\\dfrac{6mx^3}{r^5} & \\dfrac{2my}{r^3}-\\dfrac{6myx^2}{r^5} & \\dfrac{2mz}{r^3}-\\dfrac{6mzx^2}{r^5}\\\\\n",
    "\\dfrac{2my}{r^3}-\\dfrac{6myx^2}{r^5} & -\\dfrac{6my^2x}{r^5} & -\\dfrac{6myzx}{r^5} \\\\\n",
    "\\dfrac{2mz}{r^3}-\\dfrac{6mzx^2}{r^5} & -\\dfrac{6myzx}{r^5} & -\\dfrac{6mz^2x}{r^5}\n",
    "\\end{pmatrix} $$"
   ]
  },
  {
   "cell_type": "markdown",
   "metadata": {},
   "source": [
    "Simplify\n",
    "$$ \\partial_{x}\\gamma = \\frac{2M}{r^5}\\begin{pmatrix}\n",
    "2xr^2-3x^3 & yr^2-3yx^2 & zr^2-3zx^2\\\\\n",
    "yr^2-3yx^2 & -3y^2x & -3yzx \\\\\n",
    "zr^2-3zx^2 & -3yzx & -3z^2x\n",
    "\\end{pmatrix} $$"
   ]
  },
  {
   "cell_type": "markdown",
   "metadata": {},
   "source": [
    "And \n",
    "$$ \\partial_{y}\\gamma = \\frac{2M}{r^5}\\begin{pmatrix}\n",
    "-3x^2y & xr^2-3xy^2 & -3xyz\\\\\n",
    "xr^2-3xy^2 & 2yr^2 - 3y^3 & zr^2 - 3zy^2 \\\\\n",
    "-3xyz & zr^2 - 3zy^2 & -3z^2y\n",
    "\\end{pmatrix} $$"
   ]
  },
  {
   "cell_type": "markdown",
   "metadata": {},
   "source": [
    "$$ \\partial_{z}\\gamma = \\frac{2M}{r^5}\\begin{pmatrix}\n",
    "-3x^2z & -3xyz & xr^2-3xz^2\\\\\n",
    "-3xyz & -3y^2z & yr^2-3yz^2 \\\\\n",
    "xr^2-3xz^2 & yr^2-3yz^2 & 2zr^2-3z^3\n",
    "\\end{pmatrix} $$"
   ]
  },
  {
   "cell_type": "markdown",
   "metadata": {},
   "source": [
    "## Third component\n",
    "$$ \\partial_{i}\\varphi \\partial^{i}\\alpha = \\gamma^{-1} \\partial_{i}\\varphi \\partial_{j}\\alpha $$"
   ]
  },
  {
   "cell_type": "markdown",
   "metadata": {},
   "source": [
    "$$\\partial_{x}\\alpha = \\dfrac{mx}{\\left(x^2+z^2+y^2\\right)^\\frac{3}{4}\\left(\\sqrt{x^2+z^2+y^2}+2m\\right)^\\frac{3}{2}} = \\frac{mx}{r^\\frac{3}{2} (r+2m)^\\frac{3}{2}} $$"
   ]
  },
  {
   "cell_type": "code",
   "execution_count": 1,
   "metadata": {},
   "outputs": [],
   "source": [
    "%matplotlib inline\n",
    "import matplotlib.pyplot as plt\n",
    "import mpmath as mp\n",
    "import csv\n",
    "\n",
    "def file_reader(filename):\n",
    "    with open(filename) as file:\n",
    "        reader = csv.reader(file, delimiter=\" \")\n",
    "        data  = list(zip(*reader))\n",
    "        data0 = []\n",
    "        data1 = []\n",
    "        data2 = []\n",
    "        data3 = []\n",
    "        for i in range(len(data[0])):           \n",
    "            data0.append(float(data[0][i]))\n",
    "            data1.append(float(data[1][i]))\n",
    "            data2.append(float(data[2][i]))\n",
    "            data3.append(float(data[3][i]))\n",
    "        return data0,data1,data2,data3"
   ]
  },
  {
   "cell_type": "code",
   "execution_count": 4,
   "metadata": {},
   "outputs": [
    {
     "name": "stderr",
     "output_type": "stream",
     "text": [
      "D:\\Anaconda3\\lib\\site-packages\\ipykernel_launcher.py:17: RuntimeWarning: invalid value encountered in log10\n"
     ]
    }
   ],
   "source": [
    "from mpl_toolkits import mplot3d\n",
    "from matplotlib.pyplot import savefig\n",
    "from matplotlib import cm\n",
    "import numpy as np\n",
    "\n",
    "itermax = 10\n",
    "i = 0\n",
    "while i <= itermax:\n",
    "    filename = 'ScalarHair_resolution_100x100x100__iter_'+str(i)\n",
    "    x_iter_0,y_iter_0,num_0,exact_0 = file_reader(filename+\".txt\")\n",
    "    fig = plt.figure()\n",
    "    ax = plt.axes(projection='3d')\n",
    "    ax.set_xlabel('x_coord')\n",
    "    ax.set_ylabel('y_coord')\n",
    "    ax.set_zlabel('Numerical Soln.(log)')\n",
    "    ax.set_title('ScalarHair_resolution_100x100x100')\n",
    "    ax.scatter3D(x_iter_0,y_iter_0,np.log10(num_0), c=num_0, cmap='viridis',s=1)\n",
    "#    ax.plot_trisurf(x_iter_0,y_iter_0,np.log10(num_0),cmap=cm.jet, linewidth=0)\n",
    "    savefig(filename+\".png\",dpi=450)\n",
    "    plt.close(fig)\n",
    "    i+=1"
   ]
  },
  {
   "cell_type": "code",
   "execution_count": 5,
   "metadata": {},
   "outputs": [],
   "source": [
    "import matplotlib.image as mgimg\n",
    "from matplotlib import animation\n",
    "\n",
    "fig = plt.figure(frameon=False)\n",
    "ax = fig.add_axes([0, 0, 1, 1])\n",
    "ax.axis('off')\n",
    "\n",
    "myimages = []\n",
    "\n",
    "i = 0\n",
    "while i <= itermax:\n",
    "    filename = 'ScalarHair_resolution_100x100x100__iter_'+str(i)\n",
    "    img = mgimg.imread(filename+\".png\")\n",
    "    imgplot = plt.imshow(img)\n",
    "    myimages.append([imgplot])\n",
    "    i += 1\n",
    "\n",
    "ani = animation.ArtistAnimation(fig, myimages, interval=100,  repeat_delay=1000)\n",
    "plt.close()\n",
    "ani.save(\"ScalarHair_resolution_100x100x100_Gauss.mp4\", fps=5,dpi=450)"
   ]
  },
  {
   "cell_type": "code",
   "execution_count": 29,
   "metadata": {},
   "outputs": [
    {
     "data": {
      "text/html": [
       "\n",
       "    <video width=\"480\" height=\"360\" controls>\n",
       "        <source src=\"ScalarHair_resolution_100x100x100_constant.mp4\" type=\"video/mp4\"> \n",
       "    </video>\n"
      ],
      "text/plain": [
       "<IPython.core.display.HTML object>"
      ]
     },
     "execution_count": 29,
     "metadata": {},
     "output_type": "execute_result"
    }
   ],
   "source": [
    "from IPython.display import HTML\n",
    "#the filename needed to be changed manually\n",
    "\n",
    "HTML(\"\"\"\n",
    "    <video width=\"480\" height=\"360\" controls>\n",
    "        <source src=\"ScalarHair_resolution_100x100x100_constant.mp4\" type=\"video/mp4\"> \n",
    "    </video>\n",
    "\"\"\")"
   ]
  },
  {
   "cell_type": "code",
   "execution_count": 6,
   "metadata": {},
   "outputs": [
    {
     "data": {
      "text/html": [
       "\n",
       "    <video width=\"480\" height=\"360\" controls>\n",
       "        <source src=\"ScalarHair_resolution_100x100x100_Gauss.mp4\" type=\"video/mp4\"> \n",
       "    </video>\n"
      ],
      "text/plain": [
       "<IPython.core.display.HTML object>"
      ]
     },
     "execution_count": 6,
     "metadata": {},
     "output_type": "execute_result"
    }
   ],
   "source": [
    "from IPython.display import HTML\n",
    "#the filename needed to be changed manually\n",
    "\n",
    "HTML(\"\"\"\n",
    "    <video width=\"480\" height=\"360\" controls>\n",
    "        <source src=\"ScalarHair_resolution_100x100x100_Gauss.mp4\" type=\"video/mp4\"> \n",
    "    </video>\n",
    "\"\"\")"
   ]
  },
  {
   "cell_type": "markdown",
   "metadata": {},
   "source": [
    "$\\partial_t B^i = \\beta^j \\bar{D}_j B^i\n",
    "                       + \\frac{3}{4} ( \\partial_t \\bar{\\Lambda}^{i} - \\beta^j \\bar{D}_j \\bar{\\Lambda}^{i} ) \n",
    "                       - \\eta B^{i}\n",
    "                         = \\beta^j B^i_{,j} + \\beta^j \\bar{\\Gamma}^i_{mj} B^m\n",
    "                       + \\frac{3}{4}[ \\partial_t \\bar{\\Lambda}^{i} \n",
    "                                    - \\beta^j (\\bar{\\Lambda}^i_{,j} + \\bar{\\Gamma}^i_{mj} \\bar{\\Lambda}^m)] \n",
    "                       - \\eta B^{i}$"
   ]
  },
  {
   "cell_type": "code",
   "execution_count": null,
   "metadata": {},
   "outputs": [],
   "source": []
  }
 ],
 "metadata": {
  "kernelspec": {
   "display_name": "Python 3",
   "language": "python",
   "name": "python3"
  },
  "language_info": {
   "codemirror_mode": {
    "name": "ipython",
    "version": 3
   },
   "file_extension": ".py",
   "mimetype": "text/x-python",
   "name": "python",
   "nbconvert_exporter": "python",
   "pygments_lexer": "ipython3",
   "version": "3.7.3"
  }
 },
 "nbformat": 4,
 "nbformat_minor": 4
}
