{
 "cells": [
  {
   "cell_type": "markdown",
   "metadata": {},
   "source": [
    "# BSSN scalar field\n",
    "\n",
    "## This module implements a basic numerical relativity code to evolve a scalar field profile in *spherical coordinates*\n",
    "\n",
    "### This is a spherically symmetric problem, so we can set the symmetry about the $\\theta$- and $\\phi$-axes. Not sampling in the $\\theta$ and $\\phi$  directions greatly speeds up the simulation.\n",
    "\n",
    "\n",
    "### NRPy+ Source Code for this module: \n",
    "1. [BSSN_SF/ID_array_psi.py](BSSN_SF/ID_array_psi.py): Initial data to be input later; sets all ADM variables in Cartesian basis: \n",
    "1. [BSSN_SF/CartesianADMID_to_BSSNCurvilinearID.py](BSSN_SF/CartesianADMID_to_BSSNCurvilinearID.py); [\\[**tutorial**\\]](Tutorial-ADM_Initial_Data-Converting_ADMCartesian_to_BSSNCurvilinear.ipynb): Cartesian ADM$\\to$Curvilinear BSSN converter function\n",
    "1. [BSSN_SF/BSSN_ID_function_string.py](BSSN_SF/BSSN_ID_function_string.py): Sets up the C code string enabling initial data be set up in a point-by-point fashion\n",
    "1. [BSSN_SF/BSSN_Constraints.py](BSSN_SF/BSSNConstraints.py); [\\[**tutorial**\\]](Tutorial-BSSNConstraints.ipynb): Hamiltonian constraint in BSSN curvilinear basis/coordinates\n",
    "1. [BSSN_SF/BSSN_RHSs.py](BSSN_SF/BSSN_RHSs.py); [\\[**tutorial**\\]](Tutorial-BSSNCurvilinear.ipynb): Generates the right-hand sides for the BSSN evolution equations and the evolution of the scalar field in singular, curvilinear coordinates\n",
    "\n",
    "Here we use NRPy+ to generate the C source code necessary to set up arbitrary initial data, to be input from an array in the C code later. Then we use it to generate the RHS expressions for [Method of Lines](https://reference.wolfram.com/language/tutorial/NDSolveMethodOfLines.html) time integration based on the [explicit Runge-Kutta fourth-order scheme](https://en.wikipedia.org/wiki/Runge%E2%80%93Kutta_methods) (RK4)."
   ]
  },
  {
   "cell_type": "code",
   "execution_count": 1,
   "metadata": {},
   "outputs": [],
   "source": [
    "# First we import needed core NRPy+ modules\n",
    "from outputC import *\n",
    "import NRPy_param_funcs as par\n",
    "import grid as gri\n",
    "import loop as lp\n",
    "import indexedexp as ixp\n",
    "import finite_difference as fin\n",
    "import reference_metric as rfm\n",
    "\n",
    "# Set spatial dimension (must be 3 for BSSN)\n",
    "DIM = 3\n",
    "par.set_parval_from_str(\"grid::DIM\",DIM)\n",
    "\n",
    "# Then we set the coordinate system for the numerical grid\n",
    "par.set_parval_from_str(\"reference_metric::CoordSystem\",\"Spherical\")\n",
    "rfm.reference_metric() # Create ReU, ReDD needed for rescaling B-L initial data, generating BSSN RHSs, etc.\n",
    "\n",
    "# Then we set theta and phi to be the symmetry axes; i.e., axis \"12\", corresponding to the i1 and i2 directions. \n",
    "#      This sets all spatial derivatives in the phi direction to zero.\n",
    "par.set_parval_from_str(\"indexedexp::symmetry_axes\",\"12\")"
   ]
  },
  {
   "cell_type": "markdown",
   "metadata": {},
   "source": [
    "## Step 2a: First import arbitrary ADM initial data to be input from a file from the BSSN.ID_array_psi NRPy+ module\n",
    "\n",
    "These initial data are expressed in the Cartesian coordinate basis (i.e., vectors and tensors are expressed in Cartesian components)."
   ]
  },
  {
   "cell_type": "code",
   "execution_count": 2,
   "metadata": {},
   "outputs": [],
   "source": [
    "import BSSN_SF.ID_array_psi as idp\n",
    "idp.ID_array_psi()"
   ]
  },
  {
   "cell_type": "markdown",
   "metadata": {},
   "source": [
    "\n",
    "## Step 2b: Next transform the initial data ADM quantities in Cartesian coordinates to BSSN quantities in curvilinear coordinates, using the BSSN.CartesianADMID_to_BSSNCurvilinearID NRPy+ module and output result to file."
   ]
  },
  {
   "cell_type": "code",
   "execution_count": 3,
   "metadata": {},
   "outputs": [],
   "source": [
    "import BSSN_SF.CartesianADMID_to_BSSNCurvilinearID as ctob\n",
    "cf,hDD,lambdaU,aDD,trK,alpha,vetU,betU = \\\n",
    "    ctob.Convert_Cartesian_ADM_to_BSSN_curvilinear(idp.Cartxyz, idp.gammaCartDD, \n",
    "                                                   idp.KCartDD, idp.alphaCart, idp.betaCartU, idp.BCartU)\n",
    "# Now output the initial data to file:\n",
    "with open(\"BSSN_SF/ID_array_psi.h\",\"w\") as file:\n",
    "    file.write(idp.returnfunction)"
   ]
  },
  {
   "cell_type": "markdown",
   "metadata": {},
   "source": [
    "## Step 3A: Output BSSN RHS expressions"
   ]
  },
  {
   "cell_type": "code",
   "execution_count": 4,
   "metadata": {
    "scrolled": true
   },
   "outputs": [
    {
     "name": "stdout",
     "output_type": "stream",
     "text": [
      "Generating C code for BSSN RHSs in Spherical coordinates.\n",
      "Finished in 55.06638956069946 seconds.\n"
     ]
    }
   ],
   "source": [
    "import BSSN_SF.BSSN_RHSs as rhs\n",
    "# Set the *covariant*, second-order Gamma-driving shift condition\n",
    "par.set_parval_from_str(\"BSSN_SF.BSSN_RHSs::ShiftEvolutionOption\", \"GammaDriving2ndOrder_Covariant\", )\n",
    "rhs.BSSN_RHSs()\n",
    "\n",
    "import time\n",
    "print(\"Generating C code for BSSN RHSs in \"+par.parval_from_str(\"reference_metric::CoordSystem\")+\" coordinates.\")\n",
    "start = time.time()\n",
    "\n",
    "BSSN_evol_rhss = [ \\\n",
    "                  lhrh(lhs=gri.gfaccess(\"rhs_gfs\",\"aDD00\"),rhs=rhs.a_rhsDD[0][0]),\n",
    "                  lhrh(lhs=gri.gfaccess(\"rhs_gfs\",\"aDD01\"),rhs=rhs.a_rhsDD[0][1]),\n",
    "                  lhrh(lhs=gri.gfaccess(\"rhs_gfs\",\"aDD02\"),rhs=rhs.a_rhsDD[0][2]),\n",
    "                  lhrh(lhs=gri.gfaccess(\"rhs_gfs\",\"aDD11\"),rhs=rhs.a_rhsDD[1][1]),\n",
    "                  lhrh(lhs=gri.gfaccess(\"rhs_gfs\",\"aDD12\"),rhs=rhs.a_rhsDD[1][2]),\n",
    "                  lhrh(lhs=gri.gfaccess(\"rhs_gfs\",\"aDD22\"),rhs=rhs.a_rhsDD[2][2]),\n",
    "                  lhrh(lhs=gri.gfaccess(\"rhs_gfs\",\"alpha\"),rhs=rhs.alpha_rhs),\n",
    "                  lhrh(lhs=gri.gfaccess(\"rhs_gfs\",\"betU0\"),rhs=rhs.bet_rhsU[0]),\n",
    "                  lhrh(lhs=gri.gfaccess(\"rhs_gfs\",\"betU1\"),rhs=rhs.bet_rhsU[1]),\n",
    "                  lhrh(lhs=gri.gfaccess(\"rhs_gfs\",\"betU2\"),rhs=rhs.bet_rhsU[2]),\n",
    "                  lhrh(lhs=gri.gfaccess(\"rhs_gfs\",\"cf\"),   rhs=rhs.cf_rhs),\n",
    "                  lhrh(lhs=gri.gfaccess(\"rhs_gfs\",\"hDD00\"),rhs=rhs.h_rhsDD[0][0]),\n",
    "                  lhrh(lhs=gri.gfaccess(\"rhs_gfs\",\"hDD01\"),rhs=rhs.h_rhsDD[0][1]),\n",
    "                  lhrh(lhs=gri.gfaccess(\"rhs_gfs\",\"hDD02\"),rhs=rhs.h_rhsDD[0][2]),\n",
    "                  lhrh(lhs=gri.gfaccess(\"rhs_gfs\",\"hDD11\"),rhs=rhs.h_rhsDD[1][1]),\n",
    "                  lhrh(lhs=gri.gfaccess(\"rhs_gfs\",\"hDD12\"),rhs=rhs.h_rhsDD[1][2]),\n",
    "                  lhrh(lhs=gri.gfaccess(\"rhs_gfs\",\"hDD22\"),rhs=rhs.h_rhsDD[2][2]),\n",
    "                  lhrh(lhs=gri.gfaccess(\"rhs_gfs\",\"lambdaU0\"),rhs=rhs.lambda_rhsU[0]),\n",
    "                  lhrh(lhs=gri.gfaccess(\"rhs_gfs\",\"lambdaU1\"),rhs=rhs.lambda_rhsU[1]),\n",
    "                  lhrh(lhs=gri.gfaccess(\"rhs_gfs\",\"lambdaU2\"),rhs=rhs.lambda_rhsU[2]),\n",
    "                  lhrh(lhs=gri.gfaccess(\"rhs_gfs\",\"trK\"),  rhs=rhs.trK_rhs),\n",
    "                  lhrh(lhs=gri.gfaccess(\"rhs_gfs\",\"vetU0\"),rhs=rhs.vet_rhsU[0]),\n",
    "                  lhrh(lhs=gri.gfaccess(\"rhs_gfs\",\"vetU1\"),rhs=rhs.vet_rhsU[1]),\n",
    "                  lhrh(lhs=gri.gfaccess(\"rhs_gfs\",\"vetU2\"),rhs=rhs.vet_rhsU[2]),\n",
    "                  lhrh(lhs=gri.gfaccess(\"rhs_gfs\",\"vv\"),rhs=rhs.vv_rhs),\n",
    "                  lhrh(lhs=gri.gfaccess(\"rhs_gfs\",\"uu\"),rhs=rhs.uu_rhs)]\n",
    "\n",
    "BSSN_RHSs_string = fin.FD_outputC(\"returnstring\",BSSN_evol_rhss, params=\"outCverbose=False\",upwindcontrolvec=rhs.betaU)\n",
    "end = time.time()\n",
    "print(\"Finished in \"+str(end-start)+\" seconds.\")\n",
    "\n",
    "with open(\"BSSN_SF/BSSN_RHSs.h\", \"w\") as file:\n",
    "    file.write(lp.loop([\"i2\",\"i1\",\"i0\"],[\"NGHOSTS\",\"NGHOSTS\",\"NGHOSTS\"],\n",
    "                       [\"NGHOSTS+Nxx[2]\",\"NGHOSTS+Nxx[1]\",\"NGHOSTS+Nxx[0]\"],\n",
    "                       [\"1\",\"1\",\"1\"],[\"const REAL invdx0 = 1.0/dxx[0];\\n\"+\n",
    "                                      \"const REAL invdx1 = 1.0/dxx[1];\\n\"+\n",
    "                                      \"const REAL invdx2 = 1.0/dxx[2];\\n\"+\n",
    "                                      \"#pragma omp parallel for\",\n",
    "                                      \"    const REAL xx2 = xx[2][i2];\",\n",
    "                                      \"        const REAL xx1 = xx[1][i1];\"],\"\",\n",
    "                                     \"const REAL xx0 = xx[0][i0];\\n\"+BSSN_RHSs_string))"
   ]
  },
  {
   "cell_type": "markdown",
   "metadata": {},
   "source": [
    "## Step 3B: Output the Hamiltonian constraint"
   ]
  },
  {
   "cell_type": "code",
   "execution_count": 16,
   "metadata": {},
   "outputs": [
    {
     "name": "stdout",
     "output_type": "stream",
     "text": [
      "Generating C code for Hamiltonian constraint\n",
      "Finished in 17.95710277557373 seconds.\n"
     ]
    }
   ],
   "source": [
    "import BSSN_SF.BSSNConstraints as bssncon\n",
    "bssncon.BSSNConstraints()\n",
    "\n",
    "H = gri.register_gridfunctions(\"AUX\",\"H\")\n",
    "import time\n",
    "print(\"Generating C code for Hamiltonian constraint\")\n",
    "start = time.time()\n",
    "Hamiltonianstring = fin.FD_outputC(\"returnstring\",lhrh(lhs=gri.gfaccess(\"aux_gfs\",\"H\"),rhs=bssncon.H), \n",
    "                                   params=\"outCverbose=False\")\n",
    "end = time.time()\n",
    "print(\"Finished in \"+str(end-start)+\" seconds.\")\n",
    "\n",
    "with open(\"BSSN_SF/Hamiltonian.h\", \"w\") as file:\n",
    "    file.write(lp.loop([\"i2\",\"i1\",\"i0\"],[\"NGHOSTS\",\"NGHOSTS\",\"NGHOSTS\"],\n",
    "                       [\"NGHOSTS+Nxx[2]\",\"NGHOSTS+Nxx[1]\",\"NGHOSTS+Nxx[0]\"],\n",
    "                       [\"1\",\"1\",\"1\"],[\"const REAL invdx0 = 1.0/dxx[0];\\n\"+\n",
    "                                      \"const REAL invdx1 = 1.0/dxx[1];\\n\"+\n",
    "                                      \"const REAL invdx2 = 1.0/dxx[2];\\n\"+\n",
    "                                      \"#pragma omp parallel for\",\n",
    "                                      \"    const REAL xx2 = xx[2][i2];\",\n",
    "                                      \"        const REAL xx1 = xx[1][i1];\"],\"\",\n",
    "                                     \"const REAL xx0 = xx[0][i0];\\n\"+Hamiltonianstring))"
   ]
  },
  {
   "cell_type": "markdown",
   "metadata": {},
   "source": [
    "## Step 4: Apply singular, curvilinear coordinate boundary conditions [*a la* Section IV.E of the SENR/NRPy+ paper](https://arxiv.org/abs/1712.07658)\n",
    "\n",
    "The procedure is the same as in the [Start-to-Finish Example: Head-On Black Hole Collision](../../Unused_tutorials/Tutorial-Start_to_Finish-BSSNCurvilinear-Two_BHs_Collide.ipynb):\n",
    "##### Step 4A: Find locations to where outer ghost zone gridpoints map\n",
    "##### Step 4B: At each ghost zone gridpoint, find and store the correct parity condition type for each gridfunction up to rank 2 (the highest rank in the BSSN RHSs)"
   ]
  },
  {
   "cell_type": "code",
   "execution_count": 17,
   "metadata": {},
   "outputs": [
    {
     "name": "stdout",
     "output_type": "stream",
     "text": [
      "Wrote to file \"BSSN_SF/xxCart.h\"\n",
      "Wrote to file \"BSSN_SF/Cart_to_xx.h\"\n",
      "Wrote to file \"BSSN_SF/ds_dirn.h\"\n"
     ]
    }
   ],
   "source": [
    "# Generic coordinate NRPy+ file output, Part 1: output the coordinate bounds xxmin[] and xxmax[]:\n",
    "with open(\"BSSN_SF/xxminmax.h\", \"w\") as file:\n",
    "    file.write(\"const REAL xxmin[3] = {\"+str(rfm.xxmin[0])+\",\"+str(rfm.xxmin[1])+\",\"+str(rfm.xxmin[2])+\"};\\n\")\n",
    "    file.write(\"const REAL xxmax[3] = {\"+str(rfm.xxmax[0])+\",\"+str(rfm.xxmax[1])+\",\"+str(rfm.xxmax[2])+\"};\\n\")\n",
    "# Generic coordinate NRPy+ file output, Part 2: output the conversion from (x0,x1,x2) to Cartesian (x,y,z)\n",
    "outputC([rfm.xxCart[0],rfm.xxCart[1],rfm.xxCart[2]],[\"xCart[0]\",\"xCart[1]\",\"xCart[2]\"],\n",
    "        \"BSSN_SF/xxCart.h\")\n",
    "# Generic coordinate NRPy+ file output, Part 3: output the conversion from Cartesian (x,y,z) to interior/OB (x0,x1,x2)\n",
    "outputC([rfm.Cart_to_xx[0],rfm.Cart_to_xx[1],rfm.Cart_to_xx[2]],\n",
    "        [\"Cart_to_xx0_inbounds\",\"Cart_to_xx1_inbounds\",\"Cart_to_xx2_inbounds\"],\n",
    "        \"BSSN_SF/Cart_to_xx.h\")\n",
    "# Generic coordinate NRPy+ file output, Part 4: output the proper distance between gridpoints in given coordinate system\n",
    "dxx     = ixp.declarerank1(\"dxx\",DIM=3)\n",
    "ds_dirn = rfm.ds_dirn(dxx)\n",
    "outputC([ds_dirn[0],ds_dirn[1],ds_dirn[2]],[\"ds_dirn0\",\"ds_dirn1\",\"ds_dirn2\"],\"BSSN_SF/ds_dirn.h\")"
   ]
  },
  {
   "cell_type": "markdown",
   "metadata": {},
   "source": [
    "####   Step 4B.i: Set the parity condition for each of the 10 parity condition types\n",
    "\n",
    "First we fill in the parity condition arrays. These take as input $(x_0,x_1,x_2)_{\\rm in}$ and $(x_0,x_1,x_2)_{\\rm IB}$, and output the necessary dot products for each parity type. To wit, there are 10 parity types for BSSN evolved variables, which include tensors up to and including rank-2:\n",
    "\n",
    "0. Scalar (Rank-0 tensor)\n",
    "1. Rank-1 tensor in **i0** direction\n",
    "1. Rank-1 tensor in **i1** direction\n",
    "1. Rank-1 tensor in **i2** direction\n",
    "1. Rank-2 tensor in **i0-i0** direction\n",
    "1. Rank-2 tensor in **i0-i1** direction\n",
    "1. Rank-2 tensor in **i0-i2** direction\n",
    "1. Rank-2 tensor in **i1-i1** direction\n",
    "1. Rank-2 tensor in **i1-i2** direction\n",
    "1. Rank-2 tensor in **i2-i2** direction"
   ]
  },
  {
   "cell_type": "code",
   "execution_count": 18,
   "metadata": {},
   "outputs": [
    {
     "name": "stdout",
     "output_type": "stream",
     "text": [
      "Wrote to file \"BSSN_SF/set_parity_conditions.h\"\n"
     ]
    }
   ],
   "source": [
    "parity = ixp.zerorank1(DIM=10)\n",
    "UnitVectors_inner = ixp.zerorank2()\n",
    "xx0_inbounds,xx1_inbounds,xx2_inbounds = sp.symbols(\"xx0_inbounds xx1_inbounds xx2_inbounds\", real=True)\n",
    "for i in range(3):\n",
    "    for j in range(3):\n",
    "        UnitVectors_inner[i][j] = rfm.UnitVectors[i][j].subs(rfm.xx[0],xx0_inbounds).subs(rfm.xx[1],xx1_inbounds).subs(rfm.xx[2],xx2_inbounds)\n",
    "# Type 0: scalar\n",
    "parity[0] = sp.sympify(1)\n",
    "# Type 1: i0-direction vector or one-form\n",
    "# Type 2: i1-direction vector or one-form\n",
    "# Type 3: i2-direction vector or one-form\n",
    "for i in range(3):\n",
    "    for Type in range(1,4):\n",
    "        parity[Type] += rfm.UnitVectors[Type-1][i]*UnitVectors_inner[Type-1][i]\n",
    "# Type 4: i0i0-direction rank-2 tensor\n",
    "# parity[4] = parity[1]*parity[1]\n",
    "# Type 5: i0i1-direction rank-2 tensor\n",
    "# Type 6: i0i2-direction rank-2 tensor\n",
    "# Type 7: i1i1-direction rank-2 tensor\n",
    "# Type 8: i1i2-direction rank-2 tensor\n",
    "# Type 9: i2i2-direction rank-2 tensor\n",
    "count = 4\n",
    "for i in range(3):\n",
    "    for j in range(i,3):\n",
    "        parity[count] = parity[i+1]*parity[j+1]\n",
    "        count = count + 1\n",
    "\n",
    "lhs_strings = []\n",
    "for i in range(10):\n",
    "    lhs_strings.append(\"parity[\"+str(i)+\"]\")\n",
    "outputC(parity,lhs_strings, \"BSSN_SF/set_parity_conditions.h\")"
   ]
  },
  {
   "cell_type": "markdown",
   "metadata": {},
   "source": [
    "####   Step 4B.ii: Implement the boundary condition ghost zone mapping routine, difining the parity conditions"
   ]
  },
  {
   "cell_type": "code",
   "execution_count": 19,
   "metadata": {},
   "outputs": [
    {
     "name": "stdout",
     "output_type": "stream",
     "text": [
      "Overwriting BSSN_SF/curvilinear_parity_and_outer_boundary_conditions.h\n"
     ]
    }
   ],
   "source": [
    "%%writefile BSSN_SF/curvilinear_parity_and_outer_boundary_conditions.h\n",
    "\n",
    "// First we define the struct that will be used to store the 10 parity conditions at all gridpoints:\n",
    "// We store the 10 parity conditions in a struct consisting of 10 integers, one for each condition.\n",
    "// Note that these conditions can only take one of two values: +1 or -1.\n",
    "typedef struct parity_conditions {\n",
    "  int8_t parity[10];\n",
    "} parity_condition;\n",
    "\n",
    "typedef struct ghostzone_map {\n",
    "  short i0,i1,i2;\n",
    "} gz_map;\n",
    "\n",
    "void set_bc_parity_conditions(REAL parity[10], const REAL xx0,const REAL xx1,const REAL xx2, \n",
    "                              const REAL xx0_inbounds,const REAL xx1_inbounds,const REAL xx2_inbounds) {\n",
    "    #include \"set_parity_conditions.h\"\n",
    "}\n",
    "\n",
    "void set_up_bc_gz_map_and_parity_conditions(const int Nxx_plus_2NGHOSTS[3], REAL *xx[3], \n",
    "                                            const REAL dxx[3], const REAL xxmin[3], const REAL xxmax[3], \n",
    "                                            gz_map *bc_gz_map, parity_condition *bc_parity_conditions) {\n",
    "  LOOP_REGION(0,Nxx_plus_2NGHOSTS[0],0,Nxx_plus_2NGHOSTS[1],0,Nxx_plus_2NGHOSTS[2]) {\n",
    "    REAL xCart[3];\n",
    "    xxCart(xx, i0,i1,i2, xCart);\n",
    "    REAL Cartx = xCart[0];\n",
    "    REAL Carty = xCart[1];\n",
    "    REAL Cartz = xCart[2];\n",
    "    \n",
    "    REAL Cart_to_xx0_inbounds,Cart_to_xx1_inbounds,Cart_to_xx2_inbounds;\n",
    "#include \"Cart_to_xx.h\"\n",
    "    int i0_inbounds = (int)( (Cart_to_xx0_inbounds - xxmin[0] - (1.0/2.0)*dxx[0] + ((REAL)NGHOSTS)*dxx[0])/dxx[0] + 0.5 ); \n",
    "    int i1_inbounds = (int)( (Cart_to_xx1_inbounds - xxmin[1] - (1.0/2.0)*dxx[1] + ((REAL)NGHOSTS)*dxx[1])/dxx[1] + 0.5 );\n",
    "    int i2_inbounds = (int)( (Cart_to_xx2_inbounds - xxmin[2] - (1.0/2.0)*dxx[2] + ((REAL)NGHOSTS)*dxx[2])/dxx[2] + 0.5 );\n",
    "\n",
    "    REAL xCart_orig[3]; for(int ii=0;ii<3;ii++) xCart_orig[ii] = xCart[ii];\n",
    "    xxCart(xx, i0_inbounds,i1_inbounds,i2_inbounds, xCart);\n",
    "\n",
    "#define EPS_ABS 1e-8\n",
    "    if(fabs( (double)(xCart_orig[0] - xCart[0]) ) > EPS_ABS ||\n",
    "       fabs( (double)(xCart_orig[1] - xCart[1]) ) > EPS_ABS ||\n",
    "       fabs( (double)(xCart_orig[2] - xCart[2]) ) > EPS_ABS) {\n",
    "      printf(\"Error. Cartesian disagreement: ( %.15e %.15e %.15e ) != ( %.15e %.15e %.15e )\\n\",\n",
    "             (double)xCart_orig[0],(double)xCart_orig[1],(double)xCart_orig[2],\n",
    "             (double)xCart[0],(double)xCart[1],(double)xCart[2]);\n",
    "      exit(1);\n",
    "    }\n",
    "\n",
    "    if(i0_inbounds-i0 == 0 && i1_inbounds-i1 == 0 && i2_inbounds-i2 == 0) {\n",
    "      bc_gz_map[IDX3(i0,i1,i2)].i0=-1;\n",
    "      bc_gz_map[IDX3(i0,i1,i2)].i1=-1;\n",
    "      bc_gz_map[IDX3(i0,i1,i2)].i2=-1;\n",
    "      for(int which_parity=0; which_parity<10; which_parity++) {\n",
    "        bc_parity_conditions[IDX3(i0,i1,i2)].parity[which_parity] = 1;\n",
    "      }\n",
    "    } else {\n",
    "      bc_gz_map[IDX3(i0,i1,i2)].i0=i0_inbounds;\n",
    "      bc_gz_map[IDX3(i0,i1,i2)].i1=i1_inbounds;\n",
    "      bc_gz_map[IDX3(i0,i1,i2)].i2=i2_inbounds;\n",
    "      const REAL xx0 = xx[0][i0];\n",
    "      const REAL xx1 = xx[1][i1];\n",
    "      const REAL xx2 = xx[2][i2];\n",
    "      const REAL xx0_inbounds = xx[0][i0_inbounds];\n",
    "      const REAL xx1_inbounds = xx[1][i1_inbounds];\n",
    "      const REAL xx2_inbounds = xx[2][i2_inbounds];\n",
    "      REAL REAL_parity_array[10];\n",
    "      set_bc_parity_conditions(REAL_parity_array,  xx0,xx1,xx2, xx0_inbounds,xx1_inbounds,xx2_inbounds);\n",
    "      for(int whichparity=0;whichparity<10;whichparity++) {\n",
    "          //printf(\"Good? Parity %d evaluated to %e\\n\",whichparity,REAL_parity_array[whichparity]);\n",
    "          // Perform sanity check on parity array output: should be +1 or -1 to within 8 significant digits:\n",
    "          if( (REAL_parity_array[whichparity]  > 0 && fabs(REAL_parity_array[whichparity] - (+1)) > 1e-8) ||\n",
    "              (REAL_parity_array[whichparity] <= 0 && fabs(REAL_parity_array[whichparity] - (-1)) > 1e-8) ) {\n",
    "              printf(\"Error. Parity evaluated to %e , which is not within 8 significant digits of +1 or -1.\",REAL_parity_array[whichparity]);\n",
    "              exit(1);\n",
    "          }\n",
    "          if(REAL_parity_array[whichparity] < 0.0) bc_parity_conditions[IDX3(i0,i1,i2)].parity[whichparity] = -1;\n",
    "          if(REAL_parity_array[whichparity] > 0.0) bc_parity_conditions[IDX3(i0,i1,i2)].parity[whichparity] = +1;\n",
    "      }\n",
    "    }\n",
    "  }\n",
    "}\n",
    "\n",
    "// Part P6: Declare boundary condition OB_UPDATE macro,\n",
    "//          which updates a single face of the 3D grid cube\n",
    "//          using quadratic polynomial extrapolation.\n",
    "const int MAXFACE = -1;\n",
    "const int NUL     = +0;\n",
    "const int MINFACE = +1;\n",
    "\n",
    "\n",
    "#define OB_UPDATE(inner,which_gf, bc_gz_map,bc_parity_conditions, i0min,i0max, i1min,i1max, i2min,i2max, FACEX0,FACEX1,FACEX2) \\\n",
    "  LOOP_REGION(i0min,i0max, i1min,i1max, i2min,i2max) {                  \\\n",
    "    const int idx3 = IDX3(i0,i1,i2);                                    \\\n",
    "    if(bc_gz_map[idx3].i0 == -1 && inner==0) {                          \\\n",
    "      gfs[IDX4(which_gf,i0,i1,i2)] =                                    \\\n",
    "        +3.0*gfs[IDX4(which_gf,i0+1*FACEX0,i1+1*FACEX1,i2+1*FACEX2)]    \\\n",
    "        -3.0*gfs[IDX4(which_gf,i0+2*FACEX0,i1+2*FACEX1,i2+2*FACEX2)]    \\\n",
    "        +1.0*gfs[IDX4(which_gf,i0+3*FACEX0,i1+3*FACEX1,i2+3*FACEX2)];   \\\n",
    "    } else if(bc_gz_map[idx3].i0 != -1 && inner==1) {                   \\\n",
    "     gfs[IDX4(which_gf,i0,i1,i2)] =                                    \\\n",
    "        ( (REAL)bc_parity_conditions[idx3].parity[evol_gf_parity[which_gf]] )* \\\n",
    "                                             gfs[IDX4(which_gf,           \\\n",
    "                                                    bc_gz_map[idx3].i0, \\\n",
    "                                                    bc_gz_map[idx3].i1, \\\n",
    "                                                    bc_gz_map[idx3].i2)]; \\\n",
    "    }                                                                   \\\n",
    "  }\n",
    "\n",
    "// Part P7: Boundary condition driver routine: Apply BCs to all six\n",
    "//          boundary faces of the cube, filling in the innermost\n",
    "//          ghost zone first, and moving outward.\n",
    "void apply_bcs(const int Nxx[3],const int Nxx_plus_2NGHOSTS[3],\n",
    "               gz_map *bc_gz_map,parity_condition *bc_parity_conditions,REAL *gfs) {\n",
    "#pragma omp parallel for\n",
    "  for(int which_gf=0;which_gf<NUM_EVOL_GFS;which_gf++) {\n",
    "    int imin[3] = { NGHOSTS, NGHOSTS, NGHOSTS };\n",
    "    int imax[3] = { Nxx_plus_2NGHOSTS[0]-NGHOSTS, Nxx_plus_2NGHOSTS[1]-NGHOSTS, Nxx_plus_2NGHOSTS[2]-NGHOSTS };\n",
    "    for(int which_gz = 0; which_gz < NGHOSTS; which_gz++) {\n",
    "      for(int inner=0;inner<2;inner++) {\n",
    "        // After updating each face, adjust imin[] and imax[] \n",
    "        //   to reflect the newly-updated face extents.\n",
    "        OB_UPDATE(inner,which_gf, bc_gz_map,bc_parity_conditions, imin[0]-1,imin[0], imin[1],imax[1], imin[2],imax[2], MINFACE,NUL,NUL); imin[0]--;\n",
    "        OB_UPDATE(inner,which_gf, bc_gz_map,bc_parity_conditions, imax[0],imax[0]+1, imin[1],imax[1], imin[2],imax[2], MAXFACE,NUL,NUL); imax[0]++;\n",
    "\n",
    "        OB_UPDATE(inner,which_gf, bc_gz_map,bc_parity_conditions, imin[0],imax[0], imin[1]-1,imin[1], imin[2],imax[2], NUL,MINFACE,NUL); imin[1]--;\n",
    "        OB_UPDATE(inner,which_gf, bc_gz_map,bc_parity_conditions, imin[0],imax[0], imax[1],imax[1]+1, imin[2],imax[2], NUL,MAXFACE,NUL); imax[1]++;\n",
    "\n",
    "        OB_UPDATE(inner,which_gf, bc_gz_map,bc_parity_conditions, imin[0],imax[0], imin[1],imax[1], imin[2]-1,imin[2], NUL,NUL,MINFACE); imin[2]--;\n",
    "        OB_UPDATE(inner,which_gf, bc_gz_map,bc_parity_conditions, imin[0],imax[0], imin[1],imax[1], imax[2],imax[2]+1, NUL,NUL,MAXFACE); imax[2]++;\n",
    "        if(inner==0) { for(int ii=0;ii<3;ii++) {imin[ii]++; imax[ii]--;} }\n",
    "      }\n",
    "    }\n",
    "  }\n",
    "}"
   ]
  },
  {
   "cell_type": "markdown",
   "metadata": {},
   "source": [
    "####   Step 4B.iii: Set the #define list for all gridfunctions"
   ]
  },
  {
   "cell_type": "code",
   "execution_count": 20,
   "metadata": {},
   "outputs": [],
   "source": [
    "# First we set up the evolved and auxiliary variables lists\n",
    "evolved_variables_list   = []\n",
    "auxiliary_variables_list = []\n",
    "for i in range(len(gri.glb_gridfcs_list)):\n",
    "    if gri.glb_gridfcs_list[i].gftype == \"EVOL\":\n",
    "        evolved_variables_list.append(gri.glb_gridfcs_list[i].name)\n",
    "    if gri.glb_gridfcs_list[i].gftype == \"AUX\":\n",
    "        auxiliary_variables_list.append(gri.glb_gridfcs_list[i].name)\n",
    "\n",
    "# Next we alphabetize the lists\n",
    "evolved_variables_list.sort()\n",
    "auxiliary_variables_list.sort()\n",
    "\n",
    "# Finally we set up the #define statements:\n",
    "with open(\"BSSN_SF/gridfunction_defines.h\", \"w\") as file:\n",
    "    file.write(\"/* This file is automatically generated by NRPy+. Do not edit. */\\n\\n\")\n",
    "    file.write(\"/* EVOLVED VARIABLES: */\\n\")\n",
    "    file.write(\"#define NUM_EVOL_GFS \"+str(len(evolved_variables_list))+\"\\n\")\n",
    "    for i in range(len(evolved_variables_list)):\n",
    "        file.write(\"#define \"+evolved_variables_list[i].upper()+\"GF\\t\"+str(i)+\"\\n\")\n",
    "    file.write(\"\\n\\n /* AUXILIARY VARIABLES: */\\n\")\n",
    "    file.write(\"#define NUM_AUX_GFS \"+str(len(auxiliary_variables_list))+\"\\n\")\n",
    "    for i in range(len(auxiliary_variables_list)):\n",
    "        file.write(\"#define \"+auxiliary_variables_list[i].upper()+\"GF\\t\"+str(i)+\"\\n\")"
   ]
  },
  {
   "cell_type": "markdown",
   "metadata": {},
   "source": [
    "####   Step 4B.iv: Assign the correct parity condition for each BSSN gridfunction"
   ]
  },
  {
   "cell_type": "code",
   "execution_count": 21,
   "metadata": {},
   "outputs": [
    {
     "name": "stdout",
     "output_type": "stream",
     "text": [
      "Evolved gridfunction \"Rtrace\" has parity type 0.\n",
      "Evolved gridfunction \"aDD00\" has parity type 4.\n",
      "Evolved gridfunction \"aDD01\" has parity type 5.\n",
      "Evolved gridfunction \"aDD02\" has parity type 6.\n",
      "Evolved gridfunction \"aDD11\" has parity type 7.\n",
      "Evolved gridfunction \"aDD12\" has parity type 8.\n",
      "Evolved gridfunction \"aDD22\" has parity type 9.\n",
      "Evolved gridfunction \"alpha\" has parity type 0.\n",
      "Evolved gridfunction \"betU0\" has parity type 1.\n",
      "Evolved gridfunction \"betU1\" has parity type 2.\n",
      "Evolved gridfunction \"betU2\" has parity type 3.\n",
      "Evolved gridfunction \"cf\" has parity type 0.\n",
      "Evolved gridfunction \"hDD00\" has parity type 4.\n",
      "Evolved gridfunction \"hDD01\" has parity type 5.\n",
      "Evolved gridfunction \"hDD02\" has parity type 6.\n",
      "Evolved gridfunction \"hDD11\" has parity type 7.\n",
      "Evolved gridfunction \"hDD12\" has parity type 8.\n",
      "Evolved gridfunction \"hDD22\" has parity type 9.\n",
      "Evolved gridfunction \"lambdaU0\" has parity type 1.\n",
      "Evolved gridfunction \"lambdaU1\" has parity type 2.\n",
      "Evolved gridfunction \"lambdaU2\" has parity type 3.\n",
      "Evolved gridfunction \"trK\" has parity type 0.\n",
      "Evolved gridfunction \"uu\" has parity type 0.\n",
      "Evolved gridfunction \"vetU0\" has parity type 1.\n",
      "Evolved gridfunction \"vetU1\" has parity type 2.\n",
      "Evolved gridfunction \"vetU2\" has parity type 3.\n",
      "Evolved gridfunction \"vv\" has parity type 0.\n"
     ]
    }
   ],
   "source": [
    "# Next we set the parity conditions on all evolved gridfunctions, based on how many digits are at the end of their names\n",
    "parity_type = []\n",
    "for i in range(len(evolved_variables_list)):\n",
    "    varname = evolved_variables_list[i]\n",
    "    parity_type__orig_len = len(parity_type)\n",
    "    if  len(varname)>2:\n",
    "        if   varname[len(varname)-2] == \"0\" and varname[len(varname)-1] == \"0\":\n",
    "            parity_type.append(4)\n",
    "        elif varname[len(varname)-2] == \"0\" and varname[len(varname)-1] == \"1\":\n",
    "            parity_type.append(5)\n",
    "        elif varname[len(varname)-2] == \"0\" and varname[len(varname)-1] == \"2\":\n",
    "            parity_type.append(6)\n",
    "        elif varname[len(varname)-2] == \"1\" and varname[len(varname)-1] == \"1\":\n",
    "            parity_type.append(7)\n",
    "        elif varname[len(varname)-2] == \"1\" and varname[len(varname)-1] == \"2\":\n",
    "            parity_type.append(8)\n",
    "        elif varname[len(varname)-2] == \"2\" and varname[len(varname)-1] == \"2\":\n",
    "            parity_type.append(9)\n",
    "    if len(varname)>1 and len(parity_type) == parity_type__orig_len:\n",
    "        if   varname[len(varname)-1] == \"0\":\n",
    "            parity_type.append(1)\n",
    "        elif varname[len(varname)-1] == \"1\":\n",
    "            parity_type.append(2)\n",
    "        elif varname[len(varname)-1] == \"2\":\n",
    "            parity_type.append(3)\n",
    "    if varname[len(varname)-1].isdigit() == False:\n",
    "        parity_type.append(0)\n",
    "\n",
    "    if len(parity_type) == parity_type__orig_len:\n",
    "        print(\"Error: Could not figure out parity type for evolved variable: \"+varname)\n",
    "        exit(1)\n",
    "\n",
    "\n",
    "with open(\"BSSN_SF/gridfunction_defines.h\", \"a\") as file:\n",
    "    file.write(\"\\n\\n/* PARITY TYPES FOR EVOLVED VARIABLES.\\n\")\n",
    "    file.write(\"   SEE \\\"Tutorial-Start_to_Finish-BSSNCurvilinear-Two_BHs_Collide.ipynb\\\" FOR DEFINITIONS. */\\n\")\n",
    "    file.write(\"const int8_t evol_gf_parity[\"+str(len(evolved_variables_list))+\"] = { \")\n",
    "    for i in range(len(evolved_variables_list)-1):\n",
    "        file.write(str(parity_type[i])+\", \")\n",
    "    file.write(str(parity_type[len(evolved_variables_list)-1])+\" };\\n\")\n",
    "    \n",
    "for i in range(len(evolved_variables_list)):\n",
    "    print(\"Evolved gridfunction \\\"\"+evolved_variables_list[i]+\"\\\" has parity type \"+str(parity_type[i])+\".\")"
   ]
  },
  {
   "cell_type": "markdown",
   "metadata": {},
   "source": [
    "## Step 5: Enforce conformal 3-metric $\\det{\\bar{\\gamma}_{ij}}=\\det{\\hat{\\gamma}_{ij}}$ constraint (Eq. 53 of [Ruchlin, Etienne, and Baumgarte (2018)](https://arxiv.org/abs/1712.07658))\n",
    "\n",
    "Again as in [Start-to-Finish Example: Head-On Black Hole Collision](../../Unused_tutorials/Tutorial-Start_to_Finish-BSSNCurvilinear-Two_BHs_Collide.ipynb)."
   ]
  },
  {
   "cell_type": "code",
   "execution_count": 22,
   "metadata": {},
   "outputs": [],
   "source": [
    "# First define the Kronecker delta:\n",
    "KroneckerDeltaDD = ixp.zerorank2()\n",
    "for i in range(DIM):\n",
    "    KroneckerDeltaDD[i][i] = sp.sympify(1)\n",
    "\n",
    "# The detgammabar in BSSN_RHSs is set to detgammahat when BSSN_RHSs::detgbarOverdetghat_equals_one=True (default),\n",
    "#    so we manually compute it here:\n",
    "dummygammabarUU, detgammabar = ixp.symm_matrix_inverter3x3(rhs.gammabarDD)\n",
    "\n",
    "# Next apply the constraint enforcement equation above.\n",
    "hprimeDD = ixp.zerorank2()\n",
    "for i in range(DIM):\n",
    "    for j in range(DIM):\n",
    "        hprimeDD[i][j] = \\\n",
    "        (sp.Abs(rfm.detgammahat)/detgammabar)**(sp.Rational(1,3)) * (KroneckerDeltaDD[i][j] + rhs.hDD[i][j]) \\\n",
    "        - KroneckerDeltaDD[i][j]\n",
    "\n",
    "enforce_detg_constraint_vars = [ \\\n",
    "                                lhrh(lhs=gri.gfaccess(\"in_gfs\",\"hDD00\"),rhs=hprimeDD[0][0]),\n",
    "                                lhrh(lhs=gri.gfaccess(\"in_gfs\",\"hDD01\"),rhs=hprimeDD[0][1]),\n",
    "                                lhrh(lhs=gri.gfaccess(\"in_gfs\",\"hDD02\"),rhs=hprimeDD[0][2]),\n",
    "                                lhrh(lhs=gri.gfaccess(\"in_gfs\",\"hDD11\"),rhs=hprimeDD[1][1]),\n",
    "                                lhrh(lhs=gri.gfaccess(\"in_gfs\",\"hDD12\"),rhs=hprimeDD[1][2]),\n",
    "                                lhrh(lhs=gri.gfaccess(\"in_gfs\",\"hDD22\"),rhs=hprimeDD[2][2]) ]\n",
    "\n",
    "enforce_gammadet_string = fin.FD_outputC(\"returnstring\",enforce_detg_constraint_vars,\n",
    "                                         params=\"outCverbose=False,preindent=0,includebraces=False\")\n",
    "\n",
    "with open(\"BSSN_SF/enforce_detgammabar_constraint.h\", \"w\") as file:\n",
    "    indent = \"   \"\n",
    "    file.write(\"void enforce_detgammabar_constraint(const int Nxx_plus_2NGHOSTS[3],REAL *xx[3], REAL *in_gfs) {\\n\\n\")\n",
    "    file.write(lp.loop([\"i2\",\"i1\",\"i0\"],[\"0\",\"0\",\"0\"],\n",
    "                       [\"Nxx_plus_2NGHOSTS[2]\",\"Nxx_plus_2NGHOSTS[1]\",\"Nxx_plus_2NGHOSTS[0]\"],\n",
    "                       [\"1\",\"1\",\"1\"],[\"#pragma omp parallel for\",\n",
    "                                      \"    const REAL xx2 = xx[2][i2];\",\n",
    "                                      \"        const REAL xx1 = xx[1][i1];\"],\"\",\n",
    "                                     \"const REAL xx0 = xx[0][i0];\\n\"+enforce_gammadet_string))\n",
    "    file.write(\"}\\n\")"
   ]
  },
  {
   "cell_type": "markdown",
   "metadata": {},
   "source": [
    "# BSSNScalar_Field.c: The Main C Code"
   ]
  },
  {
   "cell_type": "markdown",
   "metadata": {},
   "source": [
    "!rm BSSN_SF/BSSNScalar_Field.c\n",
    "!mkdir BSSN_SF-evolution\n",
    "!mkdir BSSN_SF-output2D"
   ]
  },
  {
   "cell_type": "code",
   "execution_count": 11,
   "metadata": {},
   "outputs": [],
   "source": [
    "import cmdline_helper as cmd\n",
    "import os\n",
    "\n",
    "#cmd.delete_existing_files('BSSN_SF/BSSNScalar_Field.c')\n",
    "cmd.mkdir('BSSN_SF-evolution')\n",
    "cmd.mkdir('BSSN_SF-output2D')"
   ]
  },
  {
   "cell_type": "code",
   "execution_count": 25,
   "metadata": {},
   "outputs": [],
   "source": [
    "# Part P0: Set the number of ghost cells, from NRPy+'s FD_CENTDERIVS_ORDER\n",
    "with open(\"BSSN_SF/BSSNScalar_Field.c\", \"w\") as file:\n",
    "    file.write(\"// Part P0: Set the number of ghost cells, from NRPy+'s FD_CENTDERIVS_ORDER\\n\")\n",
    "    # Upwinding in BSSN requires that NGHOSTS = FD_CENTDERIVS_ORDER/2 + 1 <- Notice the +1.\n",
    "    file.write(\"#define NGHOSTS \"+str(int(par.parval_from_str(\"finite_difference::FD_CENTDERIVS_ORDER\")/2)+1)+\"\\n\")"
   ]
  },
  {
   "cell_type": "code",
   "execution_count": 26,
   "metadata": {},
   "outputs": [
    {
     "name": "stdout",
     "output_type": "stream",
     "text": [
      "Appending to BSSN_SF/BSSNScalar_Field.c\n"
     ]
    }
   ],
   "source": [
    "%%writefile -a BSSN_SF/BSSNScalar_Field.c\n",
    "\n",
    "// Step P1a: Import needed header files\n",
    "#include \"stdio.h\"\n",
    "#include \"stdlib.h\"\n",
    "#include \"math.h\"\n",
    "#include \"time.h\"\n",
    "\n",
    "// Step P1b: Import necessary gsl libraries for interpolating the initial data onto the grid\n",
    "\n",
    "#include \"gsl/gsl_spline.h\"\n",
    "#include \"gsl/gsl_errno.h\"\n",
    "#include \"gsl/gsl_interp.h\"\n",
    "\n",
    "// Step P2: Add needed #define's to set data type, the IDX4() macro, and the gridfunctions\n",
    "// Step P2a: set REAL=double, so that all floating point numbers are stored to at least ~16 significant digits.\n",
    "#define REAL double\n",
    "\n",
    "// Step P3: Set free parameters\n",
    "// Step P3a: Free parameters for the numerical grid\n",
    "\n",
    "// Spherical coordinates parameter\n",
    "const REAL RMAX    = 256.; /* Set to approximately the time you wish to evolve for, \n",
    "                            * so that at t=t_final data at the origin is not \n",
    "                            * affected by the boundary conditions */\n",
    "// Time coordinate parameters\n",
    "const REAL t_final =  300.;\n",
    "const REAL CFL_FACTOR = 0.5; // Set the CFL Factor\n",
    "\n",
    "// Step P3b: Free parameters for the spacetime evolution\n",
    "const REAL eta = 2.; // Gamma-driving shift condition parameter.\n",
    "\n",
    "// Step P4: Implement the algorithm for upwinding.\n",
    "//          *NOTE*: This upwinding is backwards from\n",
    "//          usual upwinding algorithms, because the\n",
    "//          upwinding control vector in BSSN (the shift)\n",
    "//          acts like a *negative* velocity.\n",
    "#define UPWIND_ALG(UpwindVecU) UpwindVecU > 0.0 ? 1.0 : 0.0\n",
    "\n",
    "// Step P5: Set free parameters for Psi initial data\n",
    "const REAL psi_posn_x = 0.0,psi_posn_y = 0.0,psi_posn_z = 0.0;\n",
    "\n",
    "// Step P5b: Set free parameters for the scalar field\n",
    "const REAL scalar_posn_x = 0.0;\n",
    "const REAL scalar_posn_y = 0.0;\n",
    "const REAL scalar_posn_z = 0.0;\n",
    "const REAL br_on = 1.; // Turn on(1.)/off(0.) scalar field backreaction on the metric\n",
    "const REAL pot1_on = 1.; // Turn on(1.)/off(0.) quadratic potential\n",
    "const REAL pot2_on = 0.; // Turn on(1.)/off(0.) self-interactiong potential\n",
    "// Make sure only one potential is on at a time\n",
    "// Variables for the scalar field potential\n",
    "const REAL scalarmass = 1.; // Scalar mass, \\mu = c/\\hbar m\n",
    "const REAL fa = 0.05; // Decay constant, only relevant for the self-interacting potential\n",
    "\n",
    "//Step P5c: Declare vars for initial data arrays\n",
    "//          We use initial data profiles for the scalar \n",
    "//          and the conformal factor that is known to \n",
    "//          lead to stable scalar field evolution\n",
    "REAL uu_in;\n",
    "REAL vv_in;\n",
    "REAL psi_in;\n",
    "REAL alpha_in;\n",
    "REAL r_scalar;\n",
    "REAL r_psi;\n",
    "\n",
    "// Step P6: Declare the IDX4(gf,i,j,k) macro, which enables us to store 4-dimensions of\n",
    "//          data in a 1D array. In this case, consecutive values of \"i\" \n",
    "//          (all other indices held to a fixed value) are consecutive in memory, where \n",
    "//          consecutive values of \"j\" (fixing all other indices) are separated by \n",
    "//          Nxx_plus_2NGHOSTS[0] elements in memory. Similarly, consecutive values of\n",
    "//          \"k\" are separated by Nxx_plus_2NGHOSTS[0]*Nxx_plus_2NGHOSTS[1] in memory, etc.\n",
    "#define IDX4(g,i,j,k) \\\n",
    "( (i) + Nxx_plus_2NGHOSTS[0] * ( (j) + Nxx_plus_2NGHOSTS[1] * ( (k) + Nxx_plus_2NGHOSTS[2] * (g) ) ) )\n",
    "#define IDX3(i,j,k) ( (i) + Nxx_plus_2NGHOSTS[0] * ( (j) + Nxx_plus_2NGHOSTS[1] * (k) ) )\n",
    "// Assuming idx = IDX3(i,j,k). Much faster if idx can be reused over and over:\n",
    "#define IDX4pt(g,idx)   ( (idx) + (Nxx_plus_2NGHOSTS[0]*Nxx_plus_2NGHOSTS[1]*Nxx_plus_2NGHOSTS[2]) * (g) )\n",
    "\n",
    "// Step P7: Set #define's for BSSN gridfunctions. C code generated above\n",
    "#include \"gridfunction_defines.h\"\n",
    "\n",
    "#define LOOP_REGION(i0min,i0max, i1min,i1max, i2min,i2max) \\\n",
    "  for(int i2=i2min;i2<i2max;i2++) for(int i1=i1min;i1<i1max;i1++) for(int i0=i0min;i0<i0max;i0++)\n",
    "\n",
    "void xxCart(REAL *xx[3],const int i0,const int i1,const int i2, REAL xCart[3]) {\n",
    "    REAL xx0 = xx[0][i0];\n",
    "    REAL xx1 = xx[1][i1];\n",
    "    REAL xx2 = xx[2][i2];\n",
    "#include \"xxCart.h\"\n",
    "}\n",
    "\n",
    "// Step P8: Include basic functions needed to impose curvilinear\n",
    "//          parity and boundary conditions.\n",
    "#include \"curvilinear_parity_and_outer_boundary_conditions.h\"\n",
    "\n",
    "#include \"enforce_detgammabar_constraint.h\"\n",
    "\n",
    "// Step P9: Find the CFL-constrained timestep\n",
    "REAL find_timestep(const int Nxx_plus_2NGHOSTS[3],const REAL dxx[3],REAL *xx[3], const REAL CFL_FACTOR) {\n",
    "  const REAL dxx0 = dxx[0], dxx1 = dxx[1], dxx2 = dxx[2];\n",
    "  REAL dsmin = 1e38; // Start with a crazy high value... close to the largest number in single precision.\n",
    "  LOOP_REGION(NGHOSTS,Nxx_plus_2NGHOSTS[0]-NGHOSTS, NGHOSTS,Nxx_plus_2NGHOSTS[1]-NGHOSTS, NGHOSTS,Nxx_plus_2NGHOSTS[2]-NGHOSTS) {\n",
    "    const REAL xx0 = xx[0][i0], xx1 = xx[1][i1], xx2 = xx[2][i2];\n",
    "    REAL ds_dirn0, ds_dirn1, ds_dirn2;\n",
    "#include \"ds_dirn.h\"\n",
    "#define MIN(A, B) ( ((A) < (B)) ? (A) : (B) )\n",
    "    // Set dsmin = MIN(dsmin, ds_dirn0, ds_dirn1, ds_dirn2);\n",
    "    dsmin = MIN(dsmin,MIN(ds_dirn0,MIN(ds_dirn1,ds_dirn2)));\n",
    "  }\n",
    "  return dsmin*CFL_FACTOR;\n",
    "}\n",
    "\n",
    "// Contains BSSN_ID() for arbitrary initial data array\n",
    "#include \"ID_array_psi.h\" \n",
    "\n",
    "// Step P10: Declare the function for the exact solution. time==0 corresponds to the initial data.\n",
    "void initial_data(const int Nxx_plus_2NGHOSTS[3],REAL *xx[3], REAL *in_gfs) {\n",
    "\n",
    "// Step P11a: Declare initial data arrays\n",
    "FILE *uu_file = fopen(\"BSSN_SF/InitialData/phi001.csv\", \"r\");\n",
    "FILE *vv_file = fopen(\"BSSN_SF/InitialData/Pi001.csv\", \"r\");\n",
    "FILE *psi_file = fopen(\"BSSN_SF/InitialData/psi001.csv\", \"r\");\n",
    "FILE *alpha_file = fopen(\"BSSN_SF/InitialData/alpha001.csv\", \"r\");\n",
    "\n",
    "int temp;\n",
    "int alen = 0;\n",
    "while(fscanf(uu_file,\"%lf\\n\",&temp)==1){\n",
    "    alen++;\n",
    "}\n",
    "double r_arr[alen];\n",
    "double uu_in_arr[alen];\n",
    "double vv_in_arr[alen];\n",
    "double psi_in_arr[alen];\n",
    "double alpha_in_arr[alen];\n",
    "    \n",
    "rewind(uu_file);\n",
    "for(int i=0;i<alen;i++){\n",
    "    r_arr[i] = 0.01*i;\n",
    "    fscanf(uu_file, \"%lf\\n\", &uu_in_arr[i]);\n",
    "    fscanf(vv_file, \"%lf\\n\", &vv_in_arr[i]);\n",
    "    fscanf(psi_file, \"%lf\\n\", &psi_in_arr[i]);\n",
    "    fscanf(alpha_file, \"%lf\\n\", &alpha_in_arr[i]);\n",
    "}\n",
    "\n",
    "// Step P11b: Declare splines to interpolate onto the cartesian grid\n",
    "    \n",
    "gsl_interp_accel *acc = gsl_interp_accel_alloc ();\n",
    "    \n",
    "gsl_spline *spline_u = gsl_spline_alloc (gsl_interp_cspline, alen);\n",
    "gsl_spline_init(spline_u, r_arr, uu_in_arr, alen);\n",
    "\n",
    "gsl_spline *spline_v = gsl_spline_alloc (gsl_interp_cspline, alen);\n",
    "gsl_spline_init(spline_v, r_arr, vv_in_arr, alen);\n",
    "\n",
    "gsl_spline *spline_psi = gsl_spline_alloc (gsl_interp_cspline, alen);\n",
    "gsl_spline_init(spline_psi, r_arr, psi_in_arr, alen);\n",
    "    \n",
    "gsl_spline *spline_alpha = gsl_spline_alloc (gsl_interp_cspline, alen);\n",
    "gsl_spline_init(spline_alpha, r_arr, alpha_in_arr, alen);\n",
    "\n",
    "#pragma omp parallel for\n",
    "  LOOP_REGION(0,Nxx_plus_2NGHOSTS[0], 0,Nxx_plus_2NGHOSTS[1], 0,Nxx_plus_2NGHOSTS[2]) {\n",
    "    const int idx = IDX3(i0,i1,i2);\n",
    "    REAL xCart[3];\n",
    "    xxCart(xx, i0,i1,i2, xCart);\n",
    "    {\n",
    "        r_psi = sqrt(pow(-psi_posn_x + xCart[0], 2) + pow(-psi_posn_y + xCart[1], 2) + pow(-psi_posn_z + xCart[2], 2));\n",
    "        psi_in = gsl_spline_eval (spline_psi, r_psi, acc);\n",
    "        alpha_in = gsl_spline_eval (spline_alpha, r_psi, acc);\n",
    "    }\n",
    "    BSSN_ID(xx[0][i0],xx[1][i1],xx[2][i2],xCart[0],xCart[1],xCart[2],\n",
    "            &in_gfs[IDX4pt(HDD00GF,idx)],&in_gfs[IDX4pt(HDD01GF,idx)],&in_gfs[IDX4pt(HDD02GF,idx)],\n",
    "            &in_gfs[IDX4pt(HDD11GF,idx)],&in_gfs[IDX4pt(HDD12GF,idx)],&in_gfs[IDX4pt(HDD22GF,idx)],\n",
    "            &in_gfs[IDX4pt(TRKGF,idx)],\n",
    "            &in_gfs[IDX4pt(ADD00GF,idx)],&in_gfs[IDX4pt(ADD01GF,idx)],&in_gfs[IDX4pt(ADD02GF,idx)],\n",
    "            &in_gfs[IDX4pt(ADD11GF,idx)],&in_gfs[IDX4pt(ADD12GF,idx)],&in_gfs[IDX4pt(ADD22GF,idx)],\n",
    "            &in_gfs[IDX4pt(LAMBDAU0GF,idx)],&in_gfs[IDX4pt(LAMBDAU1GF,idx)],&in_gfs[IDX4pt(LAMBDAU2GF,idx)],\n",
    "            &in_gfs[IDX4pt(VETU0GF,idx)],&in_gfs[IDX4pt(VETU1GF,idx)],&in_gfs[IDX4pt(VETU2GF,idx)],\n",
    "            &in_gfs[IDX4pt(BETU0GF,idx)],&in_gfs[IDX4pt(BETU1GF,idx)],&in_gfs[IDX4pt(BETU2GF,idx)],\n",
    "            &in_gfs[IDX4pt(ALPHAGF,idx)],&in_gfs[IDX4pt(CFGF,idx)]);\n",
    "    REAL xx0 = xCart[0];\n",
    "    REAL xx1 = xCart[1];\n",
    "    REAL xx2 = xCart[2];\n",
    "    {\n",
    "        r_scalar = sqrt(pow(-scalar_posn_x + xx0, 2) + pow(-scalar_posn_y + xx1, 2) + pow(-scalar_posn_z + xx2, 2));\n",
    "        in_gfs[IDX4(UUGF, i0, i1, i2)] = gsl_spline_eval (spline_u, r_scalar, acc);\n",
    "        in_gfs[IDX4(VVGF, i0, i1, i2)] = gsl_spline_eval (spline_v, r_scalar, acc);\n",
    "    }\n",
    "  }\n",
    "}\n",
    "\n",
    "// Step P12: Implement Hamiltonian constraint diagnostic\n",
    "void Hamiltonian_constraint(const int Nxx[3],const int Nxx_plus_2NGHOSTS[3],const REAL dxx[3], REAL *xx[3], \n",
    "                            REAL *in_gfs, REAL *aux_gfs) {\n",
    "#include \"Hamiltonian.h\"    \n",
    "}\n",
    "\n",
    "// Step P13: Declare the function to evaluate the BSSN RHSs\n",
    "void rhs_eval(const int Nxx[3],const int Nxx_plus_2NGHOSTS[3],const REAL dxx[3], REAL *xx[3], const REAL *in_gfs,REAL *rhs_gfs) {\n",
    "#include \"BSSN_RHSs.h\"\n",
    "}\n",
    "\n",
    "// main() function:\n",
    "// Step 0: Read command-line input, set up grid structure, allocate memory for gridfunctions, set up coordinates\n",
    "// Step 1: Set up scalar wave initial data\n",
    "// Step 2: Evolve scalar wave initial data forward in time using Method of Lines with RK4 algorithm,\n",
    "//         applying quadratic extrapolation outer boundary conditions.\n",
    "// Step 3: Output relative error between numerical and exact solution.\n",
    "// Step 4: Free all allocated memory\n",
    "int main(int argc, const char *argv[]) {\n",
    "\n",
    "  // Step 0a: Read command-line input, error out if nonconformant\n",
    "  if(argc != 4 || atoi(argv[1]) < NGHOSTS) {\n",
    "      printf(\"Error: Expected one command-line argument: ./BSSNCurvilinear_Playground Nx0 Nx1 Nx2,\\n\");\n",
    "      printf(\"where Nx[0,1,2] is the number of grid points in the 0, 1, and 2 directions.\\n\");\n",
    "      printf(\"Nx[] MUST BE larger than NGHOSTS (= %d)\\n\",NGHOSTS);\n",
    "      exit(1);\n",
    "  }\n",
    "  // Step 0b: Set up numerical grid structure, first in space...\n",
    "  const int Nx0 = atoi(argv[1]);\n",
    "  const int Nx1 = atoi(argv[2]);\n",
    "  const int Nx2 = atoi(argv[3]);\n",
    "  if(Nx0%2 != 0 || Nx1%2 != 0 || Nx2%2 != 0) {\n",
    "    printf(\"Error: Cannot guarantee a proper cell-centered grid if number of grid cells not set to even number.\\n\");\n",
    "    printf(\"       For example, in case of angular directions, proper symmetry zones will not exist.\\n\");\n",
    "    exit(1);\n",
    "  }\n",
    "  const int Nxx[3] = { Nx0, Nx1, Nx2 };\n",
    "  const int Nxx_plus_2NGHOSTS[3] = { Nxx[0]+2*NGHOSTS, Nxx[1]+2*NGHOSTS, Nxx[2]+2*NGHOSTS };\n",
    "  const int Nxx_plus_2NGHOSTS_tot = Nxx_plus_2NGHOSTS[0]*Nxx_plus_2NGHOSTS[1]*Nxx_plus_2NGHOSTS[2];\n",
    "#include \"xxminmax.h\"\n",
    "\n",
    "  // Step 0c: Allocate memory for gridfunctions\n",
    "  REAL *evol_gfs = (REAL *)malloc(sizeof(REAL) * NUM_EVOL_GFS * Nxx_plus_2NGHOSTS_tot);\n",
    "  REAL *next_in_gfs = (REAL *)malloc(sizeof(REAL) * NUM_EVOL_GFS * Nxx_plus_2NGHOSTS_tot);\n",
    "  REAL *aux_gfs  = (REAL *)malloc(sizeof(REAL) * NUM_AUX_GFS * Nxx_plus_2NGHOSTS_tot);\n",
    "  REAL *k1_gfs = (REAL *)malloc(sizeof(REAL) * NUM_EVOL_GFS * Nxx_plus_2NGHOSTS_tot);\n",
    "  REAL *k2_gfs = (REAL *)malloc(sizeof(REAL) * NUM_EVOL_GFS * Nxx_plus_2NGHOSTS_tot);\n",
    "  REAL *k3_gfs = (REAL *)malloc(sizeof(REAL) * NUM_EVOL_GFS * Nxx_plus_2NGHOSTS_tot);\n",
    "  REAL *k4_gfs = (REAL *)malloc(sizeof(REAL) * NUM_EVOL_GFS * Nxx_plus_2NGHOSTS_tot);\n",
    "\n",
    "  // Step 0d: Set up space and time coordinates\n",
    "  // Step 0d.i: Set \\Delta x^i on uniform grids.\n",
    "  REAL dxx[3];\n",
    "  for(int i=0;i<3;i++) dxx[i] = (xxmax[i] - xxmin[i]) / ((REAL)Nxx[i]);\n",
    "\n",
    "  // Step 0d.ii: Set up uniform coordinate grids\n",
    "  REAL *xx[3];\n",
    "  for(int i=0;i<3;i++) {\n",
    "    xx[i] = (REAL *)malloc(sizeof(REAL)*Nxx_plus_2NGHOSTS[i]);\n",
    "    for(int j=0;j<Nxx_plus_2NGHOSTS[i];j++) {\n",
    "      xx[i][j] = xxmin[i] + ((REAL)(j-NGHOSTS) + (1.0/2.0))*dxx[i]; // Cell-centered grid.\n",
    "    }\n",
    "  }\n",
    "\n",
    "  // Step 0d.iii: Set timestep based on smallest proper distance between gridpoints and CFL factor \n",
    "  REAL dt = find_timestep(Nxx_plus_2NGHOSTS, dxx,xx, CFL_FACTOR);\n",
    "  //printf(\"# Timestep set to = %e\\n\",(double)dt);\n",
    "  int N_final = (int)(t_final / dt + 0.5); // The number of iterations in time.\n",
    "                                           //Add 0.5 to account for C rounding down integers.\n",
    "\n",
    "  // Step 0e: Find ghostzone mappings and parities:\n",
    "  gz_map *bc_gz_map = (gz_map *)malloc(sizeof(gz_map)*Nxx_plus_2NGHOSTS_tot);\n",
    "  parity_condition *bc_parity_conditions = (parity_condition *)malloc(sizeof(parity_condition)*Nxx_plus_2NGHOSTS_tot);\n",
    "  set_up_bc_gz_map_and_parity_conditions(Nxx_plus_2NGHOSTS,xx,dxx,xxmin,xxmax,  bc_gz_map, bc_parity_conditions);\n",
    "\n",
    "  // Step 1: Set up initial data to be exact solution at time=0:\n",
    "  initial_data(Nxx_plus_2NGHOSTS, xx, evol_gfs);\n",
    "\n",
    "  // Step 1b: Apply boundary conditions *FOR VALIDATION PURPOSES*\n",
    "  apply_bcs(Nxx, Nxx_plus_2NGHOSTS, bc_gz_map,bc_parity_conditions, evol_gfs);\n",
    "  enforce_detgammabar_constraint(Nxx_plus_2NGHOSTS, xx, evol_gfs);\n",
    "\n",
    "  // Step 2: Evaluate Hamiltonian constraint violation\n",
    "  Hamiltonian_constraint(Nxx,Nxx_plus_2NGHOSTS,dxx, xx, evol_gfs, aux_gfs);\n",
    "\n",
    "  // Step 3: Start the timer, for keeping track of how fast the simulation is progressing.\n",
    "  //struct timespec start, end;\n",
    "  //clock_gettime(CLOCK_REALTIME, &start);\n",
    "\n",
    "  // Step 4: Integrate the initial data forward in time using the Method of Lines and RK4\n",
    "\n",
    "  char filename2[100];\n",
    "  sprintf(filename2,\"BSSN_SF-evolution/quad_pot_uu_vv_cf.txt\");\n",
    "  FILE *evol = fopen(filename2, \"w\");\n",
    "  for(int n=0;n<=N_final;n++) { // Main loop to progress forward in time.\n",
    "    /***************************************************/\n",
    "    /* Implement RK4 for Method of Lines timestepping: */\n",
    "    /***************************************************/\n",
    "    /* -= RK4: Step 1 of 4 =- */\n",
    "    /* First evaluate k1 = RHSs expression             */\n",
    "    rhs_eval(Nxx,Nxx_plus_2NGHOSTS,dxx, xx,evol_gfs, k1_gfs);\n",
    "    /* Next k1 -> k1*dt, and then set the input for    */\n",
    "    /*    the next RHS eval call to y_n+k1/2           */\n",
    "#pragma omp parallel for\n",
    "    for(int i=0;i<Nxx_plus_2NGHOSTS_tot*NUM_EVOL_GFS;i++) {\n",
    "      k1_gfs[i] *= dt;\n",
    "      next_in_gfs[i] = evol_gfs[i] + k1_gfs[i]*0.5;\n",
    "    }\n",
    "    /* Finally, apply boundary conditions to           */\n",
    "    /* next_in_gfs, so its data are set everywhere.    */\n",
    "    apply_bcs(Nxx, Nxx_plus_2NGHOSTS, bc_gz_map,bc_parity_conditions, next_in_gfs);\n",
    "    enforce_detgammabar_constraint(Nxx_plus_2NGHOSTS, xx, next_in_gfs);\n",
    "    \n",
    "    /* -= RK4: Step 2 of 4 =- */\n",
    "    rhs_eval(Nxx,Nxx_plus_2NGHOSTS,dxx, xx,next_in_gfs, k2_gfs);\n",
    "#pragma omp parallel for\n",
    "    for(int i=0;i<Nxx_plus_2NGHOSTS_tot*NUM_EVOL_GFS;i++) {\n",
    "      k2_gfs[i] *= dt;\n",
    "      next_in_gfs[i] = evol_gfs[i] + k2_gfs[i]*0.5;\n",
    "    }\n",
    "    apply_bcs(Nxx, Nxx_plus_2NGHOSTS, bc_gz_map,bc_parity_conditions, next_in_gfs);\n",
    "    enforce_detgammabar_constraint(Nxx_plus_2NGHOSTS, xx, next_in_gfs);\n",
    "\n",
    "    /* -= RK4: Step 3 of 4 =- */\n",
    "    rhs_eval(Nxx,Nxx_plus_2NGHOSTS,dxx, xx,next_in_gfs, k3_gfs);\n",
    "#pragma omp parallel for\n",
    "    for(int i=0;i<Nxx_plus_2NGHOSTS_tot*NUM_EVOL_GFS;i++) {\n",
    "      k3_gfs[i] *= dt;\n",
    "      next_in_gfs[i] = evol_gfs[i] + k3_gfs[i];\n",
    "    }\n",
    "    apply_bcs(Nxx, Nxx_plus_2NGHOSTS, bc_gz_map,bc_parity_conditions, next_in_gfs);\n",
    "    enforce_detgammabar_constraint(Nxx_plus_2NGHOSTS, xx, next_in_gfs);\n",
    "\n",
    "    /* -= RK4: Step 4 of 4 =- */\n",
    "    rhs_eval(Nxx,Nxx_plus_2NGHOSTS,dxx, xx,next_in_gfs, k4_gfs);\n",
    "#pragma omp parallel for\n",
    "    for(int i=0;i<Nxx_plus_2NGHOSTS_tot*NUM_EVOL_GFS;i++) {\n",
    "      k4_gfs[i] *= dt;\n",
    "      evol_gfs[i] += (1.0/6.0)*(k1_gfs[i] + 2.0*k2_gfs[i] + 2.0*k3_gfs[i] + k4_gfs[i]);\n",
    "    }\n",
    "    apply_bcs(Nxx, Nxx_plus_2NGHOSTS, bc_gz_map,bc_parity_conditions, evol_gfs);\n",
    "    enforce_detgammabar_constraint(Nxx_plus_2NGHOSTS, xx, evol_gfs);\n",
    "    /* Output the solution of the scalar field and the conformal factor at diffrent time slices on a 2D grid */\n",
    "    if(n%50 == 0) {\n",
    "        char filename[100];\n",
    "        sprintf(filename,\"BSSN_SF-output2D/quad_pot_2d_t-%08d.txt\",n);\n",
    "        FILE *out2D = fopen(filename, \"w\");\n",
    "        const int i0MIN=NGHOSTS; // In spherical, r=Delta r/2.\n",
    "        const int i1mid=Nxx_plus_2NGHOSTS[1]/2;\n",
    "        const int i2mid=Nxx_plus_2NGHOSTS[2]/2;\n",
    "        LOOP_REGION(NGHOSTS,Nxx_plus_2NGHOSTS[0]-NGHOSTS, NGHOSTS,Nxx_plus_2NGHOSTS[1]-NGHOSTS, NGHOSTS,Nxx_plus_2NGHOSTS[2]-NGHOSTS) {\n",
    "           REAL xx0 = xx[0][i0];\n",
    "           REAL xx1 = xx[1][i1];\n",
    "           REAL xx2 = xx[2][i2];\n",
    "           REAL xCart[3];\n",
    "#include \"xxCart.h\"\n",
    "           int idx = IDX3(i0,i1,i2);\n",
    "           fprintf(out2D,\"%e %e %e %e\\n\",xCart[1],xCart[2], evol_gfs[IDX4pt(UUGF,idx)],evol_gfs[IDX4pt(CFGF,idx)]);\n",
    "         }\n",
    "         fclose(out2D);\n",
    "    }\n",
    "       \n",
    "    // Output time evolution at r=0\n",
    "    int idx0 = IDX3(0,0,0);\n",
    "    fprintf(evol,\"%e %e %e %e\\n\", n*dt, evol_gfs[IDX4pt(UUGF,idx0)],evol_gfs[IDX4pt(VVGF,idx0)],evol_gfs[IDX4pt(CFGF,idx0)]);\n",
    "        \n",
    "    // Progress indicator printing to stdout\n",
    "    // Measure average time per iteration\n",
    "    //clock_gettime(CLOCK_REALTIME, &end);\n",
    "    //const long long unsigned int time_in_ns = 1000000000L * (end.tv_sec - start.tv_sec) + end.tv_nsec - start.tv_nsec;\n",
    "    //const REAL s_per_iteration_avg = ((REAL)time_in_ns / (REAL)n) / 1.0e9;\n",
    "\n",
    "    //const int iterations_remaining = N_final - n;\n",
    "    //const REAL time_remaining_in_mins = s_per_iteration_avg * (REAL)iterations_remaining / 60.0;\n",
    "\n",
    "    //const REAL num_RHS_pt_evals = (REAL)(Nxx[0]*Nxx[1]*Nxx[2]) * 4.0 * (REAL)n; // 4 RHS evals per gridpoint for RK4\n",
    "    //const REAL RHS_pt_evals_per_sec = num_RHS_pt_evals / ((REAL)time_in_ns / 1.0e9);\n",
    "\n",
    "    // Progress indicator printing to stdout\n",
    "    //printf(\"%c[2K\", 27); // Clear the line\n",
    "    //printf(\"It: %d t=%.2f | %.1f%%; ETA %.0f s | t/h %.2f | gp/s %.2e\\r\",  // \\r is carriage return, move cursor to the beginning of the line\n",
    "    //       n, n * (double)dt, (double)(100.0 * (REAL)n / (REAL)N_final),\n",
    "    //       (double)time_remaining_in_mins*60, (double)(dt * 3600.0 / s_per_iteration_avg), (double)RHS_pt_evals_per_sec);\n",
    "    //fflush(stdout); // Flush the stdout buffer\n",
    "  } // End main loop to progress forward in time.\n",
    "  printf(\"\\n\"); // Clear the line.\n",
    "  fclose(evol);\n",
    "                               \n",
    "  /* Step 4: Free all allocated memory */\n",
    "  free(bc_parity_conditions);\n",
    "  free(bc_gz_map);\n",
    "  free(k4_gfs);\n",
    "  free(k3_gfs);\n",
    "  free(k2_gfs);\n",
    "  free(k1_gfs);\n",
    "  free(aux_gfs);\n",
    "  free(next_in_gfs);\n",
    "  free(evol_gfs);\n",
    "  for(int i=0;i<3;i++) free(xx[i]);\n",
    "  return 0;\n",
    "}"
   ]
  },
  {
   "cell_type": "markdown",
   "metadata": {},
   "source": [
    "!cd BSSN_SF/\n",
    "import time\n",
    "print(\"Now compiling, should take ~5 seconds...\\n\")\n",
    "start = time.time()\n",
    "#!gcc -Ofast -march=native -ftree-parallelize-loops=2 -fopenmp BSSN/BSSNCurvilinear_Playground.c -o BSSNCurvilinear_Playground -lm\n",
    "#!gcc-8 -Ofast -march=native BSSN_SF/BSSNScalar_Field.c -o BSSN-SField -L/usr/local/lib -lgsl -lgslcblas -lm\n",
    "cmd.C_compile(\"BSSN_SF/BSSNScalar_Field.c\", \"BSSN-SField\")\n",
    "end = time.time()\n",
    "print(\"Finished in \"+str(end-start)+\" seconds. Running should take take ~40 seconds...\\n\")\n",
    "\n",
    "start = time.time()\n",
    "#!./BSSN-SField 512 2 2\n",
    "cmd.Execute(\"BSSN-SField\", \"512 2 2\")\n",
    "end = time.time()\n",
    "print(\"Finished in \"+str(end-start)+\" seconds.\")"
   ]
  },
  {
   "cell_type": "markdown",
   "metadata": {},
   "source": [
    "## Plot the scalar field time evolution"
   ]
  },
  {
   "cell_type": "code",
   "execution_count": 72,
   "metadata": {},
   "outputs": [],
   "source": [
    "import numpy as np\n",
    "from scipy.interpolate import griddata \n",
    "from pylab import savefig \n",
    "import matplotlib.pyplot as plt \n",
    "import matplotlib.cm as cm \n",
    "from IPython.display import Image \n",
    "from IPython.display import HTML \n",
    "import matplotlib.image as mgimg \n",
    "import glob \n",
    "import sys \n",
    "from matplotlib import animation\n",
    "plt.rcParams.update(plt.rcParamsDefault) \n",
    "plt.rc('xtick', labelsize=16) \n",
    "plt.rc('ytick', labelsize=16) \n",
    "plt.rcParams.update({'font.size': 16}) \n",
    "plt.rcParams.update({'font.family' : 'sans-serif'}) \n",
    "plt.rcParams.update({'font.sans-serif' : 'Helvetica'}) \n",
    "plt.rcParams.update({'figure.figsize' : '8., 2.9'}) \n",
    "plt.rcParams.update({'figure.autolayout': True})\n",
    "evol = np.loadtxt(\"BSSN_SF-evolution/zero_pot_uu_vv_cf_BH_zeroinit.txt\") \n",
    "t = evol[:,0] \n",
    "uu = evol[:,1] \n",
    "vv = evol[:,2] \n",
    "cf = evol[:,3]\n",
    "plt.plot(t,cf, color=cm.BuGn(8/10.,1))\n",
    "plt.xlabel(\"time\") \n",
    "#plt.xticks([])\n",
    "plt.ylabel(r\"$\\varphi(r=0)$\")\n",
    "#plt.ylabel(r\"$e^{-4\\phi}(r=0)$\")\n",
    "#plt.ylim(0.9,0.95)\n",
    "#plt.ylim(-0.3,0.3)\n",
    "plt.ylim(-1,1)\n",
    "plt.xlim(-0.1,300) \n",
    "plt.savefig(\"BSSN_SF-evolution/zero_pot_uu_BH_zeroinit.png\") \n",
    "plt.close() "
   ]
  },
  {
   "cell_type": "code",
   "execution_count": 30,
   "metadata": {},
   "outputs": [
    {
     "name": "stdout",
     "output_type": "stream",
     "text": [
      "Zero Potential with Gauss initial\n"
     ]
    },
    {
     "data": {
      "image/png": "[encoded data removed]",
      "text/plain": [
       "<IPython.core.display.Image object>"
      ]
     },
     "execution_count": 30,
     "metadata": {},
     "output_type": "execute_result"
    }
   ],
   "source": [
    "print(\"Zero Potential with Gauss initial\")\n",
    "Image(\"BSSN_SF-evolution/zero_pot_uu_Gauss.png\")"
   ]
  },
  {
   "cell_type": "code",
   "execution_count": 73,
   "metadata": {},
   "outputs": [
    {
     "name": "stdout",
     "output_type": "stream",
     "text": [
      "Zero Potential with zero initial\n"
     ]
    },
    {
     "data": {
      "image/png": "[encoded data removed]",
      "text/plain": [
       "<IPython.core.display.Image object>"
      ]
     },
     "execution_count": 73,
     "metadata": {},
     "output_type": "execute_result"
    }
   ],
   "source": [
    "print(\"Zero Potential with zero initial\")\n",
    "Image(\"BSSN_SF-evolution/zero_pot_uu_BH_zeroinit.png\")"
   ]
  },
  {
   "cell_type": "code",
   "execution_count": 60,
   "metadata": {},
   "outputs": [
    {
     "name": "stdout",
     "output_type": "stream",
     "text": [
      "Zero Potential\n"
     ]
    },
    {
     "data": {
      "image/png": "[encoded data removed]",
      "text/plain": [
       "<IPython.core.display.Image object>"
      ]
     },
     "execution_count": 60,
     "metadata": {},
     "output_type": "execute_result"
    }
   ],
   "source": [
    "print(\"Zero Potential\")\n",
    "Image(\"BSSN_SF-evolution/zero_pot_uu_BH.png\")"
   ]
  },
  {
   "cell_type": "code",
   "execution_count": 47,
   "metadata": {},
   "outputs": [
    {
     "name": "stdout",
     "output_type": "stream",
     "text": [
      "Quad Potential\n"
     ]
    },
    {
     "data": {
      "image/png": "[encoded data removed]",
      "text/plain": [
       "<IPython.core.display.Image object>"
      ]
     },
     "execution_count": 47,
     "metadata": {},
     "output_type": "execute_result"
    }
   ],
   "source": [
    "print(\"Quad Potential\")\n",
    "Image(\"BSSN_SF-evolution/quad_pot_uu_BH.png\")"
   ]
  },
  {
   "cell_type": "code",
   "execution_count": 37,
   "metadata": {},
   "outputs": [
    {
     "name": "stdout",
     "output_type": "stream",
     "text": [
      "Self Interacting Potential\n"
     ]
    },
    {
     "data": {
      "image/png": "[encoded data removed]",
      "text/plain": [
       "<IPython.core.display.Image object>"
      ]
     },
     "execution_count": 37,
     "metadata": {},
     "output_type": "execute_result"
    }
   ],
   "source": [
    "print(\"Self Interacting Potential\")\n",
    "Image(\"BSSN_SF-evolution/self_pot_uu_BH.png\")"
   ]
  },
  {
   "cell_type": "markdown",
   "metadata": {},
   "source": [
    "## Generate images of the scalar field on 2D grid for animation "
   ]
  },
  {
   "cell_type": "code",
   "execution_count": 61,
   "metadata": {},
   "outputs": [
    {
     "name": "stdout",
     "output_type": "stream",
     "text": [
      "\u001b[2KProcessing file 300.00 BSSN_SF-output2D\\zero_pot_2d_t-00001500_BH.txt\r"
     ]
    }
   ],
   "source": [
    "## VISUALIZATION ANIMATION, PART 1: Generate PNGs, one per frame of movie ##\n",
    "import numpy as np\n",
    "from scipy.interpolate import griddata\n",
    "from pylab import savefig\n",
    "import matplotlib.pyplot as plt\n",
    "import matplotlib.cm as cm\n",
    "from IPython.display import Image\n",
    "from IPython.display import HTML\n",
    "import matplotlib.image as mgimg\n",
    "import glob\n",
    "import sys\n",
    "from matplotlib import animation\n",
    "\n",
    "plt.rcParams.update(plt.rcParamsDefault)\n",
    "plt.rc('xtick', labelsize=12)\n",
    "plt.rc('ytick', labelsize=12)\n",
    "plt.rcParams.update({'font.size': 12})\n",
    "plt.rcParams.update({'font.family'       : 'sans-serif'})\n",
    "plt.rcParams.update({'font.sans-serif'   : 'Helvetica'})\n",
    "plt.rcParams.update({'figure.figsize'    :  '5, 3.5'})\n",
    "plt.rcParams.update({'figure.autolayout': True})\n",
    "\n",
    "globby = glob.glob('BSSN_SF-output2D/zero_pot_2d_t-*_BH.txt')\n",
    "file_list = []\n",
    "for x in sorted(globby):\n",
    "    file_list.append(x)\n",
    "\n",
    "bound = 10.\n",
    "pl_xmin = -bound\n",
    "pl_xmax = +bound\n",
    "pl_ymin = -bound\n",
    "pl_ymax = +bound\n",
    "\n",
    "N_interp_pts  = 300\n",
    "N_interp_ptsj = 300j\n",
    "j = 0\n",
    "maxtime = 300\n",
    "numf = len(file_list)\n",
    "for filename in file_list:\n",
    "    j = j + 1\n",
    "    time = j*maxtime/numf\n",
    "    fig = plt.figure()\n",
    "    x,y,sf,cf = np.loadtxt(filename).T #Transposed for easier unpacking\n",
    "    \n",
    "    plotquantity = sf\n",
    "    plotdescription = \"Scalar field\"\n",
    "    plt.title(\"time = %.2f\"%time)\n",
    "    plt.xlabel(\"y/M\")\n",
    "    plt.ylabel(\"z/M\")\n",
    "\n",
    "    grid_x, grid_y = np.mgrid[pl_xmin:pl_xmax:N_interp_ptsj, pl_ymin:pl_ymax:N_interp_ptsj]\n",
    "    points = np.zeros((len(x), 2))\n",
    "    for i in range(len(x)):\n",
    "        points[i][0] = x[i]\n",
    "        points[i][1] = y[i]   \n",
    "    \n",
    "    grid = griddata(points, plotquantity, (grid_x, grid_y), method='nearest')\n",
    "    gridcub = griddata(points, plotquantity, (grid_x, grid_y), method='cubic')\n",
    "    im = plt.imshow(gridcub.T, extent=(pl_xmin,pl_xmax, pl_ymin,pl_ymax),cmap='YlGn')\n",
    "    ax = plt.colorbar()\n",
    "    ax.set_label(plotdescription)\n",
    "    savefig(filename+\"_sf.png\",dpi=450)\n",
    "    plt.close(fig)\n",
    "    sys.stdout.write(\"%c[2K\" % 27)\n",
    "    sys.stdout.write(\"Processing file %.2f \"%time+filename+\"\\r\")\n",
    "    sys.stdout.flush()"
   ]
  },
  {
   "cell_type": "markdown",
   "metadata": {},
   "source": [
    "## And for the conformal factor"
   ]
  },
  {
   "cell_type": "code",
   "execution_count": 62,
   "metadata": {},
   "outputs": [
    {
     "name": "stdout",
     "output_type": "stream",
     "text": [
      "\u001b[2KProcessing file 600.00 BSSN_SF-output2D\\zero_pot_2d_t-00001500_BH.txt\r"
     ]
    }
   ],
   "source": [
    "for filename in file_list:\n",
    "    j = j + 1\n",
    "    time = j*maxtime/numf\n",
    "    fig = plt.figure()\n",
    "    x,y,sf,cf = np.loadtxt(filename).T #Transposed for easier unpacking\n",
    "    \n",
    "    plotquantity = cf\n",
    "    plotdescription = \"Conformal factor\"\n",
    "    plt.title(\"time = %.2f\"%time)\n",
    "    plt.xlabel(\"y/M\")\n",
    "    plt.ylabel(\"z/M\")\n",
    "\n",
    "    grid_x, grid_y = np.mgrid[pl_xmin:pl_xmax:N_interp_ptsj, pl_ymin:pl_ymax:N_interp_ptsj]\n",
    "    points = np.zeros((len(x), 2))\n",
    "    for i in range(len(x)):\n",
    "        # Zach says: No idea why x and y get flipped...\n",
    "        points[i][0] = x[i]\n",
    "        points[i][1] = y[i]   \n",
    "    \n",
    "    grid = griddata(points, plotquantity, (grid_x, grid_y), method='nearest')\n",
    "    gridcub = griddata(points, plotquantity, (grid_x, grid_y), method='cubic')\n",
    "    #im = plt.imshow(grid, extent=(pl_xmin,pl_xmax, pl_ymin,pl_ymax))\n",
    "    im = plt.imshow(gridcub.T, extent=(pl_xmin,pl_xmax, pl_ymin,pl_ymax),cmap='YlGn')\n",
    "    #plt.pcolormesh(grid_y,grid_x, grid, vmin=-8, vmax=0) # Set colorbar range from -8 to 0\n",
    "    ax = plt.colorbar(format='%.3f')\n",
    "    ax.set_label(plotdescription)\n",
    "    savefig(filename+\"_cf.png\",dpi=450)\n",
    "    plt.close(fig)\n",
    "    sys.stdout.write(\"%c[2K\" % 27)\n",
    "    sys.stdout.write(\"Processing file %.2f \"%time+filename+\"\\r\")\n",
    "    sys.stdout.flush()"
   ]
  },
  {
   "cell_type": "markdown",
   "metadata": {},
   "source": [
    "## Generate animation of the time evolution of the scalar field and the conformal factor"
   ]
  },
  {
   "cell_type": "code",
   "execution_count": 63,
   "metadata": {},
   "outputs": [
    {
     "name": "stderr",
     "output_type": "stream",
     "text": [
      "D:\\Anaconda3\\lib\\site-packages\\ipykernel_launcher.py:44: UserWarning: This figure includes Axes that are not compatible with tight_layout, so results might be incorrect.\n"
     ]
    }
   ],
   "source": [
    "import numpy as np\n",
    "from scipy.interpolate import griddata\n",
    "from pylab import savefig\n",
    "import matplotlib.pyplot as plt\n",
    "import matplotlib.cm as cm\n",
    "from IPython.display import Image\n",
    "from IPython.display import HTML\n",
    "import matplotlib.image as mgimg\n",
    "import glob\n",
    "import sys\n",
    "from matplotlib import animation\n",
    "\n",
    "globby = glob.glob('BSSN_SF-output2D/zero_pot_2d_t-*_BH.txt')\n",
    "file_list = []\n",
    "for x in sorted(globby):\n",
    "    file_list.append(x)\n",
    "## VISUALIZATION ANIMATION, PART 2: Combine PNGs to generate movie ##\n",
    "\n",
    "# https://stackoverflow.com/questions/14908576/how-to-remove-frame-from-matplotlib-pyplot-figure-vs-matplotlib-figure-frame\n",
    "# https://stackoverflow.com/questions/23176161/animating-pngs-in-matplotlib-using-artistanimation\n",
    "# Set up formatting for the movie files\n",
    "#Writer = animation.writers['ffmpeg']\n",
    "#writer = Writer(fps=15, metadata=dict(artist='Me'), bitrate=1800)\n",
    "#import numpy as np\n",
    "#from scipy.interpolate import griddata\n",
    "#from pylab import savefig\n",
    "\n",
    "#Writer = animation.writers['pillow']\n",
    "#writer = Writer(fps=15, metadata=dict(artist='Me'), bitrate=1800)\n",
    "#plt.rcParams['animation.ffmpeg_path'] = '/usr/local/bin/ffmpeg'\n",
    "#Writer = animation.writers['ffmpeg']\n",
    "fig = plt.figure(frameon=False)\n",
    "ax = fig.add_axes([0, 0, 1, 1])\n",
    "ax.axis('off')\n",
    "\n",
    "myimages = []\n",
    "for i in range(len(file_list)):\n",
    "    img = mgimg.imread(file_list[i]+\"_sf.png\")\n",
    "    imgplot = plt.imshow(img)\n",
    "    myimages.append([imgplot])\n",
    "\n",
    "ani = animation.ArtistAnimation(fig, myimages, interval=100,  repeat_delay=1000)\n",
    "plt.close()\n",
    "ani.save(\"BSSN_SF_zero_pot_sf_BH.mp4\",dpi=450, fps=5)#,writer='ffmpeg')"
   ]
  },
  {
   "cell_type": "code",
   "execution_count": 64,
   "metadata": {},
   "outputs": [
    {
     "name": "stderr",
     "output_type": "stream",
     "text": [
      "D:\\Anaconda3\\lib\\site-packages\\ipykernel_launcher.py:14: UserWarning: This figure includes Axes that are not compatible with tight_layout, so results might be incorrect.\n",
      "  \n"
     ]
    }
   ],
   "source": [
    "fig = plt.figure(frameon=False)\n",
    "ax = fig.add_axes([0, 0, 1, 1])\n",
    "ax.axis('off')\n",
    "\n",
    "myimages = []\n",
    "\n",
    "for i in range(len(file_list)-1):\n",
    "    img = mgimg.imread(file_list[i]+\"_cf.png\")\n",
    "    imgplot = plt.imshow(img)\n",
    "    myimages.append([imgplot])\n",
    "\n",
    "ani = animation.ArtistAnimation(fig, myimages, interval=100,  repeat_delay=1000)\n",
    "plt.close()\n",
    "ani.save('BSSN_SF_zero_pot_cf_BH.mp4',dpi=450, fps=5,writer='ffmpeg')"
   ]
  },
  {
   "cell_type": "code",
   "execution_count": 44,
   "metadata": {},
   "outputs": [
    {
     "data": {
      "text/html": [
       "\n",
       "    <video width=\"480\" height=\"360\" controls>\n",
       "        <source src=\"BSSN_SF_self_pot_sf_BH.mp4\" type=\"video/mp4\"> \n",
       "    </video>\n"
      ],
      "text/plain": [
       "<IPython.core.display.HTML object>"
      ]
     },
     "execution_count": 44,
     "metadata": {},
     "output_type": "execute_result"
    }
   ],
   "source": [
    "from IPython.display import HTML\n",
    "#the filename needed to be changed manually\n",
    "\n",
    "HTML(\"\"\"\n",
    "    <video width=\"480\" height=\"360\" controls>\n",
    "        <source src=\"BSSN_SF_self_pot_sf_BH.mp4\" type=\"video/mp4\"> \n",
    "    </video>\n",
    "\"\"\")"
   ]
  },
  {
   "cell_type": "code",
   "execution_count": 43,
   "metadata": {},
   "outputs": [
    {
     "data": {
      "text/html": [
       "\n",
       "    <video width=\"480\" height=\"360\" controls>\n",
       "        <source src=\"BSSN_SF_self_pot_cf_BH.mp4\" type=\"video/mp4\"> \n",
       "    </video>\n"
      ],
      "text/plain": [
       "<IPython.core.display.HTML object>"
      ]
     },
     "execution_count": 43,
     "metadata": {},
     "output_type": "execute_result"
    }
   ],
   "source": [
    "from IPython.display import HTML\n",
    "#the filename needed to be changed manually\n",
    "\n",
    "HTML(\"\"\"\n",
    "    <video width=\"480\" height=\"360\" controls>\n",
    "        <source src=\"BSSN_SF_self_pot_cf_BH.mp4\" type=\"video/mp4\"> \n",
    "    </video>\n",
    "\"\"\")"
   ]
  },
  {
   "cell_type": "code",
   "execution_count": 52,
   "metadata": {},
   "outputs": [
    {
     "data": {
      "text/html": [
       "\n",
       "    <video width=\"480\" height=\"360\" controls>\n",
       "        <source src=\"BSSN_SF_quad_pot_sf_BH.mp4\" type=\"video/mp4\"> \n",
       "    </video>\n"
      ],
      "text/plain": [
       "<IPython.core.display.HTML object>"
      ]
     },
     "execution_count": 52,
     "metadata": {},
     "output_type": "execute_result"
    }
   ],
   "source": [
    "from IPython.display import HTML\n",
    "#the filename needed to be changed manually\n",
    "\n",
    "HTML(\"\"\"\n",
    "    <video width=\"480\" height=\"360\" controls>\n",
    "        <source src=\"BSSN_SF_quad_pot_sf_BH.mp4\" type=\"video/mp4\"> \n",
    "    </video>\n",
    "\"\"\")"
   ]
  },
  {
   "cell_type": "code",
   "execution_count": 54,
   "metadata": {},
   "outputs": [
    {
     "data": {
      "text/html": [
       "\n",
       "    <video width=\"480\" height=\"360\" controls>\n",
       "        <source src=\"BSSN_SF_quad_pot_cf_BH.mp4\" type=\"video/mp4\"> \n",
       "    </video>\n"
      ],
      "text/plain": [
       "<IPython.core.display.HTML object>"
      ]
     },
     "execution_count": 54,
     "metadata": {},
     "output_type": "execute_result"
    }
   ],
   "source": [
    "from IPython.display import HTML\n",
    "#the filename needed to be changed manually\n",
    "\n",
    "HTML(\"\"\"\n",
    "    <video width=\"480\" height=\"360\" controls>\n",
    "        <source src=\"BSSN_SF_quad_pot_cf_BH.mp4\" type=\"video/mp4\"> \n",
    "    </video>\n",
    "\"\"\")"
   ]
  },
  {
   "cell_type": "code",
   "execution_count": 65,
   "metadata": {},
   "outputs": [
    {
     "data": {
      "text/html": [
       "\n",
       "    <video width=\"480\" height=\"360\" controls>\n",
       "        <source src=\"BSSN_SF_zero_pot_sf_BH.mp4\" type=\"video/mp4\"> \n",
       "    </video>\n"
      ],
      "text/plain": [
       "<IPython.core.display.HTML object>"
      ]
     },
     "execution_count": 65,
     "metadata": {},
     "output_type": "execute_result"
    }
   ],
   "source": [
    "from IPython.display import HTML\n",
    "#the filename needed to be changed manually\n",
    "\n",
    "HTML(\"\"\"\n",
    "    <video width=\"480\" height=\"360\" controls>\n",
    "        <source src=\"BSSN_SF_zero_pot_sf_BH.mp4\" type=\"video/mp4\"> \n",
    "    </video>\n",
    "\"\"\")"
   ]
  },
  {
   "cell_type": "code",
   "execution_count": 66,
   "metadata": {},
   "outputs": [
    {
     "data": {
      "text/html": [
       "\n",
       "    <video width=\"480\" height=\"360\" controls>\n",
       "        <source src=\"BSSN_SF_zero_pot_cf_BH.mp4\" type=\"video/mp4\"> \n",
       "    </video>\n"
      ],
      "text/plain": [
       "<IPython.core.display.HTML object>"
      ]
     },
     "execution_count": 66,
     "metadata": {},
     "output_type": "execute_result"
    }
   ],
   "source": [
    "from IPython.display import HTML\n",
    "#the filename needed to be changed manually\n",
    "\n",
    "HTML(\"\"\"\n",
    "    <video width=\"480\" height=\"360\" controls>\n",
    "        <source src=\"BSSN_SF_zero_pot_cf_BH.mp4\" type=\"video/mp4\"> \n",
    "    </video>\n",
    "\"\"\")"
   ]
  },
  {
   "cell_type": "markdown",
   "metadata": {},
   "source": [
    "## 1D Conformal Factor"
   ]
  },
  {
   "cell_type": "code",
   "execution_count": 49,
   "metadata": {},
   "outputs": [
    {
     "name": "stderr",
     "output_type": "stream",
     "text": [
      "D:\\Anaconda3\\lib\\site-packages\\ipykernel_launcher.py:34: RuntimeWarning: More than 20 figures have been opened. Figures created through the pyplot interface (`matplotlib.pyplot.figure`) are retained until explicitly closed and may consume too much memory. (To control this warning, see the rcParam `figure.max_open_warning`).\n"
     ]
    },
    {
     "name": "stdout",
     "output_type": "stream",
     "text": [
      "\u001b[2KProcessing file 300.00 BSSN_SF-output2D\\zero_pot_2d_t-00012200_BH_Ham.txtrocessing file 36.73 BSSN_SF-output2D\\zero_pot_2d_t-00001450_BH_Ham.txt\r"
     ]
    }
   ],
   "source": [
    "## VISUALIZATION ANIMATION, PART 1: Generate PNGs, one per frame of movie ##\n",
    "import numpy as np\n",
    "from scipy.interpolate import griddata\n",
    "from pylab import savefig\n",
    "import matplotlib.pyplot as plt\n",
    "import matplotlib.cm as cm\n",
    "from IPython.display import Image\n",
    "from IPython.display import HTML\n",
    "import matplotlib.image as mgimg\n",
    "import glob\n",
    "import sys\n",
    "from matplotlib import animation\n",
    "\n",
    "plt.rcParams.update(plt.rcParamsDefault) \n",
    "plt.rc('xtick', labelsize=16) \n",
    "plt.rc('ytick', labelsize=16) \n",
    "plt.rcParams.update({'font.size': 16}) \n",
    "plt.rcParams.update({'font.family' : 'sans-serif'}) \n",
    "plt.rcParams.update({'font.sans-serif' : 'Helvetica'}) \n",
    "plt.rcParams.update({'figure.figsize' : '10., 4.'}) \n",
    "plt.rcParams.update({'figure.autolayout': True})\n",
    "\n",
    "globby = glob.glob('BSSN_SF-output2D/zero_pot_2d_t-*_BH_Ham.txt')\n",
    "file_list = []\n",
    "for x in sorted(globby):\n",
    "    file_list.append(x)\n",
    "\n",
    "j = 0\n",
    "maxtime = 300\n",
    "numf = len(file_list)\n",
    "for filename in file_list:\n",
    "    j = j + 1\n",
    "    time = j*maxtime/numf\n",
    "    fig = plt.figure()\n",
    "    x,y,sf,cf,ham = np.loadtxt(filename).T #Transposed for easier unpacking\n",
    "    \n",
    "    realx = []\n",
    "    realcf = []\n",
    "\n",
    "    for i in range(len(x)):\n",
    "        if x[i] not in realx:\n",
    "            realx.append(x[i])\n",
    "            realcf.append(cf[i])\n",
    "    \n",
    "    plotdescription = \"Scalar field\"\n",
    "    plt.title(\"time = %.2f\"%time)\n",
    "    plt.xlabel(\"y/M\")\n",
    "    plt.ylabel(\"Hamiltonian constraint\")\n",
    "\n",
    "    plt.plot(realx,realham, color=cm.BuGn(8/10.,1))\n",
    "    plt.ylim(-0.25,1.05)\n",
    "    plt.xlim(-0.1,10) \n",
    "    plt.savefig(filename + \".png\") \n",
    "    plt.close() \n",
    "    \n",
    "    sys.stdout.write(\"%c[2K\" % 27)\n",
    "    sys.stdout.write(\"Processing file %.2f \"%time+filename+\"\\r\")\n",
    "    sys.stdout.flush()"
   ]
  },
  {
   "cell_type": "code",
   "execution_count": 50,
   "metadata": {},
   "outputs": [
    {
     "name": "stderr",
     "output_type": "stream",
     "text": [
      "D:\\Anaconda3\\lib\\site-packages\\ipykernel_launcher.py:1: RuntimeWarning: More than 20 figures have been opened. Figures created through the pyplot interface (`matplotlib.pyplot.figure`) are retained until explicitly closed and may consume too much memory. (To control this warning, see the rcParam `figure.max_open_warning`).\n",
      "  \"\"\"Entry point for launching an IPython kernel.\n",
      "D:\\Anaconda3\\lib\\site-packages\\ipykernel_launcher.py:14: UserWarning: This figure includes Axes that are not compatible with tight_layout, so results might be incorrect.\n",
      "  \n"
     ]
    }
   ],
   "source": [
    "fig = plt.figure(frameon=False)\n",
    "ax = fig.add_axes([0, 0, 1, 1])\n",
    "ax.axis('off')\n",
    "\n",
    "myimages = []\n",
    "\n",
    "for i in range(len(file_list)-1):\n",
    "    img = mgimg.imread(file_list[i]+\".png\")\n",
    "    imgplot = plt.imshow(img)\n",
    "    myimages.append([imgplot])\n",
    "\n",
    "ani = animation.ArtistAnimation(fig, myimages, interval=100,  repeat_delay=1000)\n",
    "plt.close()\n",
    "ani.save('BSSN_SF_zero_pot_Ham_BH.mp4',dpi=450, fps=5,writer='ffmpeg')"
   ]
  },
  {
   "cell_type": "code",
   "execution_count": 19,
   "metadata": {},
   "outputs": [
    {
     "data": {
      "text/html": [
       "\n",
       "    <video width=\"480\" height=\"360\" controls>\n",
       "        <source src=\"BSSN_SF_zero_pot_cf2D_BH.mp4\" type=\"video/mp4\"> \n",
       "    </video>\n"
      ],
      "text/plain": [
       "<IPython.core.display.HTML object>"
      ]
     },
     "execution_count": 19,
     "metadata": {},
     "output_type": "execute_result"
    }
   ],
   "source": [
    "from IPython.display import HTML\n",
    "#the filename needed to be changed manually\n",
    "\n",
    "HTML(\"\"\"\n",
    "    <video width=\"480\" height=\"360\" controls>\n",
    "        <source src=\"BSSN_SF_zero_pot_cf2D_BH.mp4\" type=\"video/mp4\"> \n",
    "    </video>\n",
    "\"\"\")"
   ]
  },
  {
   "cell_type": "code",
   "execution_count": 22,
   "metadata": {},
   "outputs": [
    {
     "data": {
      "text/html": [
       "\n",
       "    <video width=\"480\" height=\"360\" controls>\n",
       "        <source src=\"BSSN_SF_quad_pot_cf2D_BH.mp4\" type=\"video/mp4\"> \n",
       "    </video>\n"
      ],
      "text/plain": [
       "<IPython.core.display.HTML object>"
      ]
     },
     "execution_count": 22,
     "metadata": {},
     "output_type": "execute_result"
    }
   ],
   "source": [
    "from IPython.display import HTML\n",
    "#the filename needed to be changed manually\n",
    "\n",
    "HTML(\"\"\"\n",
    "    <video width=\"480\" height=\"360\" controls>\n",
    "        <source src=\"BSSN_SF_quad_pot_cf2D_BH.mp4\" type=\"video/mp4\"> \n",
    "    </video>\n",
    "\"\"\")"
   ]
  },
  {
   "cell_type": "code",
   "execution_count": 25,
   "metadata": {},
   "outputs": [
    {
     "data": {
      "text/html": [
       "\n",
       "    <video width=\"480\" height=\"360\" controls>\n",
       "        <source src=\"BSSN_SF_self_pot_cf2D_BH.mp4\" type=\"video/mp4\"> \n",
       "    </video>\n"
      ],
      "text/plain": [
       "<IPython.core.display.HTML object>"
      ]
     },
     "execution_count": 25,
     "metadata": {},
     "output_type": "execute_result"
    }
   ],
   "source": [
    "from IPython.display import HTML\n",
    "#the filename needed to be changed manually\n",
    "\n",
    "HTML(\"\"\"\n",
    "    <video width=\"480\" height=\"360\" controls>\n",
    "        <source src=\"BSSN_SF_self_pot_cf2D_BH.mp4\" type=\"video/mp4\"> \n",
    "    </video>\n",
    "\"\"\")"
   ]
  },
  {
   "cell_type": "code",
   "execution_count": 51,
   "metadata": {},
   "outputs": [
    {
     "data": {
      "text/html": [
       "\n",
       "    <video width=\"480\" height=\"360\" controls>\n",
       "        <source src=\"BSSN_SF_zero_pot_Ham_BH.mp4\" type=\"video/mp4\"> \n",
       "    </video>\n"
      ],
      "text/plain": [
       "<IPython.core.display.HTML object>"
      ]
     },
     "execution_count": 51,
     "metadata": {},
     "output_type": "execute_result"
    }
   ],
   "source": [
    "from IPython.display import HTML\n",
    "#the filename needed to be changed manually\n",
    "\n",
    "HTML(\"\"\"\n",
    "    <video width=\"480\" height=\"360\" controls>\n",
    "        <source src=\"BSSN_SF_zero_pot_Ham_BH.mp4\" type=\"video/mp4\"> \n",
    "    </video>\n",
    "\"\"\")"
   ]
  },
  {
   "cell_type": "code",
   "execution_count": 40,
   "metadata": {},
   "outputs": [
    {
     "data": {
      "text/html": [
       "\n",
       "    <video width=\"480\" height=\"360\" controls>\n",
       "        <source src=\"BSSN_SF_quad_pot_Ham_BH.mp4\" type=\"video/mp4\"> \n",
       "    </video>\n"
      ],
      "text/plain": [
       "<IPython.core.display.HTML object>"
      ]
     },
     "execution_count": 40,
     "metadata": {},
     "output_type": "execute_result"
    }
   ],
   "source": [
    "from IPython.display import HTML\n",
    "#the filename needed to be changed manually\n",
    "\n",
    "HTML(\"\"\"\n",
    "    <video width=\"480\" height=\"360\" controls>\n",
    "        <source src=\"BSSN_SF_quad_pot_Ham_BH.mp4\" type=\"video/mp4\"> \n",
    "    </video>\n",
    "\"\"\")"
   ]
  },
  {
   "cell_type": "code",
   "execution_count": 48,
   "metadata": {},
   "outputs": [
    {
     "data": {
      "text/html": [
       "\n",
       "    <video width=\"480\" height=\"360\" controls>\n",
       "        <source src=\"BSSN_SF_self_pot_Ham_BH.mp4\" type=\"video/mp4\"> \n",
       "    </video>\n"
      ],
      "text/plain": [
       "<IPython.core.display.HTML object>"
      ]
     },
     "execution_count": 48,
     "metadata": {},
     "output_type": "execute_result"
    }
   ],
   "source": [
    "from IPython.display import HTML\n",
    "#the filename needed to be changed manually\n",
    "\n",
    "HTML(\"\"\"\n",
    "    <video width=\"480\" height=\"360\" controls>\n",
    "        <source src=\"BSSN_SF_self_pot_Ham_BH.mp4\" type=\"video/mp4\"> \n",
    "    </video>\n",
    "\"\"\")"
   ]
  },
  {
   "cell_type": "code",
   "execution_count": null,
   "metadata": {},
   "outputs": [],
   "source": []
  }
 ],
 "metadata": {
  "kernelspec": {
   "display_name": "Python 3",
   "language": "python",
   "name": "python3"
  },
  "language_info": {
   "codemirror_mode": {
    "name": "ipython",
    "version": 3
   },
   "file_extension": ".py",
   "mimetype": "text/x-python",
   "name": "python",
   "nbconvert_exporter": "python",
   "pygments_lexer": "ipython3",
   "version": "3.7.4"
  }
 },
 "nbformat": 4,
 "nbformat_minor": 4
}
