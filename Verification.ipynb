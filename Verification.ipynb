{
 "cells": [
  {
   "cell_type": "markdown",
   "metadata": {},
   "source": [
    "## Blackhole"
   ]
  },
  {
   "cell_type": "code",
   "execution_count": 49,
   "metadata": {},
   "outputs": [
    {
     "name": "stderr",
     "output_type": "stream",
     "text": [
      "D:\\Anaconda3\\lib\\site-packages\\ipykernel_launcher.py:56: UserWarning: Attempted to set non-positive left xlim on a log-scaled axis.\n",
      "Invalid limit will be ignored.\n"
     ]
    },
    {
     "name": "stdout",
     "output_type": "stream",
     "text": [
      "\u001b[2KProcessing file 40.00 BSSN_SF-output2D\\self_pot_2d_t-00003250_BH_32R.txt\r"
     ]
    }
   ],
   "source": [
    "import numpy as np\n",
    "from scipy.interpolate import griddata\n",
    "from pylab import savefig\n",
    "import matplotlib.pyplot as plt\n",
    "import matplotlib.cm as cm\n",
    "from IPython.display import Image\n",
    "from IPython.display import HTML\n",
    "import matplotlib.image as mgimg\n",
    "import glob\n",
    "import sys\n",
    "from matplotlib import animation\n",
    "\n",
    "plt.rcParams.update(plt.rcParamsDefault) \n",
    "plt.rc('xtick', labelsize=16) \n",
    "plt.rc('ytick', labelsize=16) \n",
    "plt.rcParams.update({'font.size': 16}) \n",
    "plt.rcParams.update({'font.family' : 'sans-serif'}) \n",
    "plt.rcParams.update({'font.sans-serif' : 'Helvetica'}) \n",
    "plt.rcParams.update({'figure.figsize' : '10., 6.'}) \n",
    "plt.rcParams.update({'figure.autolayout': True})\n",
    "\n",
    "globby = glob.glob('BSSN_SF-output2D/self_pot_2d_t-*_BH_32R.txt')\n",
    "file_list = []\n",
    "for x in sorted(globby):\n",
    "    file_list.append(x)\n",
    "\n",
    "j = 0\n",
    "maxtime = 40\n",
    "numf = len(file_list)\n",
    "for filename in file_list:\n",
    "    j = j + 1\n",
    "    time = j*maxtime/numf\n",
    "    fig = plt.figure()\n",
    "    x,y,sf,cf,ham = np.loadtxt(filename).T #Transposed for easier unpacking\n",
    "    \n",
    "    realx = []\n",
    "    realham = []\n",
    "\n",
    "    for i in range(len(x)):\n",
    "        if x[i] not in realx:\n",
    "            realx.append(x[i])\n",
    "            realham.append(ham[i])\n",
    "    \n",
    "    plotdescription = \"Scalar field\"\n",
    "    plt.title(\"time = %.2f\"%time)\n",
    "    plt.xlabel(\"y/M\")\n",
    "    plt.xscale('log')\n",
    "    #plt.ylabel(\"Conformal Factor\")\n",
    "    plt.ylabel(\"Hamiltonian constraint\")\n",
    "\n",
    "    plt.plot(realx,realham, color=cm.BuGn(8/10.,1))\n",
    "    #plt.axhline(y=1.0, color='red', linestyle='dashed',linewidth=0.3)\n",
    "    plt.axhline(y=0.0, color='red', linestyle='dashed',linewidth=0.3)\n",
    "    #plt.ylim(-0.1,1.15)\n",
    "    plt.ylim(-0.01,0.01)\n",
    "    plt.xlim(-0.1,22.6)\n",
    "    plt.savefig(filename + \".png\") \n",
    "    plt.close() \n",
    "    \n",
    "    sys.stdout.write(\"%c[2K\" % 27)\n",
    "    sys.stdout.write(\"Processing file %.2f \"%time+filename+\"\\r\")\n",
    "    sys.stdout.flush()"
   ]
  },
  {
   "cell_type": "code",
   "execution_count": 50,
   "metadata": {},
   "outputs": [
    {
     "name": "stderr",
     "output_type": "stream",
     "text": [
      "D:\\Anaconda3\\lib\\site-packages\\ipykernel_launcher.py:14: UserWarning: This figure includes Axes that are not compatible with tight_layout, so results might be incorrect.\n",
      "  \n"
     ]
    }
   ],
   "source": [
    "fig = plt.figure(frameon=False)\n",
    "ax = fig.add_axes([0, 0, 1, 1])\n",
    "ax.axis('off')\n",
    "\n",
    "myimages = []\n",
    "\n",
    "for i in range(len(file_list)-1):\n",
    "    img = mgimg.imread(file_list[i]+\".png\")\n",
    "    imgplot = plt.imshow(img)\n",
    "    myimages.append([imgplot])\n",
    "\n",
    "ani = animation.ArtistAnimation(fig, myimages, interval=100,  repeat_delay=1000)\n",
    "plt.close()\n",
    "ani.save('BSSN_SF_self_pot_ham_BH_32R.mp4',dpi=150, fps=5,writer='ffmpeg')"
   ]
  },
  {
   "cell_type": "code",
   "execution_count": 31,
   "metadata": {},
   "outputs": [
    {
     "data": {
      "text/html": [
       "\n",
       "    <video width=\"480\" height=\"360\" controls>\n",
       "        <source src=\"BSSN_SF_zero_pot_CF_BH_32R.mp4\" type=\"video/mp4\"> \n",
       "    </video>\n"
      ],
      "text/plain": [
       "<IPython.core.display.HTML object>"
      ]
     },
     "execution_count": 31,
     "metadata": {},
     "output_type": "execute_result"
    }
   ],
   "source": [
    "from IPython.display import HTML\n",
    "#the filename needed to be changed manually\n",
    "\n",
    "HTML(\"\"\"\n",
    "    <video width=\"480\" height=\"360\" controls>\n",
    "        <source src=\"BSSN_SF_zero_pot_CF_BH_32R.mp4\" type=\"video/mp4\"> \n",
    "    </video>\n",
    "\"\"\")"
   ]
  },
  {
   "cell_type": "code",
   "execution_count": 36,
   "metadata": {},
   "outputs": [
    {
     "data": {
      "text/html": [
       "\n",
       "    <video width=\"480\" height=\"360\" controls>\n",
       "        <source src=\"BSSN_SF_zero_pot_ham_BH_32R.mp4\" type=\"video/mp4\"> \n",
       "    </video>\n"
      ],
      "text/plain": [
       "<IPython.core.display.HTML object>"
      ]
     },
     "execution_count": 36,
     "metadata": {},
     "output_type": "execute_result"
    }
   ],
   "source": [
    "from IPython.display import HTML\n",
    "#the filename needed to be changed manually\n",
    "\n",
    "HTML(\"\"\"\n",
    "    <video width=\"480\" height=\"360\" controls>\n",
    "        <source src=\"BSSN_SF_zero_pot_ham_BH_32R.mp4\" type=\"video/mp4\"> \n",
    "    </video>\n",
    "\"\"\")"
   ]
  },
  {
   "cell_type": "code",
   "execution_count": 39,
   "metadata": {},
   "outputs": [
    {
     "data": {
      "text/html": [
       "\n",
       "    <video width=\"480\" height=\"360\" controls>\n",
       "        <source src=\"BSSN_SF_quad_pot_CF_BH_32R.mp4\" type=\"video/mp4\"> \n",
       "    </video>\n"
      ],
      "text/plain": [
       "<IPython.core.display.HTML object>"
      ]
     },
     "execution_count": 39,
     "metadata": {},
     "output_type": "execute_result"
    }
   ],
   "source": [
    "from IPython.display import HTML\n",
    "#the filename needed to be changed manually\n",
    "\n",
    "HTML(\"\"\"\n",
    "    <video width=\"480\" height=\"360\" controls>\n",
    "        <source src=\"BSSN_SF_quad_pot_CF_BH_32R.mp4\" type=\"video/mp4\"> \n",
    "    </video>\n",
    "\"\"\")"
   ]
  },
  {
   "cell_type": "code",
   "execution_count": 45,
   "metadata": {},
   "outputs": [
    {
     "data": {
      "text/html": [
       "\n",
       "    <video width=\"480\" height=\"360\" controls>\n",
       "        <source src=\"BSSN_SF_quad_pot_Ham_BH_32R.mp4\" type=\"video/mp4\"> \n",
       "    </video>\n"
      ],
      "text/plain": [
       "<IPython.core.display.HTML object>"
      ]
     },
     "execution_count": 45,
     "metadata": {},
     "output_type": "execute_result"
    }
   ],
   "source": [
    "from IPython.display import HTML\n",
    "#the filename needed to be changed manually\n",
    "\n",
    "HTML(\"\"\"\n",
    "    <video width=\"480\" height=\"360\" controls>\n",
    "        <source src=\"BSSN_SF_quad_pot_Ham_BH_32R.mp4\" type=\"video/mp4\"> \n",
    "    </video>\n",
    "\"\"\")"
   ]
  },
  {
   "cell_type": "code",
   "execution_count": 48,
   "metadata": {},
   "outputs": [
    {
     "data": {
      "text/html": [
       "\n",
       "    <video width=\"480\" height=\"360\" controls>\n",
       "        <source src=\"BSSN_SF_self_pot_CF_BH_32R.mp4\" type=\"video/mp4\"> \n",
       "    </video>\n"
      ],
      "text/plain": [
       "<IPython.core.display.HTML object>"
      ]
     },
     "execution_count": 48,
     "metadata": {},
     "output_type": "execute_result"
    }
   ],
   "source": [
    "from IPython.display import HTML\n",
    "#the filename needed to be changed manually\n",
    "\n",
    "HTML(\"\"\"\n",
    "    <video width=\"480\" height=\"360\" controls>\n",
    "        <source src=\"BSSN_SF_self_pot_CF_BH_32R.mp4\" type=\"video/mp4\"> \n",
    "    </video>\n",
    "\"\"\")"
   ]
  },
  {
   "cell_type": "code",
   "execution_count": 53,
   "metadata": {},
   "outputs": [
    {
     "data": {
      "text/html": [
       "\n",
       "    <video width=\"480\" height=\"360\" controls>\n",
       "        <source src=\"BSSN_SF_self_pot_ham_BH_32R.mp4\" type=\"video/mp4\"> \n",
       "    </video>\n"
      ],
      "text/plain": [
       "<IPython.core.display.HTML object>"
      ]
     },
     "execution_count": 53,
     "metadata": {},
     "output_type": "execute_result"
    }
   ],
   "source": [
    "from IPython.display import HTML\n",
    "#the filename needed to be changed manually\n",
    "\n",
    "HTML(\"\"\"\n",
    "    <video width=\"480\" height=\"360\" controls>\n",
    "        <source src=\"BSSN_SF_self_pot_ham_BH_32R.mp4\" type=\"video/mp4\"> \n",
    "    </video>\n",
    "\"\"\")"
   ]
  },
  {
   "cell_type": "markdown",
   "metadata": {},
   "source": [
    "## Boson Star"
   ]
  },
  {
   "cell_type": "code",
   "execution_count": 4,
   "metadata": {},
   "outputs": [
    {
     "name": "stderr",
     "output_type": "stream",
     "text": [
      "D:\\Anaconda3\\lib\\site-packages\\ipykernel_launcher.py:56: UserWarning: Attempted to set non-positive left xlim on a log-scaled axis.\n",
      "Invalid limit will be ignored.\n"
     ]
    },
    {
     "name": "stdout",
     "output_type": "stream",
     "text": [
      "\u001b[2KProcessing file 40.00 BSSN_SF-output2D\\zero_pot_2d_t-00000200_Boson_32R.txt\r"
     ]
    }
   ],
   "source": [
    "import numpy as np\n",
    "from scipy.interpolate import griddata\n",
    "from pylab import savefig\n",
    "import matplotlib.pyplot as plt\n",
    "import matplotlib.cm as cm\n",
    "from IPython.display import Image\n",
    "from IPython.display import HTML\n",
    "import matplotlib.image as mgimg\n",
    "import glob\n",
    "import sys\n",
    "from matplotlib import animation\n",
    "\n",
    "plt.rcParams.update(plt.rcParamsDefault) \n",
    "plt.rc('xtick', labelsize=16) \n",
    "plt.rc('ytick', labelsize=16) \n",
    "plt.rcParams.update({'font.size': 16}) \n",
    "plt.rcParams.update({'font.family' : 'sans-serif'}) \n",
    "plt.rcParams.update({'font.sans-serif' : 'Helvetica'}) \n",
    "plt.rcParams.update({'figure.figsize' : '10., 6.'}) \n",
    "plt.rcParams.update({'figure.autolayout': True})\n",
    "\n",
    "globby = glob.glob('BSSN_SF-output2D/zero_pot_2d_t-*_Boson_32R.txt')\n",
    "file_list = []\n",
    "for x in sorted(globby):\n",
    "    file_list.append(x)\n",
    "\n",
    "j = 0\n",
    "maxtime = 40\n",
    "numf = len(file_list)\n",
    "for filename in file_list:\n",
    "    j = j + 1\n",
    "    time = j*maxtime/numf\n",
    "    fig = plt.figure()\n",
    "    x,y,sf,cf,ham = np.loadtxt(filename).T #Transposed for easier unpacking\n",
    "    \n",
    "    realx = []\n",
    "    realham = []\n",
    "\n",
    "    for i in range(len(x)):\n",
    "        if x[i] not in realx:\n",
    "            realx.append(x[i])\n",
    "            realham.append(ham[i])\n",
    "    \n",
    "    plotdescription = \"Scalar field\"\n",
    "    plt.title(\"time = %.2f\"%time)\n",
    "    plt.xlabel(\"y/M\")\n",
    "    plt.xscale('log')\n",
    "    #plt.ylabel(\"Conformal Factor\")\n",
    "    plt.ylabel(\"Hamiltonian constraint\")\n",
    "\n",
    "    plt.plot(realx,realham, color=cm.BuGn(8/10.,1))\n",
    "    #plt.axhline(y=1.0, color='red', linestyle='dashed',linewidth=0.3)\n",
    "    plt.axhline(y=0.0, color='red', linestyle='dashed',linewidth=0.3)\n",
    "    #plt.ylim(0.8,1.15)\n",
    "    plt.ylim(-0.002,0.015)\n",
    "    plt.xlim(-0.1,22.6)\n",
    "    plt.savefig(filename + \".png\") \n",
    "    plt.close() \n",
    "    \n",
    "    sys.stdout.write(\"%c[2K\" % 27)\n",
    "    sys.stdout.write(\"Processing file %.2f \"%time+filename+\"\\r\")\n",
    "    sys.stdout.flush()"
   ]
  },
  {
   "cell_type": "code",
   "execution_count": 5,
   "metadata": {},
   "outputs": [
    {
     "name": "stderr",
     "output_type": "stream",
     "text": [
      "D:\\Anaconda3\\lib\\site-packages\\ipykernel_launcher.py:14: UserWarning: This figure includes Axes that are not compatible with tight_layout, so results might be incorrect.\n",
      "  \n"
     ]
    }
   ],
   "source": [
    "fig = plt.figure(frameon=False)\n",
    "ax = fig.add_axes([0, 0, 1, 1])\n",
    "ax.axis('off')\n",
    "\n",
    "myimages = []\n",
    "\n",
    "for i in range(len(file_list)-1):\n",
    "    img = mgimg.imread(file_list[i]+\".png\")\n",
    "    imgplot = plt.imshow(img)\n",
    "    myimages.append([imgplot])\n",
    "\n",
    "ani = animation.ArtistAnimation(fig, myimages, interval=100,  repeat_delay=1000)\n",
    "plt.close()\n",
    "ani.save('BSSN_SF_zero_pot_ham_Boson_32R.mp4',dpi=150, fps=5,writer='ffmpeg')"
   ]
  },
  {
   "cell_type": "code",
   "execution_count": 62,
   "metadata": {},
   "outputs": [
    {
     "data": {
      "text/html": [
       "\n",
       "    <video width=\"480\" height=\"360\" controls>\n",
       "        <source src=\"BSSN_SF_zero_pot_CF_Boson_32R.mp4\" type=\"video/mp4\"> \n",
       "    </video>\n"
      ],
      "text/plain": [
       "<IPython.core.display.HTML object>"
      ]
     },
     "execution_count": 62,
     "metadata": {},
     "output_type": "execute_result"
    }
   ],
   "source": [
    "from IPython.display import HTML\n",
    "#the filename needed to be changed manually\n",
    "\n",
    "HTML(\"\"\"\n",
    "    <video width=\"480\" height=\"360\" controls>\n",
    "        <source src=\"BSSN_SF_zero_pot_CF_Boson_32R.mp4\" type=\"video/mp4\"> \n",
    "    </video>\n",
    "\"\"\")"
   ]
  },
  {
   "cell_type": "code",
   "execution_count": 6,
   "metadata": {},
   "outputs": [
    {
     "data": {
      "text/html": [
       "\n",
       "    <video width=\"480\" height=\"360\" controls>\n",
       "        <source src=\"BSSN_SF_zero_pot_ham_Boson_32R.mp4\" type=\"video/mp4\"> \n",
       "    </video>\n"
      ],
      "text/plain": [
       "<IPython.core.display.HTML object>"
      ]
     },
     "execution_count": 6,
     "metadata": {},
     "output_type": "execute_result"
    }
   ],
   "source": [
    "from IPython.display import HTML\n",
    "#the filename needed to be changed manually\n",
    "\n",
    "HTML(\"\"\"\n",
    "    <video width=\"480\" height=\"360\" controls>\n",
    "        <source src=\"BSSN_SF_zero_pot_ham_Boson_32R.mp4\" type=\"video/mp4\"> \n",
    "    </video>\n",
    "\"\"\")"
   ]
  },
  {
   "cell_type": "code",
   "execution_count": 79,
   "metadata": {},
   "outputs": [
    {
     "data": {
      "text/html": [
       "\n",
       "    <video width=\"480\" height=\"360\" controls>\n",
       "        <source src=\"BSSN_SF_quad_pot_CF_Boson_32R.mp4\" type=\"video/mp4\"> \n",
       "    </video>\n"
      ],
      "text/plain": [
       "<IPython.core.display.HTML object>"
      ]
     },
     "execution_count": 79,
     "metadata": {},
     "output_type": "execute_result"
    }
   ],
   "source": [
    "from IPython.display import HTML\n",
    "#the filename needed to be changed manually\n",
    "\n",
    "HTML(\"\"\"\n",
    "    <video width=\"480\" height=\"360\" controls>\n",
    "        <source src=\"BSSN_SF_quad_pot_CF_Boson_32R.mp4\" type=\"video/mp4\"> \n",
    "    </video>\n",
    "\"\"\")"
   ]
  },
  {
   "cell_type": "code",
   "execution_count": 76,
   "metadata": {},
   "outputs": [
    {
     "data": {
      "text/html": [
       "\n",
       "    <video width=\"480\" height=\"360\" controls>\n",
       "        <source src=\"BSSN_SF_quad_pot_ham_Boson_32R.mp4\" type=\"video/mp4\"> \n",
       "    </video>\n"
      ],
      "text/plain": [
       "<IPython.core.display.HTML object>"
      ]
     },
     "execution_count": 76,
     "metadata": {},
     "output_type": "execute_result"
    }
   ],
   "source": [
    "from IPython.display import HTML\n",
    "#the filename needed to be changed manually\n",
    "\n",
    "HTML(\"\"\"\n",
    "    <video width=\"480\" height=\"360\" controls>\n",
    "        <source src=\"BSSN_SF_quad_pot_ham_Boson_32R.mp4\" type=\"video/mp4\"> \n",
    "    </video>\n",
    "\"\"\")"
   ]
  },
  {
   "cell_type": "code",
   "execution_count": 82,
   "metadata": {},
   "outputs": [
    {
     "data": {
      "text/html": [
       "\n",
       "    <video width=\"480\" height=\"360\" controls>\n",
       "        <source src=\"BSSN_SF_self_pot_CF_Boson_32R.mp4\" type=\"video/mp4\"> \n",
       "    </video>\n"
      ],
      "text/plain": [
       "<IPython.core.display.HTML object>"
      ]
     },
     "execution_count": 82,
     "metadata": {},
     "output_type": "execute_result"
    }
   ],
   "source": [
    "from IPython.display import HTML\n",
    "#the filename needed to be changed manually\n",
    "\n",
    "HTML(\"\"\"\n",
    "    <video width=\"480\" height=\"360\" controls>\n",
    "        <source src=\"BSSN_SF_self_pot_CF_Boson_32R.mp4\" type=\"video/mp4\"> \n",
    "    </video>\n",
    "\"\"\")"
   ]
  },
  {
   "cell_type": "code",
   "execution_count": 85,
   "metadata": {},
   "outputs": [
    {
     "data": {
      "text/html": [
       "\n",
       "    <video width=\"480\" height=\"360\" controls>\n",
       "        <source src=\"BSSN_SF_self_pot_ham_Boson_32R.mp4\" type=\"video/mp4\"> \n",
       "    </video>\n"
      ],
      "text/plain": [
       "<IPython.core.display.HTML object>"
      ]
     },
     "execution_count": 85,
     "metadata": {},
     "output_type": "execute_result"
    }
   ],
   "source": [
    "from IPython.display import HTML\n",
    "#the filename needed to be changed manually\n",
    "\n",
    "HTML(\"\"\"\n",
    "    <video width=\"480\" height=\"360\" controls>\n",
    "        <source src=\"BSSN_SF_self_pot_ham_Boson_32R.mp4\" type=\"video/mp4\"> \n",
    "    </video>\n",
    "\"\"\")"
   ]
  },
  {
   "cell_type": "code",
   "execution_count": null,
   "metadata": {},
   "outputs": [],
   "source": []
  }
 ],
 "metadata": {
  "kernelspec": {
   "display_name": "Python 3",
   "language": "python",
   "name": "python3"
  },
  "language_info": {
   "codemirror_mode": {
    "name": "ipython",
    "version": 3
   },
   "file_extension": ".py",
   "mimetype": "text/x-python",
   "name": "python",
   "nbconvert_exporter": "python",
   "pygments_lexer": "ipython3",
   "version": "3.7.3"
  }
 },
 "nbformat": 4,
 "nbformat_minor": 4
}
