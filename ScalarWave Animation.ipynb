{
 "cells": [
  {
   "cell_type": "markdown",
   "metadata": {},
   "source": [
    "## Run the Program"
   ]
  },
  {
   "cell_type": "code",
   "execution_count": 1,
   "metadata": {},
   "outputs": [
    {
     "name": "stdout",
     "output_type": "stream",
     "text": [
      "Compiling executable...\n",
      "Executing `gcc -Ofast -fopenmp -march=native -funroll-loops ScalarWave_Ccodes/ScalarWave_Playground.c -o ScalarWave_Playground.exe -lm`...\n",
      "Finished executing in 1.8496284484863281 seconds.\n",
      "Finished compilation.\n",
      "Executing `cmd /c ScalarWave_Playground 72`...\n",
      "Finished executing in 11.8253653049469 seconds.\n"
     ]
    }
   ],
   "source": [
    "import cmdline_helper as cmd\n",
    "import os\n",
    "outdir = os.path.join(\"ScalarWave_Ccodes/\")\n",
    "grid = \"72\"\n",
    "\n",
    "cmd.C_compile(os.path.join(outdir,\"ScalarWave_Playground.c\"), \"ScalarWave_Playground\")\n",
    "cmd.delete_existing_files(\"out*.txt\")\n",
    "cmd.delete_existing_files(\"out*.png\")\n",
    "cmd.Execute(\"ScalarWave_Playground\", grid, os.path.join(outdir,\"out\"+grid+\".txt\"))"
   ]
  },
  {
   "cell_type": "markdown",
   "metadata": {},
   "source": [
    "## Convert text files to arrays"
   ]
  },
  {
   "cell_type": "code",
   "execution_count": 2,
   "metadata": {},
   "outputs": [],
   "source": [
    "%matplotlib inline\n",
    "import matplotlib.pyplot as plt\n",
    "import mpmath as mp\n",
    "import csv\n",
    "\n",
    "def file_reader(filename):\n",
    "    with open(filename) as file:\n",
    "        reader = csv.reader(file, delimiter=\" \")\n",
    "        data  = list(zip(*reader))\n",
    "        data0 = []\n",
    "        data1 = []\n",
    "        data2 = []\n",
    "        data3 = []\n",
    "        for i in range(len(data[0])):           \n",
    "            data0.append(float(data[0][i]))\n",
    "            data1.append(float(data[1][i]))\n",
    "            data2.append(float(data[2][i]))\n",
    "            data3.append(float(data[3][i]))\n",
    "        return data0,data1,data2,data3"
   ]
  },
  {
   "cell_type": "markdown",
   "metadata": {},
   "source": [
    "## Plot the ScalarWave Animation in 3D"
   ]
  },
  {
   "cell_type": "code",
   "execution_count": 3,
   "metadata": {},
   "outputs": [],
   "source": [
    "from mpl_toolkits import mplot3d\n",
    "from matplotlib.pyplot import savefig\n",
    "from matplotlib import cm\n",
    "\n",
    "tmax = 2.4\n",
    "itermax = float(grid) * tmax \n",
    "i = 0\n",
    "while i <= itermax:\n",
    "    filename = \"out2D__resolution_\"+grid+\"x\"+grid+\"x\"+grid+\"__iter_\"+str(i)\n",
    "    x_iter_0,y_iter_0,num_0,exact_0 = file_reader(filename+\".txt\")\n",
    "    fig = plt.figure()\n",
    "    ax = plt.axes(projection='3d')\n",
    "    ax.set_xlabel('x_coord')\n",
    "    ax.set_ylabel('y_coord')\n",
    "    ax.set_zlabel('Numerical Soln.')\n",
    "    ax.set_title('ScalarWave 3D 72x72x72-resolution')\n",
    "    ax.scatter3D(x_iter_0,y_iter_0,num_0, c=num_0, cmap='Greens')\n",
    "#    ax.plot_trisurf(x_iter_0,y_iter_0,num_0,cmap=cm.jet, linewidth=0)\n",
    "    savefig(filename+\".png\",dpi=450)\n",
    "    plt.close(fig)\n",
    "    i += 5"
   ]
  },
  {
   "cell_type": "code",
   "execution_count": null,
   "metadata": {},
   "outputs": [],
   "source": [
    "import matplotlib.image as mgimg\n",
    "from matplotlib import animation\n",
    "\n",
    "fig = plt.figure(frameon=False)\n",
    "ax = fig.add_axes([0, 0, 1, 1])\n",
    "ax.axis('off')\n",
    "\n",
    "myimages = []\n",
    "\n",
    "i = 0\n",
    "while i <= itermax:\n",
    "    filename = \"out2D__resolution_\"+grid+\"x\"+grid+\"x\"+grid+\"__iter_\"+str(i)\n",
    "    img = mgimg.imread(filename+\".png\")\n",
    "    imgplot = plt.imshow(img)\n",
    "    myimages.append([imgplot])\n",
    "    i += 5\n",
    "\n",
    "ani = animation.ArtistAnimation(fig, myimages, interval=100,  repeat_delay=1000)\n",
    "plt.close()\n",
    "ani.save(\"ScalarWave3D_\"+grid+\"_tmax_2dot4\"+\".mp4\", fps=5,dpi=450)"
   ]
  },
  {
   "cell_type": "markdown",
   "metadata": {},
   "source": [
    "## Play the Video"
   ]
  },
  {
   "cell_type": "code",
   "execution_count": null,
   "metadata": {},
   "outputs": [],
   "source": [
    "from IPython.display import HTML\n",
    "#the filename needed to be changed manually\n",
    "\n",
    "HTML(\"\"\"\n",
    "    <video width=\"480\" height=\"360\" controls>\n",
    "        <source src=\"ScalarWave3D_72_tmax_2dot4.mp4\" type=\"video/mp4\"> \n",
    "    </video>\n",
    "\"\"\")"
   ]
  },
  {
   "cell_type": "markdown",
   "metadata": {},
   "source": [
    "## Plot the ScalarWave Animation in 2D"
   ]
  },
  {
   "cell_type": "code",
   "execution_count": 9,
   "metadata": {},
   "outputs": [],
   "source": [
    "i = 0\n",
    "while i <= itermax:\n",
    "    filename = \"out2D__resolution_\"+grid+\"x\"+grid+\"x\"+grid+\"__iter_\"+str(i)\n",
    "    x_iter_0,y_iter_0,num_0,exact_0 = file_reader(filename+\".txt\")\n",
    "    \n",
    "    twoDimValue = []\n",
    "    j = 0\n",
    "    while j <= 50:\n",
    "        array = []\n",
    "        k = j * 51\n",
    "        while k <= j * 51 + 50:\n",
    "            array.append(num_0[k])\n",
    "            k += 1\n",
    "        twoDimValue.append(array)\n",
    "        j += 1\n",
    "    \n",
    "    fig = plt.figure()\n",
    "    plt.title(\"ScalarWave 2D 100-resolution\")\n",
    "    plt.xlabel(\"x_coord\")\n",
    "    plt.ylabel(\"y_coord\")\n",
    "\n",
    "    im = plt.imshow(twoDimValue, extent=(-5,5,-5,5))\n",
    "    ax = plt.colorbar()\n",
    "    ax.set_label(\"Numerical Soln.\")\n",
    "    \n",
    "    savefig(filename+\"_2D\"+\".png\",dpi=450)\n",
    "    plt.close(fig)\n",
    "    i += 5"
   ]
  },
  {
   "cell_type": "code",
   "execution_count": 10,
   "metadata": {},
   "outputs": [],
   "source": [
    "fig = plt.figure(frameon=False)\n",
    "ax = fig.add_axes([0, 0, 1, 1])\n",
    "ax.axis('off')\n",
    "\n",
    "myimages = []\n",
    "\n",
    "i = 0\n",
    "while i <= itermax:\n",
    "    filename = \"out2D__resolution_\"+grid+\"x\"+grid+\"x\"+grid+\"__iter_\"+str(i)\n",
    "    img = mgimg.imread(filename+\"_2D\"+\".png\")\n",
    "    imgplot = plt.imshow(img)\n",
    "    myimages.append([imgplot])\n",
    "    i += 5\n",
    "\n",
    "ani = animation.ArtistAnimation(fig, myimages, interval=100,  repeat_delay=1000)\n",
    "plt.close()\n",
    "ani.save(\"ScalarWave2D_\"+grid+\".mp4\", fps=5,dpi=450)"
   ]
  },
  {
   "cell_type": "markdown",
   "metadata": {},
   "source": [
    "## Play the Video"
   ]
  },
  {
   "cell_type": "code",
   "execution_count": 11,
   "metadata": {},
   "outputs": [
    {
     "data": {
      "text/html": [
       "\n",
       "    <video width=\"480\" height=\"360\" controls>\n",
       "        <source src=\"ScalarWave2D_100.mp4\" type=\"video/mp4\"> \n",
       "    </video>\n"
      ],
      "text/plain": [
       "<IPython.core.display.HTML object>"
      ]
     },
     "execution_count": 11,
     "metadata": {},
     "output_type": "execute_result"
    }
   ],
   "source": [
    "#the filename needed to be changed manually\n",
    "\n",
    "HTML(\"\"\"\n",
    "    <video width=\"480\" height=\"360\" controls>\n",
    "        <source src=\"ScalarWave2D_100.mp4\" type=\"video/mp4\"> \n",
    "    </video>\n",
    "\"\"\")"
   ]
  },
  {
   "cell_type": "markdown",
   "metadata": {},
   "source": [
    "## Change the Initial Value\n",
    "\n",
    "Change the ScalarWave_ExactSolution.h"
   ]
  },
  {
   "cell_type": "markdown",
   "metadata": {},
   "source": [
    "const double tmp0 = time*wavespeed - (kk0*xx0 + kk1*xx1 + kk2*xx2)/sqrt(pow(kk0, 2) + pow(kk1, 2) + pow(kk2, 2));\n",
    "in_gfs[IDX4(UUGF, i0, i1, i2)] = 2 - sin(tmp0);\n",
    "in_gfs[IDX4(VVGF, i0, i1, i2)] = -wavespeed*cos(tmp0);\n",
    "\n",
    "This is $$u = 2 - \\sin(tmp0)$$\n",
    "        $$v = - wavespeed * \\cos(tmp0)$$\n",
    "\n",
    "This is the code from ScalarWave_ExactSolution.h. Clearly, this is a sine wave with offset 2.\n",
    "I leave tmp0 term unchanged.\n",
    "UUGF part is the wave function. VVGF is the derivative of UUGF.\n",
    "\n",
    "The new function is \n",
    "in_gfs[IDX4(UUGF, i0, i1, i2)] = 4 - sin(tmp0) + sin(2*tmp0) - sin(4*tmp0);\n",
    "in_gfs[IDX4(VVGF, i0, i1, i2)] = -wavespeed*cos(tmp0) +2*wavespeed*cos(tmp0) -4*wavespeed*cos(tmp0);\n",
    "               \n",
    "This is $$u = 2 - \\sin(tmp0) - \\sin(2*tmp0) - \\sin(4*tmp0)$$\n",
    "        $$v = - wavespeed * \\cos(tmp0) + 2*wavespeed * \\cos(2*tmp0) - 4*wavespeed * \\cos(4*tmp0)$$"
   ]
  },
  {
   "cell_type": "code",
   "execution_count": 2,
   "metadata": {},
   "outputs": [
    {
     "name": "stdout",
     "output_type": "stream",
     "text": [
      "Compiling executable...\n",
      "Executing `gcc -Ofast -fopenmp -march=native -funroll-loops ScalarWave_Ccodes/ScalarWave_Playground_New.c -o ScalarWave_Playground_New.exe -lm`...\n",
      "Finished executing in 2.660113573074341 seconds.\n",
      "Finished compilation.\n",
      "Executing `cmd /c ScalarWave_Playground_New 100`...\n",
      "Finished executing in 60.12659168243408 seconds.\n"
     ]
    }
   ],
   "source": [
    "import cmdline_helper as cmd\n",
    "import os\n",
    "outdir = os.path.join(\"ScalarWave_Ccodes/\")\n",
    "grid = \"100\"\n",
    "\n",
    "cmd.C_compile(os.path.join(outdir,\"ScalarWave_Playground_New.c\"), \"ScalarWave_Playground_New\")\n",
    "cmd.delete_existing_files(\"newout*.txt\")\n",
    "cmd.delete_existing_files(\"newout*.png\")\n",
    "cmd.Execute(\"ScalarWave_Playground_New\", grid, os.path.join(outdir,\"newout\"+grid+\".txt\"))"
   ]
  },
  {
   "cell_type": "code",
   "execution_count": 4,
   "metadata": {},
   "outputs": [],
   "source": [
    "from mpl_toolkits import mplot3d\n",
    "from matplotlib.pyplot import savefig\n",
    "import matplotlib.image as mgimg\n",
    "from matplotlib import animation\n",
    "\n",
    "newtmax = 2.4\n",
    "newitermax = float(grid) * newtmax\n",
    "i = 0\n",
    "while i <= newitermax:\n",
    "    filename = \"New_out2D__resolution_\"+grid+\"x\"+grid+\"x\"+grid+\"__iter_\"+str(i)\n",
    "    x_iter_0,y_iter_0,num_0,exact_0 = file_reader(filename+\".txt\")\n",
    "    fig = plt.figure()\n",
    "    ax = plt.axes(projection='3d')\n",
    "    ax.set_xlabel('x_coord')\n",
    "    ax.set_ylabel('y_coord')\n",
    "    ax.set_zlabel('Numerical Soln.')\n",
    "    ax.set_title('New ScalarWave 3D 100-resolution')\n",
    "\n",
    "    ax.scatter3D(x_iter_0,y_iter_0,num_0, c=num_0, cmap='Reds')\n",
    "    savefig(filename+\".png\",dpi=450)\n",
    "    plt.close(fig)\n",
    "    i += 5\n",
    "\n",
    "fig = plt.figure(frameon=False)\n",
    "ax = fig.add_axes([0, 0, 1, 1])\n",
    "ax.axis('off')\n",
    "\n",
    "myimages = []\n",
    "\n",
    "i = 0\n",
    "while i <= newitermax:\n",
    "    filename = \"New_out2D__resolution_\"+grid+\"x\"+grid+\"x\"+grid+\"__iter_\"+str(i)\n",
    "    img = mgimg.imread(filename+\".png\")\n",
    "    imgplot = plt.imshow(img)\n",
    "    myimages.append([imgplot])\n",
    "    i += 5\n",
    "\n",
    "ani = animation.ArtistAnimation(fig, myimages, interval=100,  repeat_delay=1000)\n",
    "plt.close()\n",
    "ani.save(\"New_ScalarWave3D_\"+grid+\".mp4\", fps=5,dpi=450)"
   ]
  },
  {
   "cell_type": "code",
   "execution_count": 5,
   "metadata": {},
   "outputs": [
    {
     "data": {
      "text/html": [
       "\n",
       "    <video width=\"480\" height=\"360\" controls>\n",
       "        <source src=\"New_ScalarWave3D_100.mp4\" type=\"video/mp4\"> \n",
       "    </video>\n"
      ],
      "text/plain": [
       "<IPython.core.display.HTML object>"
      ]
     },
     "execution_count": 5,
     "metadata": {},
     "output_type": "execute_result"
    }
   ],
   "source": [
    "from IPython.display import HTML\n",
    "#the filename needed to be changed manually\n",
    "\n",
    "HTML(\"\"\"\n",
    "    <video width=\"480\" height=\"360\" controls>\n",
    "        <source src=\"New_ScalarWave3D_100.mp4\" type=\"video/mp4\"> \n",
    "    </video>\n",
    "\"\"\")"
   ]
  },
  {
   "cell_type": "code",
   "execution_count": 6,
   "metadata": {},
   "outputs": [
    {
     "ename": "ValueError",
     "evalue": "list.remove(x): x not in list",
     "output_type": "error",
     "traceback": [
      "\u001b[1;31m---------------------------------------------------------------------------\u001b[0m",
      "\u001b[1;31mValueError\u001b[0m                                Traceback (most recent call last)",
      "\u001b[1;32mD:\\Anaconda3\\lib\\site-packages\\IPython\\core\\formatters.py\u001b[0m in \u001b[0;36m__call__\u001b[1;34m(self, obj)\u001b[0m\n\u001b[0;32m    339\u001b[0m                 \u001b[1;32mpass\u001b[0m\u001b[1;33m\u001b[0m\u001b[1;33m\u001b[0m\u001b[0m\n\u001b[0;32m    340\u001b[0m             \u001b[1;32melse\u001b[0m\u001b[1;33m:\u001b[0m\u001b[1;33m\u001b[0m\u001b[1;33m\u001b[0m\u001b[0m\n\u001b[1;32m--> 341\u001b[1;33m                 \u001b[1;32mreturn\u001b[0m \u001b[0mprinter\u001b[0m\u001b[1;33m(\u001b[0m\u001b[0mobj\u001b[0m\u001b[1;33m)\u001b[0m\u001b[1;33m\u001b[0m\u001b[1;33m\u001b[0m\u001b[0m\n\u001b[0m\u001b[0;32m    342\u001b[0m             \u001b[1;31m# Finally look for special method names\u001b[0m\u001b[1;33m\u001b[0m\u001b[1;33m\u001b[0m\u001b[1;33m\u001b[0m\u001b[0m\n\u001b[0;32m    343\u001b[0m             \u001b[0mmethod\u001b[0m \u001b[1;33m=\u001b[0m \u001b[0mget_real_method\u001b[0m\u001b[1;33m(\u001b[0m\u001b[0mobj\u001b[0m\u001b[1;33m,\u001b[0m \u001b[0mself\u001b[0m\u001b[1;33m.\u001b[0m\u001b[0mprint_method\u001b[0m\u001b[1;33m)\u001b[0m\u001b[1;33m\u001b[0m\u001b[1;33m\u001b[0m\u001b[0m\n",
      "\u001b[1;32mD:\\Anaconda3\\lib\\site-packages\\IPython\\core\\pylabtools.py\u001b[0m in \u001b[0;36m<lambda>\u001b[1;34m(fig)\u001b[0m\n\u001b[0;32m    242\u001b[0m \u001b[1;33m\u001b[0m\u001b[0m\n\u001b[0;32m    243\u001b[0m     \u001b[1;32mif\u001b[0m \u001b[1;34m'png'\u001b[0m \u001b[1;32min\u001b[0m \u001b[0mformats\u001b[0m\u001b[1;33m:\u001b[0m\u001b[1;33m\u001b[0m\u001b[1;33m\u001b[0m\u001b[0m\n\u001b[1;32m--> 244\u001b[1;33m         \u001b[0mpng_formatter\u001b[0m\u001b[1;33m.\u001b[0m\u001b[0mfor_type\u001b[0m\u001b[1;33m(\u001b[0m\u001b[0mFigure\u001b[0m\u001b[1;33m,\u001b[0m \u001b[1;32mlambda\u001b[0m \u001b[0mfig\u001b[0m\u001b[1;33m:\u001b[0m \u001b[0mprint_figure\u001b[0m\u001b[1;33m(\u001b[0m\u001b[0mfig\u001b[0m\u001b[1;33m,\u001b[0m \u001b[1;34m'png'\u001b[0m\u001b[1;33m,\u001b[0m \u001b[1;33m**\u001b[0m\u001b[0mkwargs\u001b[0m\u001b[1;33m)\u001b[0m\u001b[1;33m)\u001b[0m\u001b[1;33m\u001b[0m\u001b[1;33m\u001b[0m\u001b[0m\n\u001b[0m\u001b[0;32m    245\u001b[0m     \u001b[1;32mif\u001b[0m \u001b[1;34m'retina'\u001b[0m \u001b[1;32min\u001b[0m \u001b[0mformats\u001b[0m \u001b[1;32mor\u001b[0m \u001b[1;34m'png2x'\u001b[0m \u001b[1;32min\u001b[0m \u001b[0mformats\u001b[0m\u001b[1;33m:\u001b[0m\u001b[1;33m\u001b[0m\u001b[1;33m\u001b[0m\u001b[0m\n\u001b[0;32m    246\u001b[0m         \u001b[0mpng_formatter\u001b[0m\u001b[1;33m.\u001b[0m\u001b[0mfor_type\u001b[0m\u001b[1;33m(\u001b[0m\u001b[0mFigure\u001b[0m\u001b[1;33m,\u001b[0m \u001b[1;32mlambda\u001b[0m \u001b[0mfig\u001b[0m\u001b[1;33m:\u001b[0m \u001b[0mretina_figure\u001b[0m\u001b[1;33m(\u001b[0m\u001b[0mfig\u001b[0m\u001b[1;33m,\u001b[0m \u001b[1;33m**\u001b[0m\u001b[0mkwargs\u001b[0m\u001b[1;33m)\u001b[0m\u001b[1;33m)\u001b[0m\u001b[1;33m\u001b[0m\u001b[1;33m\u001b[0m\u001b[0m\n",
      "\u001b[1;32mD:\\Anaconda3\\lib\\site-packages\\IPython\\core\\pylabtools.py\u001b[0m in \u001b[0;36mprint_figure\u001b[1;34m(fig, fmt, bbox_inches, **kwargs)\u001b[0m\n\u001b[0;32m    126\u001b[0m \u001b[1;33m\u001b[0m\u001b[0m\n\u001b[0;32m    127\u001b[0m     \u001b[0mbytes_io\u001b[0m \u001b[1;33m=\u001b[0m \u001b[0mBytesIO\u001b[0m\u001b[1;33m(\u001b[0m\u001b[1;33m)\u001b[0m\u001b[1;33m\u001b[0m\u001b[1;33m\u001b[0m\u001b[0m\n\u001b[1;32m--> 128\u001b[1;33m     \u001b[0mfig\u001b[0m\u001b[1;33m.\u001b[0m\u001b[0mcanvas\u001b[0m\u001b[1;33m.\u001b[0m\u001b[0mprint_figure\u001b[0m\u001b[1;33m(\u001b[0m\u001b[0mbytes_io\u001b[0m\u001b[1;33m,\u001b[0m \u001b[1;33m**\u001b[0m\u001b[0mkw\u001b[0m\u001b[1;33m)\u001b[0m\u001b[1;33m\u001b[0m\u001b[1;33m\u001b[0m\u001b[0m\n\u001b[0m\u001b[0;32m    129\u001b[0m     \u001b[0mdata\u001b[0m \u001b[1;33m=\u001b[0m \u001b[0mbytes_io\u001b[0m\u001b[1;33m.\u001b[0m\u001b[0mgetvalue\u001b[0m\u001b[1;33m(\u001b[0m\u001b[1;33m)\u001b[0m\u001b[1;33m\u001b[0m\u001b[1;33m\u001b[0m\u001b[0m\n\u001b[0;32m    130\u001b[0m     \u001b[1;32mif\u001b[0m \u001b[0mfmt\u001b[0m \u001b[1;33m==\u001b[0m \u001b[1;34m'svg'\u001b[0m\u001b[1;33m:\u001b[0m\u001b[1;33m\u001b[0m\u001b[1;33m\u001b[0m\u001b[0m\n",
      "\u001b[1;32mD:\\Anaconda3\\lib\\site-packages\\matplotlib\\backend_bases.py\u001b[0m in \u001b[0;36mprint_figure\u001b[1;34m(self, filename, dpi, facecolor, edgecolor, orientation, format, bbox_inches, **kwargs)\u001b[0m\n\u001b[0;32m   2058\u001b[0m                     \u001b[0mbbox_artists\u001b[0m \u001b[1;33m=\u001b[0m \u001b[0mkwargs\u001b[0m\u001b[1;33m.\u001b[0m\u001b[0mpop\u001b[0m\u001b[1;33m(\u001b[0m\u001b[1;34m\"bbox_extra_artists\"\u001b[0m\u001b[1;33m,\u001b[0m \u001b[1;32mNone\u001b[0m\u001b[1;33m)\u001b[0m\u001b[1;33m\u001b[0m\u001b[1;33m\u001b[0m\u001b[0m\n\u001b[0;32m   2059\u001b[0m                     bbox_inches = self.figure.get_tightbbox(renderer,\n\u001b[1;32m-> 2060\u001b[1;33m                             bbox_extra_artists=bbox_artists)\n\u001b[0m\u001b[0;32m   2061\u001b[0m                     \u001b[0mpad\u001b[0m \u001b[1;33m=\u001b[0m \u001b[0mkwargs\u001b[0m\u001b[1;33m.\u001b[0m\u001b[0mpop\u001b[0m\u001b[1;33m(\u001b[0m\u001b[1;34m\"pad_inches\"\u001b[0m\u001b[1;33m,\u001b[0m \u001b[1;32mNone\u001b[0m\u001b[1;33m)\u001b[0m\u001b[1;33m\u001b[0m\u001b[1;33m\u001b[0m\u001b[0m\n\u001b[0;32m   2062\u001b[0m                     \u001b[1;32mif\u001b[0m \u001b[0mpad\u001b[0m \u001b[1;32mis\u001b[0m \u001b[1;32mNone\u001b[0m\u001b[1;33m:\u001b[0m\u001b[1;33m\u001b[0m\u001b[1;33m\u001b[0m\u001b[0m\n",
      "\u001b[1;32mD:\\Anaconda3\\lib\\site-packages\\matplotlib\\figure.py\u001b[0m in \u001b[0;36mget_tightbbox\u001b[1;34m(self, renderer, bbox_extra_artists)\u001b[0m\n\u001b[0;32m   2359\u001b[0m         \u001b[0mbb\u001b[0m \u001b[1;33m=\u001b[0m \u001b[1;33m[\u001b[0m\u001b[1;33m]\u001b[0m\u001b[1;33m\u001b[0m\u001b[1;33m\u001b[0m\u001b[0m\n\u001b[0;32m   2360\u001b[0m         \u001b[1;32mif\u001b[0m \u001b[0mbbox_extra_artists\u001b[0m \u001b[1;32mis\u001b[0m \u001b[1;32mNone\u001b[0m\u001b[1;33m:\u001b[0m\u001b[1;33m\u001b[0m\u001b[1;33m\u001b[0m\u001b[0m\n\u001b[1;32m-> 2361\u001b[1;33m             \u001b[0martists\u001b[0m \u001b[1;33m=\u001b[0m \u001b[0mself\u001b[0m\u001b[1;33m.\u001b[0m\u001b[0mget_default_bbox_extra_artists\u001b[0m\u001b[1;33m(\u001b[0m\u001b[1;33m)\u001b[0m\u001b[1;33m\u001b[0m\u001b[1;33m\u001b[0m\u001b[0m\n\u001b[0m\u001b[0;32m   2362\u001b[0m         \u001b[1;32melse\u001b[0m\u001b[1;33m:\u001b[0m\u001b[1;33m\u001b[0m\u001b[1;33m\u001b[0m\u001b[0m\n\u001b[0;32m   2363\u001b[0m             \u001b[0martists\u001b[0m \u001b[1;33m=\u001b[0m \u001b[0mbbox_extra_artists\u001b[0m\u001b[1;33m\u001b[0m\u001b[1;33m\u001b[0m\u001b[0m\n",
      "\u001b[1;32mD:\\Anaconda3\\lib\\site-packages\\matplotlib\\figure.py\u001b[0m in \u001b[0;36mget_default_bbox_extra_artists\u001b[1;34m(self)\u001b[0m\n\u001b[0;32m   2330\u001b[0m                 \u001b[0mbbox_artists\u001b[0m\u001b[1;33m.\u001b[0m\u001b[0mextend\u001b[0m\u001b[1;33m(\u001b[0m\u001b[0max\u001b[0m\u001b[1;33m.\u001b[0m\u001b[0mget_default_bbox_extra_artists\u001b[0m\u001b[1;33m(\u001b[0m\u001b[1;33m)\u001b[0m\u001b[1;33m)\u001b[0m\u001b[1;33m\u001b[0m\u001b[1;33m\u001b[0m\u001b[0m\n\u001b[0;32m   2331\u001b[0m         \u001b[1;31m# we don't want the figure's patch to influence the bbox calculation\u001b[0m\u001b[1;33m\u001b[0m\u001b[1;33m\u001b[0m\u001b[1;33m\u001b[0m\u001b[0m\n\u001b[1;32m-> 2332\u001b[1;33m         \u001b[0mbbox_artists\u001b[0m\u001b[1;33m.\u001b[0m\u001b[0mremove\u001b[0m\u001b[1;33m(\u001b[0m\u001b[0mself\u001b[0m\u001b[1;33m.\u001b[0m\u001b[0mpatch\u001b[0m\u001b[1;33m)\u001b[0m\u001b[1;33m\u001b[0m\u001b[1;33m\u001b[0m\u001b[0m\n\u001b[0m\u001b[0;32m   2333\u001b[0m         \u001b[1;32mreturn\u001b[0m \u001b[0mbbox_artists\u001b[0m\u001b[1;33m\u001b[0m\u001b[1;33m\u001b[0m\u001b[0m\n\u001b[0;32m   2334\u001b[0m \u001b[1;33m\u001b[0m\u001b[0m\n",
      "\u001b[1;31mValueError\u001b[0m: list.remove(x): x not in list"
     ]
    },
    {
     "data": {
      "text/plain": [
       "<Figure size 432x288 with 1 Axes>"
      ]
     },
     "metadata": {
      "needs_background": "light"
     },
     "output_type": "display_data"
    }
   ],
   "source": [
    "i = 0\n",
    "while i <= newitermax:\n",
    "    filename = \"New_out2D__resolution_\"+grid+\"x\"+grid+\"x\"+grid+\"__iter_\"+str(i)\n",
    "    x_iter_0,y_iter_0,num_0,exact_0 = file_reader(filename+\".txt\")\n",
    "    \n",
    "    twoDimValue = []\n",
    "    j = 0\n",
    "    while j <= 50:\n",
    "        array = []\n",
    "        k = j * 51\n",
    "        while k <= j * 51 + 50:\n",
    "            array.append(num_0[k])\n",
    "            k += 1\n",
    "        twoDimValue.append(array)\n",
    "        j += 1\n",
    "    \n",
    "    fig = plt.figure()\n",
    "    plt.title(\"New ScalarWave 2D 100-resolution\")\n",
    "    plt.xlabel(\"x_coord\")\n",
    "    plt.ylabel(\"y_coord\")\n",
    "\n",
    "    im = plt.imshow(twoDimValue, extent=(-5,5,-5,5))\n",
    "    ax = plt.colorbar()\n",
    "    ax.set_label(\"Numerical Soln.\")\n",
    "    \n",
    "    savefig(filename+\"_2D\"+\".png\",dpi=450)\n",
    "    plt.close(fig)\n",
    "    i += 5\n",
    "\n",
    "fig = plt.figure(frameon=False)\n",
    "ax = fig.add_axes([0, 0, 1, 1])\n",
    "ax.axis('off')\n",
    "\n",
    "myimages = []\n",
    "\n",
    "i = 0\n",
    "while i <= newitermax:\n",
    "    filename = \"New_out2D__resolution_\"+grid+\"x\"+grid+\"x\"+grid+\"__iter_\"+str(i)\n",
    "    img = mgimg.imread(filename+\"_2D\"+\".png\")\n",
    "    imgplot = plt.imshow(img)\n",
    "    myimages.append([imgplot])\n",
    "    i += 5"
   ]
  },
  {
   "cell_type": "code",
   "execution_count": 7,
   "metadata": {},
   "outputs": [],
   "source": [
    "ani = animation.ArtistAnimation(fig, myimages, interval=100,  repeat_delay=1000)\n",
    "plt.close()\n",
    "ani.save(\"New_ScalarWave2D_\"+grid+\".mp4\", fps=5,dpi=450)"
   ]
  },
  {
   "cell_type": "code",
   "execution_count": 8,
   "metadata": {},
   "outputs": [
    {
     "data": {
      "text/html": [
       "\n",
       "    <video width=\"480\" height=\"360\" controls>\n",
       "        <source src=\"New_ScalarWave2D_100.mp4\" type=\"video/mp4\"> \n",
       "    </video>\n"
      ],
      "text/plain": [
       "<IPython.core.display.HTML object>"
      ]
     },
     "execution_count": 8,
     "metadata": {},
     "output_type": "execute_result"
    }
   ],
   "source": [
    "#the filename needed to be changed manually\n",
    "\n",
    "HTML(\"\"\"\n",
    "    <video width=\"480\" height=\"360\" controls>\n",
    "        <source src=\"New_ScalarWave2D_100.mp4\" type=\"video/mp4\"> \n",
    "    </video>\n",
    "\"\"\")"
   ]
  },
  {
   "cell_type": "markdown",
   "metadata": {},
   "source": [
    "## The Exact Solution for this function"
   ]
  },
  {
   "cell_type": "code",
   "execution_count": 10,
   "metadata": {},
   "outputs": [],
   "source": [
    "newtmax = 2.4\n",
    "newitermax = float(grid) * newtmax\n",
    "i = 0\n",
    "while i <= newitermax:\n",
    "    filename = \"New_out2D__resolution_\"+grid+\"x\"+grid+\"x\"+grid+\"__iter_\"+str(i)\n",
    "    x_iter_0,y_iter_0,num_0,exact_0 = file_reader(filename+\".txt\")\n",
    "    fig = plt.figure()\n",
    "    ax = plt.axes(projection='3d')\n",
    "    ax.set_xlabel('x_coord')\n",
    "    ax.set_ylabel('y_coord')\n",
    "    ax.set_zlabel('Exact Soln.')\n",
    "    ax.set_title('New ScalarWave 3D 100-resolution (Exact)')\n",
    "\n",
    "    ax.scatter3D(x_iter_0,y_iter_0,exact_0, c=exact_0, cmap='Reds')\n",
    "    savefig('Exact_'+filename+\".png\",dpi=450)\n",
    "    plt.close(fig)\n",
    "    i += 5\n",
    "\n",
    "fig = plt.figure(frameon=False)\n",
    "ax = fig.add_axes([0, 0, 1, 1])\n",
    "ax.axis('off')\n",
    "\n",
    "myimages = []\n",
    "\n",
    "i = 0\n",
    "while i <= newitermax:\n",
    "    filename = \"Exact_New_out2D__resolution_\"+grid+\"x\"+grid+\"x\"+grid+\"__iter_\"+str(i)\n",
    "    img = mgimg.imread(filename+\".png\")\n",
    "    imgplot = plt.imshow(img)\n",
    "    myimages.append([imgplot])\n",
    "    i += 5\n",
    "\n",
    "ani = animation.ArtistAnimation(fig, myimages, interval=100,  repeat_delay=1000)\n",
    "plt.close()\n",
    "ani.save(\"Exact_New_ScalarWave3D_\"+grid+\".mp4\", fps=5,dpi=450)"
   ]
  },
  {
   "cell_type": "code",
   "execution_count": 12,
   "metadata": {},
   "outputs": [
    {
     "data": {
      "text/html": [
       "\n",
       "    <video width=\"480\" height=\"360\" controls>\n",
       "        <source src=\"Exact_New_ScalarWave3D_100.mp4\" type=\"video/mp4\"> \n",
       "    </video>\n"
      ],
      "text/plain": [
       "<IPython.core.display.HTML object>"
      ]
     },
     "execution_count": 12,
     "metadata": {},
     "output_type": "execute_result"
    }
   ],
   "source": [
    "#the filename needed to be changed manually\n",
    "\n",
    "HTML(\"\"\"\n",
    "    <video width=\"480\" height=\"360\" controls>\n",
    "        <source src=\"Exact_New_ScalarWave3D_100.mp4\" type=\"video/mp4\"> \n",
    "    </video>\n",
    "\"\"\")"
   ]
  },
  {
   "cell_type": "markdown",
   "metadata": {},
   "source": [
    "## Change the Boundary Condition"
   ]
  },
  {
   "cell_type": "code",
   "execution_count": 1,
   "metadata": {},
   "outputs": [
    {
     "name": "stdout",
     "output_type": "stream",
     "text": [
      "Compiling executable...\n",
      "Executing `gcc -Ofast -fopenmp -march=native -funroll-loops ScalarWave_Ccodes/ScalarWave_Playground_experiment.c -o ScalarWave_Playground_experiment.exe -lm`...\n",
      "ScalarWave_Ccodes/ScalarWave_Playground_experiment.c: In function 'output_2D':\n",
      "ScalarWave_Ccodes/ScalarWave_Playground_experiment.c:123:60: error: 'i0' undeclared (first use in this function)\n",
      "                         numerical_gridfunction_data[IDX4(0,i0,i1, (int)((Nxx[2]+ 2*NGHOSTS)*0.5))],\n",
      "                                                            ^\n",
      "ScalarWave_Ccodes/ScalarWave_Playground_experiment.c:21:4: note: in definition of macro 'IDX4'\n",
      " ( (i) + Nxx_plus_2NGHOSTS[0] * ( (j) + Nxx_plus_2NGHOSTS[1] * ( (k) + Nxx_plus_2NGHOSTS[2] * (g) ) ) )\n",
      "    ^\n",
      "ScalarWave_Ccodes/ScalarWave_Playground_experiment.c:123:60: note: each undeclared identifier is reported only once for each function it appears in\n",
      "                         numerical_gridfunction_data[IDX4(0,i0,i1, (int)((Nxx[2]+ 2*NGHOSTS)*0.5))],\n",
      "                                                            ^\n",
      "ScalarWave_Ccodes/ScalarWave_Playground_experiment.c:21:4: note: in definition of macro 'IDX4'\n",
      " ( (i) + Nxx_plus_2NGHOSTS[0] * ( (j) + Nxx_plus_2NGHOSTS[1] * ( (k) + Nxx_plus_2NGHOSTS[2] * (g) ) ) )\n",
      "    ^\n",
      "Finished executing in 2.109938383102417 seconds.\n",
      "Most optimized compilation failed. Removing -march=native:\n",
      "Executing `gcc -Ofast -fopenmp -funroll-loops ScalarWave_Ccodes/ScalarWave_Playground_experiment.c -o ScalarWave_Playground_experiment.exe -lm`...\n",
      "ScalarWave_Ccodes/ScalarWave_Playground_experiment.c: In function 'output_2D':\n",
      "ScalarWave_Ccodes/ScalarWave_Playground_experiment.c:123:60: error: 'i0' undeclared (first use in this function)\n",
      "                         numerical_gridfunction_data[IDX4(0,i0,i1, (int)((Nxx[2]+ 2*NGHOSTS)*0.5))],\n",
      "                                                            ^\n",
      "ScalarWave_Ccodes/ScalarWave_Playground_experiment.c:21:4: note: in definition of macro 'IDX4'\n",
      " ( (i) + Nxx_plus_2NGHOSTS[0] * ( (j) + Nxx_plus_2NGHOSTS[1] * ( (k) + Nxx_plus_2NGHOSTS[2] * (g) ) ) )\n",
      "    ^\n",
      "ScalarWave_Ccodes/ScalarWave_Playground_experiment.c:123:60: note: each undeclared identifier is reported only once for each function it appears in\n",
      "                         numerical_gridfunction_data[IDX4(0,i0,i1, (int)((Nxx[2]+ 2*NGHOSTS)*0.5))],\n",
      "                                                            ^\n",
      "ScalarWave_Ccodes/ScalarWave_Playground_experiment.c:21:4: note: in definition of macro 'IDX4'\n",
      " ( (i) + Nxx_plus_2NGHOSTS[0] * ( (j) + Nxx_plus_2NGHOSTS[1] * ( (k) + Nxx_plus_2NGHOSTS[2] * (g) ) ) )\n",
      "    ^\n",
      "Finished executing in 0.216416597366333 seconds.\n",
      "Next-to-most optimized compilation failed. Moving to maximally-compatible gcc compile option:\n",
      "Executing `gcc -O2 ScalarWave_Ccodes/ScalarWave_Playground_experiment.c -o ScalarWave_Playground_experiment.exe -lm`...\n",
      "ScalarWave_Ccodes/ScalarWave_Playground_experiment.c: In function 'output_2D':\n",
      "ScalarWave_Ccodes/ScalarWave_Playground_experiment.c:123:60: error: 'i0' undeclared (first use in this function)\n",
      "                         numerical_gridfunction_data[IDX4(0,i0,i1, (int)((Nxx[2]+ 2*NGHOSTS)*0.5))],\n",
      "                                                            ^\n",
      "ScalarWave_Ccodes/ScalarWave_Playground_experiment.c:21:4: note: in definition of macro 'IDX4'\n",
      " ( (i) + Nxx_plus_2NGHOSTS[0] * ( (j) + Nxx_plus_2NGHOSTS[1] * ( (k) + Nxx_plus_2NGHOSTS[2] * (g) ) ) )\n",
      "    ^\n",
      "ScalarWave_Ccodes/ScalarWave_Playground_experiment.c:123:60: note: each undeclared identifier is reported only once for each function it appears in\n",
      "                         numerical_gridfunction_data[IDX4(0,i0,i1, (int)((Nxx[2]+ 2*NGHOSTS)*0.5))],\n",
      "                                                            ^\n",
      "ScalarWave_Ccodes/ScalarWave_Playground_experiment.c:21:4: note: in definition of macro 'IDX4'\n",
      " ( (i) + Nxx_plus_2NGHOSTS[0] * ( (j) + Nxx_plus_2NGHOSTS[1] * ( (k) + Nxx_plus_2NGHOSTS[2] * (g) ) ) )\n",
      "    ^\n",
      "Finished executing in 0.21663212776184082 seconds.\n",
      "Sorry, compilation failed\n"
     ]
    },
    {
     "ename": "SystemExit",
     "evalue": "1",
     "output_type": "error",
     "traceback": [
      "An exception has occurred, use %tb to see the full traceback.\n",
      "\u001b[1;31mSystemExit\u001b[0m\u001b[1;31m:\u001b[0m 1\n"
     ]
    },
    {
     "name": "stderr",
     "output_type": "stream",
     "text": [
      "D:\\Anaconda3\\lib\\site-packages\\IPython\\core\\interactiveshell.py:3333: UserWarning: To exit: use 'exit', 'quit', or Ctrl-D.\n",
      "  warn(\"To exit: use 'exit', 'quit', or Ctrl-D.\", stacklevel=1)\n"
     ]
    }
   ],
   "source": [
    "import cmdline_helper as cmd\n",
    "import os\n",
    "outdir = os.path.join(\"ScalarWave_Ccodes/\")\n",
    "grid = \"50\"\n",
    "\n",
    "cmd.C_compile(os.path.join(outdir,\"ScalarWave_Playground_experiment.c\"), \"ScalarWave_Playground_experiment\")\n",
    "cmd.delete_existing_files(\"newboundout*.txt\")\n",
    "cmd.delete_existing_files(\"newboundout*.png\")\n",
    "cmd.Execute(\"ScalarWave_Playground_experiment\", grid, os.path.join(outdir,\"newboundout\"+grid+\".txt\"))"
   ]
  },
  {
   "cell_type": "code",
   "execution_count": null,
   "metadata": {},
   "outputs": [],
   "source": [
    "from mpl_toolkits import mplot3d\n",
    "from matplotlib.pyplot import savefig\n",
    "\n",
    "tmax = 2.4\n",
    "itermax = float(grid) * tmax \n",
    "i = 0\n",
    "while i <= itermax:\n",
    "    filename = \"out2D__resolution_\"+grid+\"x\"+grid+\"x\"+grid+\"__iter_\"+str(i)\n",
    "    x_iter_0,y_iter_0,num_0,exact_0 = file_reader(filename+\".txt\")\n",
    "    fig = plt.figure()\n",
    "    ax = plt.axes(projection='3d')\n",
    "    ax.set_xlabel('x_coord')\n",
    "    ax.set_ylabel('y_coord')\n",
    "    ax.set_zlabel('Numerical Soln.')\n",
    "    ax.set_title('ScalarWave 3D 50-resolution with new Boundary')\n",
    "\n",
    "    ax.scatter3D(x_iter_0,y_iter_0,num_0, c=num_0, cmap='Greens')\n",
    "    savefig(filename+\".png\",dpi=450)\n",
    "    plt.close(fig)\n",
    "    i += 5"
   ]
  },
  {
   "cell_type": "code",
   "execution_count": null,
   "metadata": {},
   "outputs": [],
   "source": [
    "import matplotlib.image as mgimg\n",
    "from matplotlib import animation\n",
    "\n",
    "fig = plt.figure(frameon=False)\n",
    "ax = fig.add_axes([0, 0, 1, 1])\n",
    "ax.axis('off')\n",
    "\n",
    "myimages = []\n",
    "\n",
    "i = 0\n",
    "while i <= itermax:\n",
    "    filename = \"out2D__resolution_\"+grid+\"x\"+grid+\"x\"+grid+\"__iter_\"+str(i)\n",
    "    img = mgimg.imread(filename+\".png\")\n",
    "    imgplot = plt.imshow(img)\n",
    "    myimages.append([imgplot])\n",
    "    i += 5\n",
    "\n",
    "ani = animation.ArtistAnimation(fig, myimages, interval=100,  repeat_delay=1000)\n",
    "plt.close()\n",
    "ani.save(\"New_Boundary_ScalarWave3D_\"+grid+\".mp4\", fps=5,dpi=450)"
   ]
  },
  {
   "cell_type": "code",
   "execution_count": null,
   "metadata": {},
   "outputs": [],
   "source": [
    "from IPython.display import HTML\n",
    "#the filename needed to be changed manually\n",
    "\n",
    "HTML(\"\"\"\n",
    "    <video width=\"480\" height=\"360\" controls>\n",
    "        <source src=\"New_Boundary_ScalarWave3D_50.mp4\" type=\"video/mp4\"> \n",
    "    </video>\n",
    "\"\"\")"
   ]
  },
  {
   "cell_type": "code",
   "execution_count": null,
   "metadata": {},
   "outputs": [],
   "source": [
    "from IPython.display import HTML\n",
    "#the filename needed to be changed manually\n",
    "\n",
    "HTML(\"\"\"\n",
    "    <video width=\"480\" height=\"360\" controls>\n",
    "        <source src=\"New_Boundary_ScalarWave3D_50_tmax_2dot4.mp4\" type=\"video/mp4\"> \n",
    "    </video>\n",
    "\"\"\")"
   ]
  },
  {
   "cell_type": "code",
   "execution_count": 14,
   "metadata": {},
   "outputs": [],
   "source": [
    "i = 0\n",
    "while i <= itermax:\n",
    "    filename = \"out2D__resolution_\"+grid+\"x\"+grid+\"x\"+grid+\"__iter_\"+str(i)\n",
    "    x_iter_0,y_iter_0,num_0,exact_0 = file_reader(filename+\".txt\")\n",
    "    \n",
    "    twoDimValue = []\n",
    "    j = 0\n",
    "    while j <= 50:\n",
    "        array = []\n",
    "        k = j * 51\n",
    "        while k <= j * 51 + 50:\n",
    "            array.append(num_0[k])\n",
    "            k += 1\n",
    "        twoDimValue.append(array)\n",
    "        j += 1\n",
    "    \n",
    "    fig = plt.figure()\n",
    "    plt.title(\"ScalarWave 2D 50-resolution with new boundary\")\n",
    "    plt.xlabel(\"x_coord\")\n",
    "    plt.ylabel(\"y_coord\")\n",
    "\n",
    "    im = plt.imshow(twoDimValue, extent=(-10,10,-10,10))\n",
    "    ax = plt.colorbar()\n",
    "    ax.set_label(\"Numerical Soln.\")\n",
    "    \n",
    "    savefig(filename+\"_2D\"+\".png\",dpi=450)\n",
    "    plt.close(fig)\n",
    "    i += 5"
   ]
  },
  {
   "cell_type": "code",
   "execution_count": 15,
   "metadata": {},
   "outputs": [],
   "source": [
    "fig = plt.figure(frameon=False)\n",
    "ax = fig.add_axes([0, 0, 1, 1])\n",
    "ax.axis('off')\n",
    "\n",
    "myimages = []\n",
    "\n",
    "i = 0\n",
    "while i <= itermax:\n",
    "    filename = \"out2D__resolution_\"+grid+\"x\"+grid+\"x\"+grid+\"__iter_\"+str(i)\n",
    "    img = mgimg.imread(filename+\"_2D\"+\".png\")\n",
    "    imgplot = plt.imshow(img)\n",
    "    myimages.append([imgplot])\n",
    "    i += 5\n",
    "\n",
    "ani = animation.ArtistAnimation(fig, myimages, interval=100,  repeat_delay=1000)\n",
    "plt.close()\n",
    "ani.save(\"New Boundary2 ScalarWave2D_\"+grid+\".mp4\", fps=5,dpi=450)"
   ]
  },
  {
   "cell_type": "code",
   "execution_count": 37,
   "metadata": {},
   "outputs": [
    {
     "data": {
      "text/html": [
       "\n",
       "    <video width=\"480\" height=\"360\" controls>\n",
       "        <source src=\"New Boundary ScalarWave2D_50.mp4\" type=\"video/mp4\"> \n",
       "    </video>\n"
      ],
      "text/plain": [
       "<IPython.core.display.HTML object>"
      ]
     },
     "execution_count": 37,
     "metadata": {},
     "output_type": "execute_result"
    }
   ],
   "source": [
    "#the filename needed to be changed manually\n",
    "\n",
    "HTML(\"\"\"\n",
    "    <video width=\"480\" height=\"360\" controls>\n",
    "        <source src=\"New Boundary ScalarWave2D_50.mp4\" type=\"video/mp4\"> \n",
    "    </video>\n",
    "\"\"\")"
   ]
  },
  {
   "cell_type": "code",
   "execution_count": 16,
   "metadata": {},
   "outputs": [
    {
     "data": {
      "text/html": [
       "\n",
       "    <video width=\"480\" height=\"360\" controls>\n",
       "        <source src=\"New Boundary2 ScalarWave2D_50.mp4\" type=\"video/mp4\"> \n",
       "    </video>\n"
      ],
      "text/plain": [
       "<IPython.core.display.HTML object>"
      ]
     },
     "execution_count": 16,
     "metadata": {},
     "output_type": "execute_result"
    }
   ],
   "source": [
    "#the filename needed to be changed manually\n",
    "\n",
    "HTML(\"\"\"\n",
    "    <video width=\"480\" height=\"360\" controls>\n",
    "        <source src=\"New Boundary2 ScalarWave2D_50.mp4\" type=\"video/mp4\"> \n",
    "    </video>\n",
    "\"\"\")"
   ]
  },
  {
   "cell_type": "code",
   "execution_count": null,
   "metadata": {},
   "outputs": [],
   "source": []
  }
 ],
 "metadata": {
  "kernelspec": {
   "display_name": "Python 3",
   "language": "python",
   "name": "python3"
  },
  "language_info": {
   "codemirror_mode": {
    "name": "ipython",
    "version": 3
   },
   "file_extension": ".py",
   "mimetype": "text/x-python",
   "name": "python",
   "nbconvert_exporter": "python",
   "pygments_lexer": "ipython3",
   "version": "3.7.3"
  }
 },
 "nbformat": 4,
 "nbformat_minor": 4
}
